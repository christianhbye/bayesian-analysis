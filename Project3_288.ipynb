{
  "cells": [
    {
      "cell_type": "markdown",
      "metadata": {
        "id": "view-in-github",
        "colab_type": "text"
      },
      "source": [
        "<a href=\"https://colab.research.google.com/github/christianhbye/bayesian-analysis/blob/main/Project3_288.ipynb\" target=\"_parent\"><img src=\"https://colab.research.google.com/assets/colab-badge.svg\" alt=\"Open In Colab\"/></a>"
      ]
    },
    {
      "cell_type": "markdown",
      "metadata": {
        "id": "UqFusKgjm4Wo"
      },
      "source": [
        "## Project 3\n",
        "\n",
        "## <em> Classification and inference with machine learning</em>\n",
        "<br>\n",
        "This notebook is arranged in cells. Texts are usually written in the markdown cells, and here you can use html tags (make it bold, italic, colored, etc). You can double click on this cell to see the formatting.<br>\n",
        "<br>\n",
        "The ellipsis (...) are provided where you are expected to write your solution but feel free to change the template (not over much) in case this style is not to your taste. <br>\n",
        "<br>\n",
        "<em>Hit \"Shift-Enter\" on a code cell to evaluate it.  Double click a Markdown cell to edit. </em><br>"
      ]
    },
    {
      "cell_type": "markdown",
      "metadata": {
        "id": "XcIoVSSum4Wp"
      },
      "source": [
        "# **Write your partner's name here (if you have one).**\n",
        "\n",
        "# **NOTE: You can work in pairs and exchange ideas, BUT you must run codes in your colab (or local) environment and submit your own work.**\n",
        "\n",
        "# **NOTE2: Project 3 is STRICTLY due 11:59pm, 12/16.**\n"
      ]
    },
    {
      "cell_type": "markdown",
      "metadata": {
        "id": "Gil-xwxcm4Wq"
      },
      "source": [
        "***\n",
        "### Mounting Google Drive locally\n",
        "Mount your Google Drive on your runtime using an authorization code.\n",
        "\n",
        "Note: When using the 'Mount Drive' button in the file browser, no authentication codes are necessary for notebooks that have only been edited by the current user."
      ]
    },
    {
      "cell_type": "code",
      "execution_count": 1,
      "metadata": {
        "collapsed": true,
        "id": "7ekjj33Xm4Wr",
        "colab": {
          "base_uri": "https://localhost:8080/"
        },
        "outputId": "617fdac3-0ed1-4875-84a6-7ed9cda0bb90"
      },
      "outputs": [
        {
          "output_type": "stream",
          "name": "stdout",
          "text": [
            "Mounted at /content/drive\n"
          ]
        }
      ],
      "source": [
        "from google.colab import drive\n",
        "drive.mount('/content/drive')"
      ]
    },
    {
      "cell_type": "markdown",
      "metadata": {
        "id": "zdIDXoyGm4Wr"
      },
      "source": [
        "### Imports"
      ]
    },
    {
      "cell_type": "code",
      "execution_count": 2,
      "metadata": {
        "collapsed": true,
        "id": "BBdZAKDfm4Wr"
      },
      "outputs": [],
      "source": [
        "import numpy as np\n",
        "from scipy.integrate import quad\n",
        "#For plotting\n",
        "import matplotlib.pyplot as plt\n",
        "%matplotlib inline\n",
        "import warnings\n",
        "warnings.filterwarnings('ignore')"
      ]
    },
    {
      "cell_type": "markdown",
      "metadata": {
        "collapsed": true,
        "id": "N-kL7Amim4Wy"
      },
      "source": [
        "***"
      ]
    },
    {
      "cell_type": "markdown",
      "metadata": {
        "id": "Pygu-aimm4Wz"
      },
      "source": [
        "#### Problem 1 - Using Keras - MNIST\n",
        "\n",
        "The goal of this notebook is to introduce deep neural networks (DNNs) and convolutional neural networks (CNNs) using the high-level Keras package and to become familiar with how to choose its architecture, cost function, and optimizer in Keras. We will also learn how to train neural networks.\n",
        "\n",
        "We will once again work with the MNIST dataset of hand written digits introduced in earlier HW. The goal is to find a statistical model which recognizes and distinguishes between the ten handwritten digits (0-9).\n",
        "\n",
        "The MNIST dataset comprises handwritten digits, each of which comes in a square image, divided into a $28\\times 28$ pixel grid. Every pixel can take on $256$ nuances of the gray color, interpolating between white and black, and hence each data point assumes any value in the set $\\{0,1,\\dots,255\\}$. Since there are $10$ categories in the problem, corresponding to the ten digits, this problem represents a generic classification task. \n",
        "\n",
        "In this Notebook, we show how to use the Keras python package to tackle the MNIST problem with the help of deep neural networks."
      ]
    },
    {
      "cell_type": "markdown",
      "metadata": {
        "id": "UBt8OClGm4Wz"
      },
      "source": [
        "## Creating DNNs with Keras\n",
        "\n",
        "Constructing a Deep Neural Network to solve ML problems is a multiple-stage process. Quite generally, one can identify the key steps as follows:\n",
        "\n",
        "* ***step 1:*** Load and process the data\n",
        "* ***step 2:*** Define the model and its architecture\n",
        "* ***step 3:*** Choose the optimizer and the cost function\n",
        "* ***step 4:*** Train the model \n",
        "* ***step 5:*** Evaluate the model performance on the *unseen* test data\n",
        "* ***step 6:*** Modify the hyperparameters to optimize performance for the specific data set\n",
        "\n",
        "We would like to emphasize that, while it is always possible to view steps 1-5 as independent of the particular task we are trying to solve, it is only when they are put together in ***step 6*** that the real gain of using Deep Learning is revealed, compared to less sophisticated methods such as the regression models. With this remark in mind, we shall focus predominantly on steps 1-5 below. We show how one can use grid search methods to find optimal hyperparameters in ***step 6***."
      ]
    },
    {
      "cell_type": "markdown",
      "metadata": {
        "id": "A-IreQEsm4W0"
      },
      "source": [
        "### Step 1: Load and Process the Data\n",
        "\n",
        "Keras knows to download automatically the MNIST data from the web. All we need to do is import the `mnist` module and use the `load_data()` class, and it will create the training and test data sets or us.\n",
        "\n",
        "The MNIST set has pre-defined test and training sets, in order to facilitate the comparison of the performance of different models on the data.\n",
        "\n",
        "Once we have loaded the data, we need to format it in the correct shape ($({\\mathrm{N_{samples}}}, {\\mathrm{N_{features}}})$). \n",
        "\n",
        "The size of each sample, i.e. the number of bare features used is N_features (whis is 784 because we have a $28 \\times 28$ pixel grid), while the number of potential classification categories is \"num_classes\" (which is 10, number of digits).\n",
        "\n",
        "Each pixel\n",
        "contains a greyscale value quantified by an integer between\n",
        "0 and 255. To standardize the dataset, we normalize\n",
        "the input data in the interval [0, 1]. "
      ]
    },
    {
      "cell_type": "code",
      "source": [
        "!python --version"
      ],
      "metadata": {
        "colab": {
          "base_uri": "https://localhost:8080/"
        },
        "id": "wmiP3AJdnGj_",
        "outputId": "4acc37a7-c487-417b-fddb-729fb676cd17"
      },
      "execution_count": null,
      "outputs": [
        {
          "output_type": "stream",
          "name": "stdout",
          "text": [
            "Python 3.8.16\n"
          ]
        }
      ]
    },
    {
      "cell_type": "code",
      "execution_count": null,
      "metadata": {
        "collapsed": true,
        "id": "tAGVMHfFm4W1"
      },
      "outputs": [],
      "source": [
        "!pip install tensorflow\n",
        "!pip install keras\n",
        "!pip install scikit-learn"
      ]
    },
    {
      "cell_type": "code",
      "execution_count": null,
      "metadata": {
        "collapsed": true,
        "id": "fOMFoEjDm4W1"
      },
      "outputs": [],
      "source": [
        "from __future__ import print_function\n",
        "import keras\n",
        "import sklearn\n",
        "# suppress tensorflow compilation warnings\n",
        "import os\n",
        "import tensorflow as tf\n",
        "os.environ['TF_CPP_MIN_LOG_LEVEL'] = '2'\n",
        "seed=0\n",
        "np.random.seed(seed) # fix random seed\n",
        "tf.random.set_seed(seed)\n",
        "\n",
        "from keras.datasets import mnist\n",
        "\n",
        "# input image dimensions\n",
        "num_classes = 10 # 10 digits\n",
        "\n",
        "img_rows, img_cols = 28, 28 # number of pixels \n",
        "\n",
        "# the data, shuffled and split between train and test sets\n",
        "(X_train, Y_train), (X_test, Y_test) = mnist.load_data()\n",
        "X_train = X_train[:40000]\n",
        "Y_train = Y_train[:40000]\n",
        "\n",
        "# reshape data, depending on Keras backend\n",
        "X_train = X_train.reshape(X_train.shape[0], img_rows*img_cols)\n",
        "X_test = X_test.reshape(X_test.shape[0], img_rows*img_cols)\n",
        "    \n",
        "# cast floats to single precesion\n",
        "X_train = X_train.astype('float32')\n",
        "X_test = X_test.astype('float32')\n",
        "\n",
        "# rescale data in interval [0,1]\n",
        "X_train /= 255\n",
        "X_test /= 255\n"
      ]
    },
    {
      "cell_type": "markdown",
      "metadata": {
        "id": "eRnHiyWqm4W2"
      },
      "source": [
        "<span style=\"color:blue\"> <i> 1. Make a plot of one MNIST digit (2D plot using X data - make sure to reshape it into a $28 \\times 28$ matrix) and label it (which digit does it correspond to?). </i></span> <br>"
      ]
    },
    {
      "cell_type": "code",
      "execution_count": null,
      "metadata": {
        "colab": {
          "base_uri": "https://localhost:8080/",
          "height": 431
        },
        "id": "QgNqeBl9m4W2",
        "outputId": "e943173b-a5af-4d8c-eba1-ef36b0fefd9b"
      },
      "outputs": [
        {
          "output_type": "display_data",
          "data": {
            "text/plain": [
              "<Figure size 504x504 with 1 Axes>"
            ],
            "image/png": "[encoded data removed]"
          },
          "metadata": {}
        }
      ],
      "source": [
        "plot_ix = 0  # which image to plot\n",
        "plt.figure(figsize=(7, 7))\n",
        "plt.imshow(X_train[plot_ix].reshape(28, 28))\n",
        "plt.title(f\"Label: {Y_train[plot_ix]}\")\n",
        "plt.xticks([])\n",
        "plt.yticks([])\n",
        "plt.show()"
      ]
    },
    {
      "cell_type": "markdown",
      "metadata": {
        "id": "-Edph9JUm4W2"
      },
      "source": [
        "Last, we cast the label vectors $y$ to binary class matrices (a.k.a. one-hot format)."
      ]
    },
    {
      "cell_type": "code",
      "execution_count": null,
      "metadata": {
        "colab": {
          "base_uri": "https://localhost:8080/"
        },
        "id": "SMcer2Jym4W2",
        "outputId": "fa6e9421-bc11-4d4a-e33c-1a09e44d8312"
      },
      "outputs": [
        {
          "output_type": "stream",
          "name": "stdout",
          "text": [
            "before conversion - \n",
            "y vector :  [5 0 4 1 9 2 1 3 1 4]\n",
            "after conversion - \n",
            "y vector :  [[0. 0. 0. 0. 0. 1. 0. 0. 0. 0.]\n",
            " [1. 0. 0. 0. 0. 0. 0. 0. 0. 0.]\n",
            " [0. 0. 0. 0. 1. 0. 0. 0. 0. 0.]\n",
            " [0. 1. 0. 0. 0. 0. 0. 0. 0. 0.]\n",
            " [0. 0. 0. 0. 0. 0. 0. 0. 0. 1.]\n",
            " [0. 0. 1. 0. 0. 0. 0. 0. 0. 0.]\n",
            " [0. 1. 0. 0. 0. 0. 0. 0. 0. 0.]\n",
            " [0. 0. 0. 1. 0. 0. 0. 0. 0. 0.]\n",
            " [0. 1. 0. 0. 0. 0. 0. 0. 0. 0.]\n",
            " [0. 0. 0. 0. 1. 0. 0. 0. 0. 0.]]\n"
          ]
        }
      ],
      "source": [
        "# convert class vectors to binary class matrices\n",
        "\n",
        "print(\"before conversion - \")\n",
        "print(\"y vector : \", Y_train[0:10])\n",
        "\n",
        "Y_train = keras.utils.to_categorical(Y_train, num_classes)\n",
        "Y_test = keras.utils.to_categorical(Y_test, num_classes)\n",
        "\n",
        "print(\"after conversion - \")\n",
        "print(\"y vector : \", Y_train[0:10])"
      ]
    },
    {
      "cell_type": "markdown",
      "metadata": {
        "id": "Eucymn5om4W2"
      },
      "source": [
        "Here in this template, we use 40000 training samples and 10000 test samples. Remember that we preprocessed data into the shape $({\\mathrm{N_{samples}}}, {\\mathrm{N_{features}}})$."
      ]
    },
    {
      "cell_type": "code",
      "execution_count": null,
      "metadata": {
        "colab": {
          "base_uri": "https://localhost:8080/"
        },
        "id": "FJx7CWvsm4W3",
        "outputId": "61b149ab-60d0-468f-d343-5c5e778d9ab6"
      },
      "outputs": [
        {
          "output_type": "stream",
          "name": "stdout",
          "text": [
            "X_train shape: (40000, 784)\n",
            "Y_train shape: (40000, 10)\n",
            "\n",
            "40000 train samples\n",
            "10000 test samples\n"
          ]
        }
      ],
      "source": [
        "print('X_train shape:', X_train.shape)\n",
        "print('Y_train shape:', Y_train.shape)\n",
        "print()\n",
        "print(X_train.shape[0], 'train samples')\n",
        "print(X_test.shape[0], 'test samples')"
      ]
    },
    {
      "cell_type": "markdown",
      "metadata": {
        "id": "6bdDpaapm4W3"
      },
      "source": [
        "### Step 2: Define the Neural Net and its Architecture\n",
        "\n",
        "We can now move on to construct our deep neural net. We shall use Keras's `Sequential()` class to instantiate a model, and will add different deep layers one by one.\n",
        "\n",
        "Let us create an instance of Keras' `Sequential()` class, called `model`. As the name suggests, this class allows us to build DNNs layer by layer. (https://keras.io/getting-started/sequential-model-guide/)"
      ]
    },
    {
      "cell_type": "code",
      "execution_count": null,
      "metadata": {
        "collapsed": true,
        "id": "LheFOkdgm4W3"
      },
      "outputs": [],
      "source": [
        "from keras.models import Sequential\n",
        "from keras.layers import Dense, Dropout, Flatten\n",
        "from keras.layers import Conv2D, MaxPooling2D\n",
        "\n",
        "# instantiate model\n",
        "model = Sequential()"
      ]
    },
    {
      "cell_type": "markdown",
      "metadata": {
        "id": "LoJuLk2Sm4W3"
      },
      "source": [
        "We use the `add()` method to attach layers to our model. For the purposes of our introductory example, it suffices to focus on `Dense` layers for simplicity. (https://keras.io/layers/core/) Every `Dense()` layer accepts as its first required argument an integer which specifies the number of neurons. The type of activation function for the layer is defined using the `activation` optional argument, the input of which is the name of the activation function in `string` format. Examples include `relu`, `tanh`, `elu`, `sigmoid`, `softmax`.\n",
        "\n",
        "In order for our DNN to work properly, we have to make sure that the numbers of input and output neurons for each layer match. Therefore, we specify the shape of the input in the first layer of the model explicitly using the optional argument `input_shape=(N_features,)`. The sequential construction of the model then allows Keras to infer the correct input/output dimensions of all hidden layers automatically. Hence, we only need to specify the size of the softmax output layer to match the number of categories.\n",
        "\n",
        "First, add a `Dense` layer with 400 output neurons and `relu` activation function."
      ]
    },
    {
      "cell_type": "code",
      "execution_count": null,
      "metadata": {
        "collapsed": true,
        "id": "loCDd7zsm4W3"
      },
      "outputs": [],
      "source": [
        "model.add(Dense(400,input_shape=(img_rows*img_cols,), activation='relu'))"
      ]
    },
    {
      "cell_type": "markdown",
      "metadata": {
        "id": "ZhUtHWcem4W3"
      },
      "source": [
        "Add another layer with 100 output neurons. Then, we will apply \"dropout,\" a regularization scheme that has been widely adopted in the neural networks literature: during the training procedure neurons\n",
        "are randomly “dropped out” of the neural network with some\n",
        "probability $p$ giving rise to a thinned network. It prevents overfitting by reducing spurious correlations between neurons within the network by introducing\n",
        "a randomization procedure."
      ]
    },
    {
      "cell_type": "code",
      "execution_count": null,
      "metadata": {
        "collapsed": true,
        "id": "XuYYSxOcm4W4"
      },
      "outputs": [],
      "source": [
        "model.add(Dense(100, activation='relu'))\n",
        "# apply dropout with rate 0.5\n",
        "model.add(Dropout(0.5))"
      ]
    },
    {
      "cell_type": "markdown",
      "metadata": {
        "id": "lrAe2O58m4W4"
      },
      "source": [
        "Lastly, we need to add a soft-max layer since we have a multi-class output."
      ]
    },
    {
      "cell_type": "code",
      "execution_count": null,
      "metadata": {
        "collapsed": true,
        "id": "11eeQWHgm4W4"
      },
      "outputs": [],
      "source": [
        "model.add(Dense(num_classes, activation='softmax'))"
      ]
    },
    {
      "cell_type": "markdown",
      "metadata": {
        "id": "eTPv5Y_fm4W4"
      },
      "source": [
        "### Step 3: Choose the Optimizer and the Cost Function\n",
        "\n",
        "Next, we choose the loss function according to which to train the DNN. For classification problems, this is the cross entropy, and since the output data was cast in categorical form, we choose the `categorical_crossentropy` defined in Keras' `losses` module. Depending on the problem of interest one can pick any other suitable loss function. To optimize the weights of the net, we choose SGD. This algorithm is already available to use under Keras' `optimizers` module (https://keras.io/optimizers/), but we could use `Adam()` or any other built-in one as well. The parameters for the optimizer, such as `lr` (learning rate) or `momentum` are passed using the corresponding optional arguments of the `SGD()` function. \n",
        "\n",
        "While the loss function and the optimizer are essential for the training procedure, to test the performance of the model one may want to look at a particular `metric` of performance. For instance, in categorical tasks one typically looks at their `accuracy`, which is defined as the percentage of correctly classified data points. \n",
        "\n",
        "To complete the definition of our model, we use the `compile()` method, with optional arguments for the `optimizer`, `loss`, and the validation `metric` as follows:"
      ]
    },
    {
      "cell_type": "code",
      "execution_count": null,
      "metadata": {
        "collapsed": true,
        "id": "lZJhlsjEm4W4"
      },
      "outputs": [],
      "source": [
        "# compile the model\n",
        "model.compile(loss=keras.losses.categorical_crossentropy, optimizer='SGD', metrics=['accuracy'])\n"
      ]
    },
    {
      "cell_type": "markdown",
      "metadata": {
        "id": "4Y7hip8Om4W5"
      },
      "source": [
        "### Step 4: Train the model\n",
        "\n",
        "We train our DNN in minibatches. Shuffling the training data during training improves stability of the model. Thus, we train over a number of training epochs. \n",
        "\n",
        "(The number of epochs is the number of complete passes through the training dataset, and the batch size is a number of samples propagated through the network before the model is updated.)\n",
        "\n",
        "Training the DNN is a one-liner using the `fit()` method of the `Sequential` class. The first two required arguments are the training input and output data. As optional arguments, we specify the mini-`batch_size`, the number of training `epochs`, and the test or validation data. To monitor the training procedure for every epoch, we set `verbose=True`. \n",
        "\n",
        "Let us set `batch_size` = 64 and `epochs` = 10."
      ]
    },
    {
      "cell_type": "code",
      "execution_count": null,
      "metadata": {
        "colab": {
          "base_uri": "https://localhost:8080/"
        },
        "id": "7CE7Ojogm4W5",
        "outputId": "ee102397-6907-43f6-9755-c3c836343c39"
      },
      "outputs": [
        {
          "output_type": "stream",
          "name": "stdout",
          "text": [
            "Epoch 1/10\n",
            "625/625 [==============================] - 8s 11ms/step - loss: 1.1477 - accuracy: 0.6638 - val_loss: 0.4893 - val_accuracy: 0.8880\n",
            "Epoch 2/10\n",
            "625/625 [==============================] - 9s 14ms/step - loss: 0.5630 - accuracy: 0.8399 - val_loss: 0.3485 - val_accuracy: 0.9100\n",
            "Epoch 3/10\n",
            "625/625 [==============================] - 8s 13ms/step - loss: 0.4566 - accuracy: 0.8716 - val_loss: 0.2980 - val_accuracy: 0.9191\n",
            "Epoch 4/10\n",
            "625/625 [==============================] - 5s 8ms/step - loss: 0.3976 - accuracy: 0.8878 - val_loss: 0.2686 - val_accuracy: 0.9269\n",
            "Epoch 5/10\n",
            "625/625 [==============================] - 5s 8ms/step - loss: 0.3659 - accuracy: 0.8982 - val_loss: 0.2474 - val_accuracy: 0.9314\n",
            "Epoch 6/10\n",
            "625/625 [==============================] - 5s 8ms/step - loss: 0.3342 - accuracy: 0.9052 - val_loss: 0.2304 - val_accuracy: 0.9366\n",
            "Epoch 7/10\n",
            "625/625 [==============================] - 5s 8ms/step - loss: 0.3099 - accuracy: 0.9123 - val_loss: 0.2156 - val_accuracy: 0.9392\n",
            "Epoch 8/10\n",
            "625/625 [==============================] - 5s 8ms/step - loss: 0.2943 - accuracy: 0.9175 - val_loss: 0.2029 - val_accuracy: 0.9411\n",
            "Epoch 9/10\n",
            "625/625 [==============================] - 5s 7ms/step - loss: 0.2777 - accuracy: 0.9219 - val_loss: 0.1922 - val_accuracy: 0.9443\n",
            "Epoch 10/10\n",
            "625/625 [==============================] - 5s 8ms/step - loss: 0.2627 - accuracy: 0.9266 - val_loss: 0.1851 - val_accuracy: 0.9456\n"
          ]
        }
      ],
      "source": [
        "# training parameters\n",
        "batch_size = 64\n",
        "epochs = 10\n",
        "\n",
        "# train DNN and store training info in history\n",
        "history=model.fit(X_train, Y_train, batch_size=batch_size, epochs=epochs,\n",
        "          verbose=1, validation_data=(X_test, Y_test))"
      ]
    },
    {
      "cell_type": "markdown",
      "metadata": {
        "id": "v61-kPrHm4W5"
      },
      "source": [
        "### Step 5: Evaluate the Model Performance on the *Unseen* Test Data\n",
        "\n",
        "Next, we evaluate the model and read of the loss on the test data, and its accuracy using the `evaluate()` method."
      ]
    },
    {
      "cell_type": "code",
      "execution_count": null,
      "metadata": {
        "colab": {
          "base_uri": "https://localhost:8080/",
          "height": 593
        },
        "id": "QyKMVQGGm4W5",
        "outputId": "305e5547-72ba-4791-96c8-11666a7d38ca"
      },
      "outputs": [
        {
          "output_type": "stream",
          "name": "stdout",
          "text": [
            "313/313 [==============================] - 2s 5ms/step - loss: 0.1851 - accuracy: 0.9456\n",
            "Test loss: 0.18514470756053925\n",
            "Test accuracy: 0.9455999732017517\n"
          ]
        },
        {
          "output_type": "display_data",
          "data": {
            "text/plain": [
              "<Figure size 432x288 with 1 Axes>"
            ],
            "image/png": "[encoded data removed]"
          },
          "metadata": {
            "needs_background": "light"
          }
        },
        {
          "output_type": "display_data",
          "data": {
            "text/plain": [
              "<Figure size 432x288 with 1 Axes>"
            ],
            "image/png": "[encoded data removed]"
          },
          "metadata": {
            "needs_background": "light"
          }
        }
      ],
      "source": [
        "# evaluate model\n",
        "score = model.evaluate(X_test, Y_test, verbose=1)\n",
        "\n",
        "# print performance\n",
        "print('Test loss:', score[0])\n",
        "print('Test accuracy:', score[1])\n",
        "\n",
        "# look into training history\n",
        "\n",
        "# summarize history for accuracy\n",
        "plt.plot(history.history['accuracy'])\n",
        "plt.plot(history.history['val_accuracy'])\n",
        "plt.ylabel('model accuracy')\n",
        "plt.xlabel('epoch')\n",
        "plt.legend(['train', 'test'], loc='best')\n",
        "plt.show()\n",
        "\n",
        "# summarize history for loss\n",
        "plt.plot(history.history['loss'])\n",
        "plt.plot(history.history['val_loss'])\n",
        "plt.ylabel('model loss')\n",
        "plt.xlabel('epoch')\n",
        "plt.legend(['train', 'test'], loc='best')\n",
        "plt.show()"
      ]
    },
    {
      "cell_type": "markdown",
      "metadata": {
        "id": "xaiC3lG4m4W6"
      },
      "source": [
        "### Step 6: Modify the Hyperparameters to Optimize Performance of the Model\n",
        "\n",
        "Last, we show how to use the grid search option of scikit-learn (https://scikit-learn.org/stable/modules/generated/sklearn.model_selection.GridSearchCV.html) to optimize the \n",
        "hyperparameters of our model.\n",
        "\n",
        "First, define a function for crating a DNN:"
      ]
    },
    {
      "cell_type": "code",
      "execution_count": null,
      "metadata": {
        "collapsed": true,
        "id": "6GF9cXQ1m4W6"
      },
      "outputs": [],
      "source": [
        "def create_DNN(optimizer=keras.optimizers.Adam()):\n",
        "    model = Sequential()\n",
        "    model.add(Dense(400,input_shape=(img_rows*img_cols,), activation='relu'))\n",
        "    model.add(Dense(100, activation='relu'))\n",
        "    model.add(Dropout(0.5))\n",
        "    model.add(Dense(num_classes, activation='softmax'))\n",
        "    model.compile(loss=keras.losses.categorical_crossentropy,\n",
        "              optimizer=optimizer,\n",
        "              metrics=['accuracy'])\n",
        "    return model"
      ]
    },
    {
      "cell_type": "markdown",
      "metadata": {
        "id": "T6veawDYm4W6"
      },
      "source": [
        "With epochs = 1 and batch_size = 64, do grid search over the following optimization schemes: ['SGD', 'RMSprop', 'Adagrad', 'Adadelta', 'Adam', 'Adamax', 'Nadam']."
      ]
    },
    {
      "cell_type": "code",
      "execution_count": null,
      "metadata": {
        "collapsed": true,
        "scrolled": false,
        "id": "KzV_L3bCm4W6"
      },
      "outputs": [],
      "source": [
        "from sklearn.model_selection import GridSearchCV\n",
        "from keras.wrappers.scikit_learn import KerasClassifier\n",
        "\n",
        "batch_size = 64\n",
        "epochs = 1\n",
        "model_gridsearch = KerasClassifier(build_fn=create_DNN, \n",
        "                        epochs=epochs, batch_size=batch_size, verbose=1)\n",
        "\n",
        "# list of allowed optional arguments for the optimizer, see `compile_model()`\n",
        "optimizer = ['SGD', 'RMSprop', 'Adagrad', 'Adadelta', 'Adam', 'Adamax', 'Nadam']\n",
        "# define parameter dictionary\n",
        "param_grid = dict(optimizer=optimizer)\n",
        "\n",
        "# call scikit grid search module\n",
        "grid = GridSearchCV(estimator=model_gridsearch, param_grid=param_grid, n_jobs=1, cv=4)\n",
        "grid_result = grid.fit(X_train,Y_train)"
      ]
    },
    {
      "cell_type": "markdown",
      "metadata": {
        "id": "ON2LhAJXm4W6"
      },
      "source": [
        "Show the mean test score of all optimization schemes and determine which scheme gives the best accuracy."
      ]
    },
    {
      "cell_type": "code",
      "execution_count": null,
      "metadata": {
        "colab": {
          "base_uri": "https://localhost:8080/"
        },
        "id": "26GoVVPhm4W6",
        "outputId": "a9fa187a-4ce0-402b-fa16-5e7e70a8f19c"
      },
      "outputs": [
        {
          "output_type": "stream",
          "name": "stdout",
          "text": [
            "Best: 0.948300 using {'optimizer': 'Nadam'}\n",
            "0.847050 (0.003889) with: {'optimizer': 'SGD'}\n",
            "0.944975 (0.003210) with: {'optimizer': 'RMSprop'}\n",
            "0.727675 (0.011376) with: {'optimizer': 'Adagrad'}\n",
            "0.128175 (0.020529) with: {'optimizer': 'Adadelta'}\n",
            "0.947100 (0.001111) with: {'optimizer': 'Adam'}\n",
            "0.923450 (0.002658) with: {'optimizer': 'Adamax'}\n",
            "0.948300 (0.001776) with: {'optimizer': 'Nadam'}\n"
          ]
        }
      ],
      "source": [
        "# summarize results\n",
        "print(\"Best: %f using %s\" % (grid_result.best_score_, grid_result.best_params_))\n",
        "means = grid_result.cv_results_['mean_test_score']\n",
        "stds = grid_result.cv_results_['std_test_score']\n",
        "params = grid_result.cv_results_['params']\n",
        "for mean, stdev, param in zip(means, stds, params):\n",
        "    print(\"%f (%f) with: %r\" % (mean, stdev, param))"
      ]
    },
    {
      "cell_type": "markdown",
      "metadata": {
        "id": "iepeMeW3m4W7"
      },
      "source": [
        "<span style=\"color:blue\"> <i> 2. Create a DNN with one Dense layer having 200 output neurons. Do the grid search over any 5 different activation functions from https://keras.io/activations/. Let epochs = 1, batches = 64, p_dropout=0.5, and optimizer=keras.optimizers.Adam().  Make sure to print the mean test score of each case and determine which activation functions gives the best accuracy. </i></span> <br>\n"
      ]
    },
    {
      "cell_type": "code",
      "execution_count": null,
      "metadata": {
        "collapsed": true,
        "id": "v0mK0gjBm4W7"
      },
      "outputs": [],
      "source": [
        "# make a new function for creating a DNN with variable activation function\n",
        "def create_DNN(activation=\"relu\"):\n",
        "    model = Sequential()\n",
        "    model.add(Dense(200,input_shape=(img_rows*img_cols,), activation=activation))\n",
        "    model.add(Dropout(0.5))\n",
        "    model.add(Dense(num_classes, activation='softmax'))\n",
        "    model.compile(loss=keras.losses.categorical_crossentropy,\n",
        "              optimizer=keras.optimizers.Adam(),\n",
        "              metrics=['accuracy'])\n",
        "    return model\n",
        "\n",
        "batch_size = 64\n",
        "epochs = 1\n",
        "model_gridsearch = KerasClassifier(build_fn=create_DNN, \n",
        "                        epochs=epochs, batch_size=batch_size, verbose=1)\n",
        "\n",
        "# list of allowed optional arguments for the optimizer, see `compile_model()`\n",
        "activations = ['relu', 'tanh', 'sigmoid', 'selu', 'exponential']\n",
        "# define parameter dictionary\n",
        "param_grid = dict(activation=activations)\n",
        "\n",
        "# call scikit grid search module\n",
        "grid = GridSearchCV(estimator=model_gridsearch, param_grid=param_grid, n_jobs=1, cv=4)\n",
        "grid_result = grid.fit(X_train,Y_train)"
      ]
    },
    {
      "cell_type": "code",
      "source": [
        "# summarize results\n",
        "print(\"Best: %f using %s\" % (grid_result.best_score_, grid_result.best_params_))\n",
        "means = grid_result.cv_results_['mean_test_score']\n",
        "stds = grid_result.cv_results_['std_test_score']\n",
        "params = grid_result.cv_results_['params']\n",
        "for mean, stdev, param in zip(means, stds, params):\n",
        "    print(\"%f (%f) with: %r\" % (mean, stdev, param))"
      ],
      "metadata": {
        "colab": {
          "base_uri": "https://localhost:8080/"
        },
        "id": "SDbWEp5UsKot",
        "outputId": "34af6c10-d814-479f-f8b4-c04b540d3b53"
      },
      "execution_count": null,
      "outputs": [
        {
          "output_type": "stream",
          "name": "stdout",
          "text": [
            "Best: 0.931450 using {'activation': 'relu'}\n",
            "0.931450 (0.001792) with: {'activation': 'relu'}\n",
            "0.911375 (0.003106) with: {'activation': 'tanh'}\n",
            "0.895300 (0.001366) with: {'activation': 'sigmoid'}\n",
            "0.905050 (0.006793) with: {'activation': 'selu'}\n",
            "0.923075 (0.003832) with: {'activation': 'exponential'}\n"
          ]
        }
      ]
    },
    {
      "cell_type": "markdown",
      "metadata": {
        "id": "RwQ4bbsFm4W7"
      },
      "source": [
        "<span style=\"color:blue\"> <i> 3. Now, do the grid search over different combination of batch sizes (10, 30, 50, 100) and number of epochs (1, 2, 5). Use the activation function that gave you the highest accuracy in Part 2. Make sure to print the mean test score of each case and determine which combination of batch size and number of epochs gives the best accuracy. Here, you have a freedom to create your own DNN (assume an arbitrary number of Dense layers, optimization scheme, etc).   </i></span> <br>\n",
        "\n",
        "Hint: To do the grid search over both batch_size and epochs, you can do:\n",
        "\n",
        "param_grid = dict(batch_size=batch_size, epochs=epochs)"
      ]
    },
    {
      "cell_type": "code",
      "execution_count": null,
      "metadata": {
        "collapsed": true,
        "id": "i8ZRxOAgm4W7"
      },
      "outputs": [],
      "source": [
        "# best activation was relu\n",
        "\n",
        "def create_DNN():\n",
        "    model = Sequential()\n",
        "    model.add(Dense(64,input_shape=(img_rows*img_cols,), activation=\"relu\"))\n",
        "    model.add(Dense(256))\n",
        "    model.add(Dropout(0.6))\n",
        "    model.add(Dense(num_classes, activation='softmax'))\n",
        "    model.compile(loss=keras.losses.categorical_crossentropy,\n",
        "              optimizer=keras.optimizers.Adam(),\n",
        "              metrics=['accuracy'])\n",
        "    return model\n",
        "\n",
        "batch_size = (10, 30, 50, 100)\n",
        "epochs = (1, 2, 5)\n",
        "model_gridsearch = KerasClassifier(build_fn=create_DNN, verbose=1)\n",
        "\n",
        "# define parameter dictionary\n",
        "param_grid = dict(batch_size=batch_size, epochs=epochs)\n",
        "\n",
        "# call scikit grid search module\n",
        "grid = GridSearchCV(estimator=model_gridsearch, param_grid=param_grid, n_jobs=1, cv=4)\n",
        "grid_result = grid.fit(X_train,Y_train)"
      ]
    },
    {
      "cell_type": "code",
      "source": [
        "# summarize results\n",
        "print(\"Best: %f using %s\" % (grid_result.best_score_, grid_result.best_params_))\n",
        "means = grid_result.cv_results_['mean_test_score']\n",
        "stds = grid_result.cv_results_['std_test_score']\n",
        "params = grid_result.cv_results_['params']\n",
        "for mean, stdev, param in zip(means, stds, params):\n",
        "    print(\"%f (%f) with: %r\" % (mean, stdev, param))"
      ],
      "metadata": {
        "colab": {
          "base_uri": "https://localhost:8080/"
        },
        "id": "BQtmJIBC3z90",
        "outputId": "c6f1018b-193d-4b09-cb4c-e0e8f1e3e616"
      },
      "execution_count": null,
      "outputs": [
        {
          "output_type": "stream",
          "name": "stdout",
          "text": [
            "Best: 0.963950 using {'batch_size': 30, 'epochs': 5}\n",
            "0.943625 (0.005239) with: {'batch_size': 10, 'epochs': 1}\n",
            "0.954575 (0.002834) with: {'batch_size': 10, 'epochs': 2}\n",
            "0.960100 (0.002611) with: {'batch_size': 10, 'epochs': 5}\n",
            "0.942475 (0.003584) with: {'batch_size': 30, 'epochs': 1}\n",
            "0.953450 (0.004176) with: {'batch_size': 30, 'epochs': 2}\n",
            "0.963950 (0.001619) with: {'batch_size': 30, 'epochs': 5}\n",
            "0.938650 (0.002582) with: {'batch_size': 50, 'epochs': 1}\n",
            "0.954400 (0.001981) with: {'batch_size': 50, 'epochs': 2}\n",
            "0.963350 (0.001268) with: {'batch_size': 50, 'epochs': 5}\n",
            "0.928300 (0.004292) with: {'batch_size': 100, 'epochs': 1}\n",
            "0.948325 (0.003664) with: {'batch_size': 100, 'epochs': 2}\n",
            "0.961525 (0.001743) with: {'batch_size': 100, 'epochs': 5}\n"
          ]
        }
      ]
    },
    {
      "cell_type": "markdown",
      "metadata": {
        "id": "CF5bxcJzm4W8"
      },
      "source": [
        "<span style=\"color:blue\"> <i> 4. Do the grid search over the number of neurons in the Dense layer and make a plot of mean test score as a function of num_neurons. Again, you have a freedom to create your own DNN. </i></span> <br>"
      ]
    },
    {
      "cell_type": "code",
      "execution_count": null,
      "metadata": {
        "collapsed": true,
        "id": "lWTLHu4Am4W8"
      },
      "outputs": [],
      "source": [
        "def create_DNN(num_neurons=100):\n",
        "    model = Sequential()\n",
        "    model.add(Dense(400,input_shape=(img_rows*img_cols,), activation='relu'))\n",
        "    model.add(Dense(num_neurons, activation='relu'))\n",
        "    model.add(Dropout(0.5))\n",
        "    model.add(Dense(num_classes, activation='softmax'))\n",
        "    model.compile(loss=keras.losses.categorical_crossentropy,\n",
        "              optimizer=\"Adam\",\n",
        "              metrics=['accuracy'])\n",
        "    return model\n",
        "\n",
        "batch_size = 30\n",
        "epochs = 5\n",
        "model_gridsearch = KerasClassifier(\n",
        "    build_fn=create_DNN, epochs=epochs, batch_size=batch_size, verbose=1,\n",
        ")\n",
        "\n",
        "num_neurons = [25, 50, 100, 200, 400]\n",
        "# define parameter dictionary\n",
        "param_grid = dict(num_neurons=num_neurons)\n",
        "\n",
        "# call scikit grid search module\n",
        "grid = GridSearchCV(estimator=model_gridsearch, param_grid=param_grid, n_jobs=1, cv=4)\n",
        "grid_result = grid.fit(X_train,Y_train)"
      ]
    },
    {
      "cell_type": "code",
      "source": [
        "means = grid_result.cv_results_[\"mean_test_score\"]\n",
        "plt.figure(figsize=(10, 5))\n",
        "plt.scatter(num_neurons, means)\n",
        "plt.xlabel(\"Number of neurons\")\n",
        "plt.ylabel(\"Mean score\")\n",
        "plt.show()"
      ],
      "metadata": {
        "colab": {
          "base_uri": "https://localhost:8080/",
          "height": 334
        },
        "id": "yKUp33-84dkb",
        "outputId": "83f1dce4-0a07-40da-ddc4-934bd5c108f5"
      },
      "execution_count": null,
      "outputs": [
        {
          "output_type": "display_data",
          "data": {
            "text/plain": [
              "<Figure size 720x360 with 1 Axes>"
            ],
            "image/png": "[encoded data removed]"
          },
          "metadata": {
            "needs_background": "light"
          }
        }
      ]
    },
    {
      "cell_type": "markdown",
      "metadata": {
        "id": "aU8i9vVjm4W8"
      },
      "source": [
        "## Creating CNNs with Keras\n",
        "\n",
        "We have so far considered each MNIST data sample as a $(28\\times 28,)$-long 1d vector. This approach neglects any spatial structure in the image. On the other hand, we do know that in every one of the hand-written digits there are *local* spatial correlations between the pixels, which we would like to take advantage of to improve the accuracy of our classification model. To this end, we first need to reshape the training and test input data as follows"
      ]
    },
    {
      "cell_type": "code",
      "execution_count": null,
      "metadata": {
        "colab": {
          "base_uri": "https://localhost:8080/"
        },
        "id": "y0zMixrum4W8",
        "outputId": "46139160-a13d-4435-9992-11ba3c956a9a"
      },
      "outputs": [
        {
          "output_type": "stream",
          "name": "stdout",
          "text": [
            "X_train shape: (40000, 28, 28, 1)\n",
            "Y_train shape: (40000, 10)\n",
            "\n",
            "40000 train samples\n",
            "10000 test samples\n"
          ]
        }
      ],
      "source": [
        "# reshape data, depending on Keras backend\n",
        "if keras.backend.image_data_format() == 'channels_first':\n",
        "    X_train = X_train.reshape(X_train.shape[0], 1, img_rows, img_cols)\n",
        "    X_test = X_test.reshape(X_test.shape[0], 1, img_rows, img_cols)\n",
        "    input_shape = (1, img_rows, img_cols)\n",
        "else:\n",
        "    X_train = X_train.reshape(X_train.shape[0], img_rows, img_cols, 1)\n",
        "    X_test = X_test.reshape(X_test.shape[0], img_rows, img_cols, 1)\n",
        "    input_shape = (img_rows, img_cols, 1)\n",
        "    \n",
        "print('X_train shape:', X_train.shape)\n",
        "print('Y_train shape:', Y_train.shape)\n",
        "print()\n",
        "print(X_train.shape[0], 'train samples')\n",
        "print(X_test.shape[0], 'test samples')"
      ]
    },
    {
      "cell_type": "markdown",
      "metadata": {
        "id": "eCVR9ND0m4W8"
      },
      "source": [
        "One can ask the question of whether a neural net can learn to recognize such local patterns. This can be achieved by using convolutional layers. Luckily, all we need to do is change the architecture of our DNN.\n",
        "\n",
        "![alt text](https://drive.google.com/uc?id=1ZQFqg-GCRKufS4mMGcluqBquv7yCPKlX)\n",
        "\n",
        "After we instantiate the model, add the first convolutional layer with 10 filters, which is the dimensionality of output space. (https://keras.io/layers/convolutional/) Here, we will be concerned with local spatial filters\n",
        "that take as inputs a small spatial patch of the\n",
        "previous layer at all depths. We consider a three-dimensional kernel of size $5\\times5\\times1$. Check out this visualization of the\n",
        "convolution procedure for a square input of unit depth: https://github.com/vdumoulin/conv_arithmetic/blob/master/README.md\n",
        "The convolution consists of running this filter over all locations\n",
        "in the spatial plane. After computing the filter, the output is passed through\n",
        "a non-linearity, a ReLU."
      ]
    },
    {
      "cell_type": "code",
      "execution_count": null,
      "metadata": {
        "collapsed": true,
        "id": "_ihzGEQkm4W8"
      },
      "outputs": [],
      "source": [
        "from keras.models import Sequential\n",
        "from keras.layers import Dense, Dropout, Flatten\n",
        "from keras.layers import Conv2D, MaxPooling2D\n",
        "\n",
        "model = Sequential()\n",
        "model.add(Conv2D(10, kernel_size=(5, 5),\n",
        "                 activation='relu',\n",
        "                 input_shape=input_shape))"
      ]
    },
    {
      "cell_type": "markdown",
      "metadata": {
        "id": "QnZk0e5om4W9"
      },
      "source": [
        "Subsequently, add a 2D pooling layer. (https://keras.io/layers/pooling/) This pooling layer coarse-grain spatial information by performing\n",
        "a subsampling at each depth. Here, we use the the max pool operation. In a max pool, the spatial\n",
        "dimensions are coarse-grained by replacing a small region\n",
        "(say $2\\times2$ neurons) by a single neuron whose output is the\n",
        "maximum value of the output in the region."
      ]
    },
    {
      "cell_type": "code",
      "execution_count": null,
      "metadata": {
        "collapsed": true,
        "id": "K70UdUwMm4W9"
      },
      "outputs": [],
      "source": [
        "model.add(MaxPooling2D(pool_size=(2, 2)))"
      ]
    },
    {
      "cell_type": "markdown",
      "metadata": {
        "id": "HeXQ2HWFm4W9"
      },
      "source": [
        "Add another convolutional layers with 20 filters and apply dropout. Then, add another pooling layer and flatten the data. You can do DNNs afterwards and compile the model."
      ]
    },
    {
      "cell_type": "code",
      "execution_count": null,
      "metadata": {
        "collapsed": true,
        "id": "Bzm51V2Jm4W9"
      },
      "outputs": [],
      "source": [
        "# add second convolutional layer with 20 filters\n",
        "model.add(Conv2D(20, (5, 5), activation='relu'))\n",
        "# apply dropout with rate 0.5\n",
        "model.add(Dropout(0.5))\n",
        "# add 2D pooling layer\n",
        "model.add(MaxPooling2D(pool_size=(2, 2)))\n",
        "# flatten data\n",
        "model.add(Flatten())\n",
        "# add a dense all-to-all relu layer\n",
        "model.add(Dense(20*4*4, activation='relu'))\n",
        "# apply dropout with rate 0.5\n",
        "model.add(Dropout(0.5))\n",
        "# soft-max layer\n",
        "model.add(Dense(num_classes, activation='softmax'))\n",
        "\n",
        "# compile the model\n",
        "model.compile(loss=keras.losses.categorical_crossentropy,\n",
        "              optimizer='Adam',\n",
        "              metrics=['accuracy'])\n"
      ]
    },
    {
      "cell_type": "markdown",
      "metadata": {
        "id": "t_AgD8ZWm4W9"
      },
      "source": [
        "Lastly, train your CNN and evaluate the model."
      ]
    },
    {
      "cell_type": "code",
      "execution_count": null,
      "metadata": {
        "colab": {
          "base_uri": "https://localhost:8080/"
        },
        "id": "bJAWf0TTm4W-",
        "outputId": "829d537f-7f66-4293-d6c6-101860df2fff"
      },
      "outputs": [
        {
          "output_type": "stream",
          "name": "stdout",
          "text": [
            "Epoch 1/10\n",
            "625/625 [==============================] - 35s 55ms/step - loss: 0.3241 - accuracy: 0.8953 - val_loss: 0.0955 - val_accuracy: 0.9774\n",
            "Epoch 2/10\n",
            "625/625 [==============================] - 37s 59ms/step - loss: 0.1085 - accuracy: 0.9662 - val_loss: 0.0692 - val_accuracy: 0.9816\n",
            "Epoch 3/10\n",
            "625/625 [==============================] - 33s 52ms/step - loss: 0.0873 - accuracy: 0.9736 - val_loss: 0.0550 - val_accuracy: 0.9859\n",
            "Epoch 4/10\n",
            "625/625 [==============================] - 32s 52ms/step - loss: 0.0710 - accuracy: 0.9784 - val_loss: 0.0435 - val_accuracy: 0.9890\n",
            "Epoch 5/10\n",
            "625/625 [==============================] - 28s 45ms/step - loss: 0.0604 - accuracy: 0.9808 - val_loss: 0.0422 - val_accuracy: 0.9890\n",
            "Epoch 6/10\n",
            "625/625 [==============================] - 25s 40ms/step - loss: 0.0553 - accuracy: 0.9824 - val_loss: 0.0370 - val_accuracy: 0.9893\n",
            "Epoch 7/10\n",
            "625/625 [==============================] - 26s 41ms/step - loss: 0.0504 - accuracy: 0.9840 - val_loss: 0.0349 - val_accuracy: 0.9900\n",
            "Epoch 8/10\n",
            "625/625 [==============================] - 25s 40ms/step - loss: 0.0485 - accuracy: 0.9849 - val_loss: 0.0322 - val_accuracy: 0.9915\n",
            "Epoch 9/10\n",
            "625/625 [==============================] - 25s 40ms/step - loss: 0.0433 - accuracy: 0.9861 - val_loss: 0.0338 - val_accuracy: 0.9902\n",
            "Epoch 10/10\n",
            "625/625 [==============================] - 25s 40ms/step - loss: 0.0413 - accuracy: 0.9873 - val_loss: 0.0252 - val_accuracy: 0.9929\n",
            "313/313 [==============================] - 3s 8ms/step - loss: 0.0252 - accuracy: 0.9929\n",
            "\n",
            "Test loss: 0.025186745449900627\n",
            "Test accuracy: 0.992900013923645\n"
          ]
        }
      ],
      "source": [
        "# training parameters\n",
        "batch_size = 64\n",
        "epochs = 10\n",
        "\n",
        "\n",
        "# train CNN\n",
        "model.fit(X_train, Y_train,\n",
        "          batch_size=batch_size,\n",
        "          epochs=epochs,\n",
        "          verbose=1,\n",
        "          validation_data=(X_test, Y_test))\n",
        "\n",
        "# evaliate model\n",
        "score = model.evaluate(X_test, Y_test, verbose=1)\n",
        "\n",
        "# print performance\n",
        "print()\n",
        "print('Test loss:', score[0])\n",
        "print('Test accuracy:', score[1])"
      ]
    },
    {
      "cell_type": "markdown",
      "metadata": {
        "id": "ZLIjOEU9m4W-"
      },
      "source": [
        "<span style=\"color:blue\"> <i> 5. Do the grid search over any 3 different optimization schemes and 2 activation functions. Suppose that we have a 2 convolutional layers with 10 neurons. Let p_dropout = 0.5, epochs = 1, and batch_size = 64. Determine which combination of optimization scheme and activation function gives the best accuracy. </i></span> <br>\n"
      ]
    },
    {
      "cell_type": "code",
      "execution_count": null,
      "metadata": {
        "collapsed": true,
        "id": "pfPfof2lm4W-"
      },
      "outputs": [],
      "source": [
        "def create_CNN(optimizer=\"Adam\", activation=\"relu\"):\n",
        "  model = Sequential()\n",
        "  model.add(\n",
        "      Conv2D(\n",
        "        10, kernel_size=(5, 5), activation=activation, input_shape=input_shape\n",
        "      )\n",
        "  )\n",
        "  model.add(MaxPooling2D(pool_size=(2, 2)))\n",
        "  model.add(Conv2D(10, (5, 5), activation=activation))\n",
        "  model.add(Dropout(0.5))\n",
        "  model.add(MaxPooling2D(pool_size=(2, 2)))\n",
        "  model.add(Flatten())\n",
        "  model.add(Dense(20*4*4, activation=activation))\n",
        "  model.add(Dropout(0.5))\n",
        "  model.add(Dense(num_classes, activation='softmax'))\n",
        "  model.compile(\n",
        "    loss=keras.losses.categorical_crossentropy,\n",
        "    optimizer=optimizer,\n",
        "    metrics=['accuracy'],\n",
        "  )\n",
        "  return model\n",
        "\n",
        "batch_size = 64\n",
        "epochs = 1\n",
        "model_gridsearch = KerasClassifier(\n",
        "    build_fn=create_CNN, epochs=epochs, batch_size=batch_size, verbose=1,\n",
        ")\n",
        "\n",
        "# list of allowed optional arguments\n",
        "optimizer = ['SGD', 'RMSprop', 'Adam']\n",
        "activation = ['relu', 'tanh']\n",
        "\n",
        "# define parameter dictionary\n",
        "param_grid = dict(optimizer=optimizer, activation=activation)\n",
        "\n",
        "# call scikit grid search module\n",
        "grid = GridSearchCV(estimator=model_gridsearch, param_grid=param_grid, n_jobs=1, cv=4)\n",
        "grid_result = grid.fit(X_train,Y_train)"
      ]
    },
    {
      "cell_type": "code",
      "source": [
        "# summarize results\n",
        "print(\"Best: %f using %s\" % (grid_result.best_score_, grid_result.best_params_))\n",
        "means = grid_result.cv_results_['mean_test_score']\n",
        "stds = grid_result.cv_results_['std_test_score']\n",
        "params = grid_result.cv_results_['params']\n",
        "for mean, stdev, param in zip(means, stds, params):\n",
        "    print(\"%f (%f) with: %r\" % (mean, stdev, param))"
      ],
      "metadata": {
        "colab": {
          "base_uri": "https://localhost:8080/"
        },
        "id": "nCXBrMN8BUFU",
        "outputId": "b110fb90-9185-4433-f9c3-9672b0a53c55"
      },
      "execution_count": null,
      "outputs": [
        {
          "output_type": "stream",
          "name": "stdout",
          "text": [
            "Best: 0.959550 using {'activation': 'relu', 'optimizer': 'RMSprop'}\n",
            "0.885075 (0.013467) with: {'activation': 'relu', 'optimizer': 'SGD'}\n",
            "0.959550 (0.002446) with: {'activation': 'relu', 'optimizer': 'RMSprop'}\n",
            "0.959000 (0.003881) with: {'activation': 'relu', 'optimizer': 'Adam'}\n",
            "0.859200 (0.011109) with: {'activation': 'tanh', 'optimizer': 'SGD'}\n",
            "0.925975 (0.012966) with: {'activation': 'tanh', 'optimizer': 'RMSprop'}\n",
            "0.918800 (0.013091) with: {'activation': 'tanh', 'optimizer': 'Adam'}\n"
          ]
        }
      ]
    },
    {
      "cell_type": "markdown",
      "metadata": {
        "id": "CtKz8gWQm4W-"
      },
      "source": [
        "<span style=\"color:blue\"> <i> 6. Create an arbitrary DNN (you are free to choose any activation function, optimization scheme, etc) and evaluate its performance. Then, add two convolutional layers and pooling layers and evaluate its performance again. How do they compare? </i></span> <br>"
      ]
    },
    {
      "cell_type": "code",
      "execution_count": null,
      "metadata": {
        "colab": {
          "base_uri": "https://localhost:8080/"
        },
        "id": "K0lfKbjRm4W-",
        "outputId": "79fd3171-de22-4016-cdc1-110ac5453b71"
      },
      "outputs": [
        {
          "output_type": "stream",
          "name": "stdout",
          "text": [
            "Epoch 1/10\n",
            "625/625 [==============================] - 7s 9ms/step - loss: 0.2724 - accuracy: 0.9191 - val_loss: 0.1182 - val_accuracy: 0.9642\n",
            "Epoch 2/10\n",
            "625/625 [==============================] - 6s 10ms/step - loss: 0.1035 - accuracy: 0.9681 - val_loss: 0.1010 - val_accuracy: 0.9669\n",
            "Epoch 3/10\n",
            "625/625 [==============================] - 6s 9ms/step - loss: 0.0685 - accuracy: 0.9790 - val_loss: 0.0827 - val_accuracy: 0.9742\n",
            "Epoch 4/10\n",
            "625/625 [==============================] - 6s 9ms/step - loss: 0.0508 - accuracy: 0.9838 - val_loss: 0.0862 - val_accuracy: 0.9744\n",
            "Epoch 5/10\n",
            "625/625 [==============================] - 6s 9ms/step - loss: 0.0380 - accuracy: 0.9878 - val_loss: 0.0846 - val_accuracy: 0.9754\n",
            "Epoch 6/10\n",
            "625/625 [==============================] - 6s 9ms/step - loss: 0.0313 - accuracy: 0.9901 - val_loss: 0.0869 - val_accuracy: 0.9775\n",
            "Epoch 7/10\n",
            "625/625 [==============================] - 7s 12ms/step - loss: 0.0226 - accuracy: 0.9929 - val_loss: 0.0807 - val_accuracy: 0.9795\n",
            "Epoch 8/10\n",
            "625/625 [==============================] - 11s 18ms/step - loss: 0.0225 - accuracy: 0.9922 - val_loss: 0.0989 - val_accuracy: 0.9753\n",
            "Epoch 9/10\n",
            "625/625 [==============================] - 6s 10ms/step - loss: 0.0235 - accuracy: 0.9926 - val_loss: 0.1104 - val_accuracy: 0.9726\n",
            "Epoch 10/10\n",
            "625/625 [==============================] - 6s 9ms/step - loss: 0.0176 - accuracy: 0.9939 - val_loss: 0.0931 - val_accuracy: 0.9790\n",
            "313/313 [==============================] - 1s 4ms/step - loss: 0.0931 - accuracy: 0.9790\n",
            "\n",
            "DNN\n",
            "Test loss: 0.09308832138776779\n",
            "Test accuracy: 0.9789999723434448\n"
          ]
        }
      ],
      "source": [
        "# DNN\n",
        "model = Sequential()\n",
        "model.add(Dense(400,input_shape=(img_rows*img_cols,), activation='relu'))\n",
        "model.add(Dense(256, activation='relu'))\n",
        "model.add(Dropout(0.3))\n",
        "model.add(Dense(num_classes, activation='softmax'))\n",
        "model.compile(\n",
        "  loss=keras.losses.categorical_crossentropy,\n",
        "  optimizer=\"Adam\",\n",
        "  metrics=['accuracy'],\n",
        ")\n",
        "\n",
        "# training parameters\n",
        "batch_size = 64\n",
        "epochs = 10\n",
        "\n",
        "# train DNN\n",
        "model.fit(\n",
        "  X_train.reshape(-1, 784),\n",
        "  Y_train,\n",
        "  batch_size=batch_size,\n",
        "  epochs=epochs,\n",
        "  verbose=1,\n",
        "  validation_data=(X_test.reshape(-1, 784), Y_test),\n",
        ")\n",
        "\n",
        "# evaluate model\n",
        "score = model.evaluate(X_test.reshape(-1, 784), Y_test, verbose=1)\n",
        "\n",
        "# print performance\n",
        "print(\"\\nDNN\")\n",
        "print('Test loss:', score[0])\n",
        "print('Test accuracy:', score[1])"
      ]
    },
    {
      "cell_type": "code",
      "source": [
        "model = Sequential()\n",
        "# add convolutional layers\n",
        "model.add(Conv2D(10, (5, 5), activation=\"relu\", input_shape=input_shape))\n",
        "model.add(MaxPooling2D(pool_size=(2, 2)))\n",
        "model.add(Conv2D(20, (5, 5), activation=\"relu\"))\n",
        "model.add(MaxPooling2D(pool_size=(2, 2)))\n",
        "model.add(Flatten())\n",
        "# original DNN\n",
        "model.add(Dense(400, activation='relu'))\n",
        "model.add(Dense(256, activation='relu'))\n",
        "model.add(Dropout(0.3))\n",
        "model.add(Dense(num_classes, activation='softmax'))\n",
        "model.compile(\n",
        "  loss=keras.losses.categorical_crossentropy,\n",
        "  optimizer=\"Adam\",\n",
        "  metrics=['accuracy'],\n",
        ")\n",
        "# train CNN\n",
        "model.fit(\n",
        "  X_train,\n",
        "  Y_train,\n",
        "  batch_size=batch_size,\n",
        "  epochs=epochs,\n",
        "  verbose=1,\n",
        "  validation_data=(X_test, Y_test),\n",
        ")\n",
        "\n",
        "# evaluate model\n",
        "score = model.evaluate(X_test, Y_test, verbose=1)\n",
        "\n",
        "# print performance\n",
        "print(\"\\nCNN\")\n",
        "print('Test loss:', score[0])\n",
        "print('Test accuracy:', score[1])"
      ],
      "metadata": {
        "colab": {
          "base_uri": "https://localhost:8080/"
        },
        "id": "tdWSfuyoDC-q",
        "outputId": "f4e34d68-2f72-4c21-a79e-d1cea7468337"
      },
      "execution_count": null,
      "outputs": [
        {
          "output_type": "stream",
          "name": "stdout",
          "text": [
            "Epoch 1/10\n",
            "625/625 [==============================] - 28s 43ms/step - loss: 0.2252 - accuracy: 0.9309 - val_loss: 0.0577 - val_accuracy: 0.9828\n",
            "Epoch 2/10\n",
            "625/625 [==============================] - 26s 42ms/step - loss: 0.0649 - accuracy: 0.9804 - val_loss: 0.0508 - val_accuracy: 0.9836\n",
            "Epoch 3/10\n",
            "625/625 [==============================] - 26s 41ms/step - loss: 0.0432 - accuracy: 0.9868 - val_loss: 0.0565 - val_accuracy: 0.9831\n",
            "Epoch 4/10\n",
            "625/625 [==============================] - 26s 41ms/step - loss: 0.0348 - accuracy: 0.9891 - val_loss: 0.0335 - val_accuracy: 0.9903\n",
            "Epoch 5/10\n",
            "625/625 [==============================] - 26s 41ms/step - loss: 0.0262 - accuracy: 0.9920 - val_loss: 0.0389 - val_accuracy: 0.9892\n",
            "Epoch 6/10\n",
            "625/625 [==============================] - 26s 41ms/step - loss: 0.0233 - accuracy: 0.9923 - val_loss: 0.0296 - val_accuracy: 0.9910\n",
            "Epoch 7/10\n",
            "625/625 [==============================] - 26s 42ms/step - loss: 0.0168 - accuracy: 0.9945 - val_loss: 0.0349 - val_accuracy: 0.9900\n",
            "Epoch 8/10\n",
            "625/625 [==============================] - 26s 42ms/step - loss: 0.0183 - accuracy: 0.9940 - val_loss: 0.0347 - val_accuracy: 0.9912\n",
            "Epoch 9/10\n",
            "625/625 [==============================] - 26s 41ms/step - loss: 0.0156 - accuracy: 0.9948 - val_loss: 0.0364 - val_accuracy: 0.9901\n",
            "Epoch 10/10\n",
            "625/625 [==============================] - 26s 41ms/step - loss: 0.0131 - accuracy: 0.9957 - val_loss: 0.0418 - val_accuracy: 0.9896\n",
            "313/313 [==============================] - 3s 9ms/step - loss: 0.0418 - accuracy: 0.9896\n",
            "\n",
            "CNN\n",
            "Test loss: 0.04175751656293869\n",
            "Test accuracy: 0.9896000027656555\n"
          ]
        }
      ]
    },
    {
      "cell_type": "markdown",
      "source": [
        "The CNN has the better test accuracy with 99.0% vs 97.9% for the DNN and smaller test loss (0.042 vs 0.093)."
      ],
      "metadata": {
        "id": "L5ZXKlkaQUTp"
      }
    },
    {
      "cell_type": "markdown",
      "metadata": {
        "id": "oV4gTtRSm4W_"
      },
      "source": [
        "#### Problem 2 - Using Tensorflow - Ising Model\n",
        "\n",
        "Next, we show how one can use deep neural nets to classify the states of the 2D Ising model according to their phase. This should be compared with the use of logistic-regression in earlier HW.\n",
        "\n",
        "The Hamiltonian for the classical Ising model is given by\n",
        "\n",
        "$$ H = -J\\sum_{\\langle ij\\rangle}S_{i}S_j,\\qquad \\qquad S_j\\in\\{\\pm 1\\} $$\n",
        "\n",
        "where the lattice site indices $i,j$ run over all nearest neighbors of a 2D square lattice, and $J$ is some arbitrary interaction energy scale. We adopt periodic boundary conditions. Onsager proved that this model undergoes a phase transition in the thermodynamic limit from an ordered ferromagnet with all spins aligned to a disordered phase at the critical temperature $T_c/J=2/\\log(1+\\sqrt{2})\\approx 2.26$. For any finite system size, this critical point is expanded to a critical region around $T_c$."
      ]
    },
    {
      "cell_type": "markdown",
      "metadata": {
        "id": "GB44gJApm4W_"
      },
      "source": [
        "### Step 1: Load and Process the Data\n",
        "\n",
        "We begin by writing a `DataSet` class and two functions `read_data_sets` and `load_data` to process the 2D Ising data. \n",
        "\n",
        "The `DataSet` class performs checks on the data shape and casts the data into the correct data type for the calculation. It contains a function method called `next_batch` which shuffles the data and returns a mini-batch of a pre-defined size. This structure is particularly useful for the training procedure in TensorFlow."
      ]
    },
    {
      "cell_type": "code",
      "execution_count": 3,
      "metadata": {
        "collapsed": true,
        "id": "onk5fsdym4W_",
        "colab": {
          "base_uri": "https://localhost:8080/"
        },
        "outputId": "918932ef-dfb4-4987-fb05-f1acc1102568"
      },
      "outputs": [
        {
          "output_type": "stream",
          "name": "stderr",
          "text": [
            "WARNING:tensorflow:From /usr/local/lib/python3.8/dist-packages/tensorflow/python/compat/v2_compat.py:107: disable_resource_variables (from tensorflow.python.ops.variable_scope) is deprecated and will be removed in a future version.\n",
            "Instructions for updating:\n",
            "non-resource variables are not supported in the long term\n"
          ]
        }
      ],
      "source": [
        "# -*- coding: utf-8 -*-\n",
        "from __future__ import absolute_import, division, print_function\n",
        "import numpy as np\n",
        "seed=12\n",
        "np.random.seed(seed)\n",
        "import sys, os, argparse\n",
        "import tensorflow.compat.v1 as tf\n",
        "tf.disable_v2_behavior()\n",
        "from tensorflow.python.framework import dtypes\n",
        "# suppress tflow compilation warnings\n",
        "os.environ['TF_CPP_MIN_LOG_LEVEL'] = '2'\n",
        "\n",
        "tf.set_random_seed(seed)"
      ]
    },
    {
      "cell_type": "code",
      "execution_count": 4,
      "metadata": {
        "collapsed": true,
        "id": "aK-aAJIRm4W_"
      },
      "outputs": [],
      "source": [
        "class DataSet(object):\n",
        "\n",
        "    def __init__(self,data_X,data_Y,dtype=dtypes.float32):\n",
        "        \"\"\"Checks data and casts it into correct data type. \"\"\"\n",
        "\n",
        "        dtype = dtypes.as_dtype(dtype).base_dtype\n",
        "        if dtype not in (dtypes.uint8, dtypes.float32):\n",
        "            raise TypeError('Invalid dtype %r, expected uint8 or float32' % dtype)\n",
        "\n",
        "        assert data_X.shape[0] == data_Y.shape[0], ('data_X.shape: %s data_Y.shape: %s' % (data_X.shape, data_Y.shape))\n",
        "        self.num_examples = data_X.shape[0]\n",
        "\n",
        "        if dtype == dtypes.float32:\n",
        "            data_X = data_X.astype(np.float32)\n",
        "        self.data_X = data_X\n",
        "        self.data_Y = data_Y \n",
        "\n",
        "        self.epochs_completed = 0\n",
        "        self.index_in_epoch = 0\n",
        "\n",
        "    def next_batch(self, batch_size, seed=None):\n",
        "        \"\"\"Return the next `batch_size` examples from this data set.\"\"\"\n",
        "\n",
        "        if seed:\n",
        "            np.random.seed(seed)\n",
        "\n",
        "        start = self.index_in_epoch\n",
        "        self.index_in_epoch += batch_size\n",
        "        if self.index_in_epoch > self.num_examples:\n",
        "            # Finished epoch\n",
        "            self.epochs_completed += 1\n",
        "            # Shuffle the data\n",
        "            perm = np.arange(self.num_examples)\n",
        "            np.random.shuffle(perm)\n",
        "            self.data_X = self.data_X[perm]\n",
        "            self.data_Y = self.data_Y[perm]\n",
        "            # Start next epoch\n",
        "            start = 0\n",
        "            self.index_in_epoch = batch_size\n",
        "            assert batch_size <= self.num_examples\n",
        "        end = self.index_in_epoch\n",
        "\n",
        "        return self.data_X[start:end], self.data_Y[start:end]"
      ]
    },
    {
      "cell_type": "markdown",
      "metadata": {
        "id": "PpxvUh3im4W_"
      },
      "source": [
        "Now, load the Ising dataset, and splits it into three subsets: ordered, critical and disordered, depending on the temperature which sets the distribution they are drawn from. Once again, we use the ordered and disordered data to create a training and a test data set for the problem. Classifying the states in the critical region is expected to be harder and we only use this data to test the performance of our model in the end."
      ]
    },
    {
      "cell_type": "code",
      "execution_count": 5,
      "metadata": {
        "collapsed": true,
        "id": "vImzKlxDm4W_"
      },
      "outputs": [],
      "source": [
        "\n",
        "import pickle\n",
        "from sklearn.model_selection import train_test_split\n",
        "from keras.utils import to_categorical\n",
        "import collections\n",
        "\n",
        "L=40 # linear system size\n",
        "\n",
        "# load data\n",
        "fac = 25\n",
        "file_name = \"/content/drive/My Drive/P188_288/P188_288_Project3/Ising2DFM_reSample_L40_T=All.pkl\" # this file contains 16*10000 samples taken in T=np.arange(0.25,4.0001,0.25)\n",
        "data = pickle.load(open(file_name,'rb')) # pickle reads the file and returns the Python object (1D array, compressed bits)\n",
        "data = data[::fac]\n",
        "data = np.unpackbits(data).reshape(-1, 1600) # Decompress array and reshape for convenience\n",
        "data=data.astype('int')\n",
        "data[np.where(data==0)]=-1 # map 0 state to -1 (Ising variable can take values +/-1)\n",
        "\n",
        "file_name = \"/content/drive/My Drive/P188_288/P188_288_Project3/Ising2DFM_reSample_L40_T=All_labels.pkl\" # this file contains 16*10000 samples taken in T=np.arange(0.25,4.0001,0.25)\n",
        "labels = pickle.load(open(file_name,'rb')) # pickle reads the file and returns the Python object (here just a 1D array with the binary labels)\n",
        "\n",
        "# divide data into ordered, critical and disordered\n",
        "X_ordered=data[:int(70000/fac),:]\n",
        "Y_ordered=labels[:70000][::fac]\n",
        "\n",
        "X_critical=data[int(70000/fac):int(100000/fac),:]\n",
        "Y_critical=labels[70000:100000][::fac]\n",
        "\n",
        "X_disordered=data[int(100000/fac):,:]\n",
        "Y_disordered=labels[100000:][::fac]\n",
        "\n",
        "del data,labels\n",
        "\n",
        "# define training and test data sets\n",
        "X=np.concatenate((X_ordered,X_disordered)) #np.concatenate((X_ordered,X_critical,X_disordered))\n",
        "Y=np.concatenate((Y_ordered,Y_disordered)) #np.concatenate((Y_ordered,Y_critical,Y_disordered))\n",
        "\n",
        "del X_ordered, X_disordered, Y_ordered, Y_disordered\n"
      ]
    },
    {
      "cell_type": "code",
      "execution_count": 6,
      "metadata": {
        "collapsed": true,
        "id": "fQU9GTBNm4W_"
      },
      "outputs": [],
      "source": [
        "# pick random data points from ordered and disordered states to create the training and test sets\n",
        "X_train,X_test,Y_train,Y_test=train_test_split(X,Y,train_size=0.6)\n",
        "\n",
        "\n",
        "# make data categorical\n",
        "Y_train=to_categorical(Y_train)\n",
        "Y_test=to_categorical(Y_test)\n",
        "Y_critical=to_categorical(Y_critical)\n",
        "\n",
        "\n",
        "# create data sets\n",
        "train = DataSet(X_train, Y_train, dtype=dtypes.float32)\n",
        "test = DataSet(X_test, Y_test, dtype=dtypes.float32)\n",
        "critical = DataSet(X_critical, Y_critical, dtype=dtypes.float32)\n",
        "\n",
        "Datasets = collections.namedtuple('Datasets', ['train', 'test', 'critical'])\n",
        "Dataset = Datasets(train=train, test=test, critical=critical)"
      ]
    },
    {
      "cell_type": "markdown",
      "metadata": {
        "id": "PQZkgUsem4XA"
      },
      "source": [
        "You can load the training data in the following way: (Dataset.train.data_X, Dataset.train.data_Y)."
      ]
    },
    {
      "cell_type": "markdown",
      "metadata": {
        "id": "TP5uRYgjm4XA"
      },
      "source": [
        "### Steps 2+3: Define the Neural Net and its Architecture, Choose the Optimizer and the Cost Function\n",
        "\n",
        "We can now move on to construct our deep neural net using TensorFlow. \n",
        "\n",
        "Unique for TensorFlow is creating placeholders for the variables of the model, such as the feed-in data `X` and `Y` or the dropout probability `dropout_keepprob` (which has to be set to unity explicitly during testing). Another peculiarity is using the `with` scope to give names to the most important operators. While we do not discuss this here, TensorFlow also allows one to visualise the computational graph for the model (see package documentation on [https://www.tensorflow.org/](https://www.tensorflow.org/)).\n",
        "\n",
        "The shape of X is only partially defined. We know that it will be a matrix, with instances along the first dimension and features along the second dimension, and we know that the number of features is going to be $28\\times28$, but we don't know yet how many instances each training batch will contain. So the shape of X is (None, n_inputs). Similarly, we know that Y will be a vector with one entry per instance, but again we don't know the size of the training batch, so the shape is (None)."
      ]
    },
    {
      "cell_type": "code",
      "execution_count": 7,
      "metadata": {
        "collapsed": true,
        "id": "pmCAeE6zm4XA"
      },
      "outputs": [],
      "source": [
        "L=40 # system linear size\n",
        "n_feats=L**2 # 40x40 square lattice\n",
        "n_categories=2 # 2 Ising phases: ordered and disordered\n",
        "\n",
        "n_hidden1 = 300\n",
        "n_hidden2 = 100\n",
        "n_outputs = 2\n",
        "\n",
        "with tf.name_scope('data'):\n",
        "    X=tf.placeholder(tf.float32, shape=(None,n_feats))\n",
        "    Y=tf.placeholder(tf.float32, shape=(None,n_categories))\n",
        "    dropout_keepprob=tf.placeholder(tf.float32)\n"
      ]
    },
    {
      "cell_type": "markdown",
      "metadata": {
        "id": "z1ayb48Tm4XA"
      },
      "source": [
        "To classify whether a given spin configuration is in the ordered or disordered phase, we construct a minimalistic model for a DNN with a single hidden layer containing $N_\\mathrm{neurons}$ (which is kept variable so we can try out the performance of different sizes for the hidden layer). \n",
        "\n",
        "Let us use a neuron_layer() function to create layers in the neural nets.\n",
        "\n",
        "1. First, create a name scope using the name of the layer.\n",
        "2. Get the number of inputs by looking up the input matrix's shape and getting the size of the second dimension.\n",
        "3. Create a $W$ variable which holds the weight matrix (i.e. kernel).  Initialize it randomly, using a truncated normal distribution. \n",
        "4. Create a $b$ variable for biases, initialized to 0.\n",
        "5. Create a subgraph to compute $Z=XW+b$\n",
        "6. Use activation function if provided."
      ]
    },
    {
      "cell_type": "code",
      "execution_count": 8,
      "metadata": {
        "collapsed": true,
        "id": "IYoMSdC4m4XA"
      },
      "outputs": [],
      "source": [
        "def neuron_layer(X, n_neuron, name, activation = None):\n",
        "    with tf.name_scope(name):\n",
        "        n_inputs = int(X.get_shape()[1])\n",
        "        stddev = 2 / np.sqrt(n_inputs + n_neuron)\n",
        "        init = tf.truncated_normal((n_inputs, n_neuron), stddev = stddev)\n",
        "        W = tf.Variable(init, name = \"kernel\")\n",
        "        b = tf.Variable(tf.zeros([n_neuron]), name = \"bias\")\n",
        "        Z = tf.matmul(X, W) + b\n",
        "        if activation is not None:\n",
        "            return activation(Z)\n",
        "        else:\n",
        "            return Z"
      ]
    },
    {
      "cell_type": "markdown",
      "metadata": {
        "id": "yt3p0qetm4XA"
      },
      "source": [
        "Using a neuron_layer() function, create two hidden layers and an output layer. The first hidden layer takes X as its input, and the second takes the output of the first hidden layer as its input. Finally, the output layer takes the output of the second hidden layer as its input.\n"
      ]
    },
    {
      "cell_type": "code",
      "execution_count": 34,
      "metadata": {
        "collapsed": true,
        "id": "9HeJJA1Im4XB"
      },
      "outputs": [],
      "source": [
        "with tf.name_scope(\"dnn\"):\n",
        "    hidden1 = tf.layers.dense(X, n_hidden1, activation = tf.nn.relu)\n",
        "    hidden2 = tf.layers.dense(hidden1, n_hidden2, activation = tf.nn.relu)\n",
        "    logits = tf.layers.dense(hidden2, n_outputs)"
      ]
    },
    {
      "cell_type": "markdown",
      "metadata": {
        "id": "SRp-QVaim4XB"
      },
      "source": [
        "Then, define the cost function that we will use to train the neural net model. Here, use the cross entropy to penalize models that estimate a low probability for the target class."
      ]
    },
    {
      "cell_type": "code",
      "execution_count": 35,
      "metadata": {
        "collapsed": true,
        "id": "Awi6YNlsm4XB",
        "colab": {
          "base_uri": "https://localhost:8080/"
        },
        "outputId": "7d72a1dd-f205-4316-d94d-1c1a60fa1a67"
      },
      "outputs": [
        {
          "output_type": "stream",
          "name": "stderr",
          "text": [
            "WARNING:tensorflow:From /usr/local/lib/python3.8/dist-packages/tensorflow/python/util/dispatch.py:1082: softmax_cross_entropy_with_logits (from tensorflow.python.ops.nn_ops) is deprecated and will be removed in a future version.\n",
            "Instructions for updating:\n",
            "\n",
            "Future major versions of TensorFlow will allow gradients to flow\n",
            "into the labels input on backprop by default.\n",
            "\n",
            "See `tf.nn.softmax_cross_entropy_with_logits_v2`.\n",
            "\n"
          ]
        }
      ],
      "source": [
        "with tf.name_scope('loss'):\n",
        "    xentropy = tf.nn.softmax_cross_entropy_with_logits(labels = Y, logits = logits)\n",
        "    loss = tf.reduce_mean(xentropy)"
      ]
    },
    {
      "cell_type": "markdown",
      "metadata": {
        "id": "4JFcmTYcm4XB"
      },
      "source": [
        "Then, define a GradientDescentOptimizer that will tweak the model parameters to minimize the cost function. Now, set learning_rate = 1e-6. "
      ]
    },
    {
      "cell_type": "code",
      "execution_count": 36,
      "metadata": {
        "collapsed": true,
        "id": "YdvdrTkwm4XB"
      },
      "outputs": [],
      "source": [
        "learning_rate = 1e-6\n",
        "with tf.name_scope('optimiser'):\n",
        "    optimizer = tf.train.GradientDescentOptimizer(learning_rate).minimize(loss) \n",
        "    "
      ]
    },
    {
      "cell_type": "markdown",
      "metadata": {
        "id": "MXlJ_kE9m4XB"
      },
      "source": [
        "Lastly, specify how to evaluate the model. Let us simply use accuracy as our performance measure."
      ]
    },
    {
      "cell_type": "code",
      "execution_count": 37,
      "metadata": {
        "collapsed": true,
        "id": "PufDVStfm4XB"
      },
      "outputs": [],
      "source": [
        "\n",
        "with tf.name_scope('accuracy'):\n",
        "    correct_prediction = tf.equal(tf.argmax(Y, 1), tf.argmax(logits, 1))\n",
        "    correct_prediction = tf.cast(correct_prediction, tf.float64) # change data type\n",
        "#     correct_prediction = tf.nn.in_top_k(logits, Y, 1)\n",
        "    accuracy = tf.reduce_mean(correct_prediction)\n",
        "    "
      ]
    },
    {
      "cell_type": "markdown",
      "metadata": {
        "id": "CCX1cs7im4XC"
      },
      "source": [
        "### Steps 4+5: Train the Model and Evaluate its Performance\n",
        "\n",
        "We train our DNN using mini-batches of size $100$ over a total of $100$ epochs, which we define first. We then set up the optimizer parameter dictionary `opt_params`, and use it to create a DNN model. \n",
        "\n",
        "Running TensorFlow requires opening up a `Session` which we abbreviate as `sess` for short. All operations are performed in this session by calling the `run` method. First, we initialize the global variables in TensorFlow's computational graph by running the `global_variables_initializer`. To train the DNN, we loop over the number of epochs. In each fix epoch, we use the `next_batch` function of the `DataSet` class we defined above to create a mini-batch. The forward and backward passes through the weights are performed by running the `loss` and `optimizer` methods. To pass the mini-batch as well as any other external parameters, we use the `feed_dict` dictionary. Similarly, we evaluate the model performance, by getting `accuracy` on the same minibatch data. Note that the dropout probability for testing is set to unity. \n",
        "\n",
        "Once we have exhausted all training epochs, we test the final performance on the entire training, test and critical data sets. This is done in the same way as above.\n",
        "\n",
        "Last, we return the loss and accuracy for each of the training, test and critical data sets."
      ]
    },
    {
      "cell_type": "code",
      "execution_count": 38,
      "metadata": {
        "collapsed": true,
        "id": "aB5_bBmZm4XC",
        "colab": {
          "base_uri": "https://localhost:8080/"
        },
        "outputId": "017ba54b-a539-4748-b6ee-50f9b6e4def6"
      },
      "outputs": [
        {
          "output_type": "stream",
          "name": "stdout",
          "text": [
            "train loss/accuracy: 1.1138343 0.5330128205128205\n",
            "test loss/accuracy: 1.1416363 0.5211538461538462\n",
            "crtitical loss/accuracy: 0.8643694 0.6466666666666666\n"
          ]
        }
      ],
      "source": [
        "training_epochs=100\n",
        "batch_size=100\n",
        "\n",
        "with tf.Session() as sess:\n",
        "\n",
        "    # initialize the necessary variables, in this case, w and b\n",
        "    sess.run(tf.global_variables_initializer())\n",
        "\n",
        "    # train the DNN\n",
        "    for epoch in range(training_epochs): \n",
        "\n",
        "        batch_X, batch_Y = Dataset.train.next_batch(batch_size)\n",
        "\n",
        "        sess.run(optimizer, feed_dict={X: batch_X,Y: batch_Y,dropout_keepprob: 0.5})\n",
        "        \n",
        "\n",
        "    # test DNN performance on entire train test and critical data sets\n",
        "    train_loss, train_accuracy = sess.run([loss, accuracy], \n",
        "                                                feed_dict={X: Dataset.train.data_X, \n",
        "                                                           Y: Dataset.train.data_Y,\n",
        "                                                           dropout_keepprob: 0.5}\n",
        "                                                            )\n",
        "    print(\"train loss/accuracy:\", train_loss, train_accuracy)\n",
        "\n",
        "    test_loss, test_accuracy = sess.run([loss, accuracy], \n",
        "                                                feed_dict={X: Dataset.test.data_X,\n",
        "                                                           Y: Dataset.test.data_Y,\n",
        "                                                           dropout_keepprob: 1.0}\n",
        "                                                           )\n",
        "\n",
        "    print(\"test loss/accuracy:\", test_loss, test_accuracy)\n",
        "\n",
        "    critical_loss, critical_accuracy = sess.run([loss, accuracy], \n",
        "                                                feed_dict={X: Dataset.critical.data_X,\n",
        "                                                           Y: Dataset.critical.data_Y,\n",
        "                                                           dropout_keepprob: 1.0}\n",
        "                                                           )\n",
        "    print(\"crtitical loss/accuracy:\", critical_loss, critical_accuracy)\n",
        "\n"
      ]
    },
    {
      "cell_type": "markdown",
      "metadata": {
        "id": "Ow_e6-Znm4XC"
      },
      "source": [
        "### Step 6: Modify the Hyperparameters to Optimize Performance of the Model\n",
        "\n",
        "To study the dependence of our DNN on some of the hyperparameters, we do a grid search over the number of neurons (initially set as 100) in the hidden layer, and different SGD learning rates (initially set as 1e-6). These searches are best done over logarithmically-spaced points. \n",
        "\n",
        "To do this, define a function for creating a DNN model: `create_DNN` and for evaluating the performance: `evaluate_model`.\n",
        "\n",
        "The function `grid_search` will output 2D heat map to show how accuracy changes with learning rate and number of neurons. "
      ]
    },
    {
      "cell_type": "code",
      "execution_count": 39,
      "metadata": {
        "collapsed": true,
        "id": "Or8SBxsEm4XC"
      },
      "outputs": [],
      "source": [
        "def create_DNN(n_hidden1=100, n_hidden2=100, learning_rate=1e-6):\n",
        "    with tf.name_scope('data'):\n",
        "        X=tf.placeholder(tf.float32, shape=(None,n_feats))\n",
        "        Y=tf.placeholder(tf.float32, shape=(None,n_categories))\n",
        "        dropout_keepprob=tf.placeholder(tf.float32)\n",
        "\n",
        "    with tf.name_scope(\"dnn\"):\n",
        "        hidden1 = tf.layers.dense(X, n_hidden1, activation = tf.nn.relu)\n",
        "        hidden2 = tf.layers.dense(hidden1, n_hidden2, activation = tf.nn.relu)\n",
        "        logits = tf.layers.dense(hidden2, n_outputs)\n",
        "        \n",
        "    with tf.name_scope('loss'):\n",
        "        xentropy = tf.nn.softmax_cross_entropy_with_logits(labels = Y, logits = logits)\n",
        "        loss = tf.reduce_mean(xentropy)\n",
        "        \n",
        "    with tf.name_scope('optimiser'):\n",
        "        optimizer = tf.train.GradientDescentOptimizer(learning_rate).minimize(loss) \n",
        "\n",
        "    with tf.name_scope('accuracy'):\n",
        "        correct_prediction = tf.equal(tf.argmax(Y, 1), tf.argmax(logits, 1))\n",
        "        correct_prediction = tf.cast(correct_prediction, tf.float64) # change data type\n",
        "    #     correct_prediction = tf.nn.in_top_k(logits, Y, 1)\n",
        "        accuracy = tf.reduce_mean(correct_prediction)\n",
        "        \n",
        "    return X, Y, dropout_keepprob, loss, optimizer, accuracy\n"
      ]
    },
    {
      "cell_type": "code",
      "execution_count": 40,
      "metadata": {
        "collapsed": true,
        "id": "3INLFYkpm4XC"
      },
      "outputs": [],
      "source": [
        "def evaluate_model(neurons,lr):\n",
        "    \n",
        "    training_epochs=100\n",
        "    batch_size=100\n",
        "\n",
        "\n",
        "    X, Y, dropout_keepprob, loss, optimizer, accuracy = create_DNN(n_hidden1=neurons, n_hidden2=neurons, learning_rate=lr)\n",
        "    with tf.Session() as sess:\n",
        "\n",
        "        # initialize the necessary variables, in this case, w and b\n",
        "        sess.run(tf.global_variables_initializer())\n",
        "\n",
        "        # train the DNN\n",
        "        for epoch in range(training_epochs): \n",
        "\n",
        "            batch_X, batch_Y = Dataset.train.next_batch(batch_size)\n",
        "\n",
        "            sess.run(optimizer, feed_dict={X: batch_X,Y: batch_Y,dropout_keepprob: 0.5})\n",
        "\n",
        "\n",
        "        # test DNN performance on entire train test and critical data sets\n",
        "        train_loss, train_accuracy = sess.run([loss, accuracy], \n",
        "                                                    feed_dict={X: Dataset.train.data_X, \n",
        "                                                               Y: Dataset.train.data_Y,\n",
        "                                                               dropout_keepprob: 0.5}\n",
        "                                                                )\n",
        "        print(\"train loss/accuracy:\", train_loss, train_accuracy)\n",
        "\n",
        "        test_loss, test_accuracy = sess.run([loss, accuracy], \n",
        "                                                    feed_dict={X: Dataset.test.data_X,\n",
        "                                                               Y: Dataset.test.data_Y,\n",
        "                                                               dropout_keepprob: 1.0}\n",
        "                                                               )\n",
        "\n",
        "        print(\"test loss/accuracy:\", test_loss, test_accuracy)\n",
        "\n",
        "        critical_loss, critical_accuracy = sess.run([loss, accuracy], \n",
        "                                                    feed_dict={X: Dataset.critical.data_X,\n",
        "                                                               Y: Dataset.critical.data_Y,\n",
        "                                                               dropout_keepprob: 1.0}\n",
        "                                                               )\n",
        "        print(\"crtitical loss/accuracy:\", critical_loss, critical_accuracy)\n",
        "\n",
        "    return train_loss,train_accuracy,test_loss,test_accuracy,critical_loss,critical_accuracy"
      ]
    },
    {
      "cell_type": "code",
      "execution_count": 41,
      "metadata": {
        "collapsed": true,
        "id": "L1IHQ3zLm4XD"
      },
      "outputs": [],
      "source": [
        "def grid_search():\n",
        "    \"\"\"This function performs a grid search over a set of different learning rates \n",
        "    and a number of hidden layer neurons.\"\"\"\n",
        "\n",
        "    # perform grid search over learnign rate and number of hidden neurons\n",
        "    N_neurons=[100, 200, 300, 400, 500]\n",
        "    learning_rates=np.logspace(-6,-1,6)\n",
        "\n",
        "    # pre-alocate variables to store accuracy and loss data\n",
        "    train_loss=np.zeros((len(N_neurons),len(learning_rates)),dtype=np.float64)\n",
        "    train_accuracy=np.zeros_like(train_loss)\n",
        "    test_loss=np.zeros_like(train_loss)\n",
        "    test_accuracy=np.zeros_like(train_loss)\n",
        "    critical_loss=np.zeros_like(train_loss)\n",
        "    critical_accuracy=np.zeros_like(train_loss)\n",
        "\n",
        "    # do grid search\n",
        "    for i, neurons in enumerate(N_neurons):\n",
        "        for j, lr in enumerate(learning_rates):\n",
        "\n",
        "            print(\"training DNN with %4d neurons and SGD lr=%0.6f.\" %(neurons,lr) )\n",
        "\n",
        "            train_loss[i,j],train_accuracy[i,j],\\\n",
        "            test_loss[i,j],test_accuracy[i,j],\\\n",
        "            critical_loss[i,j],critical_accuracy[i,j] = evaluate_model(neurons,lr)\n",
        "\n",
        "    %matplotlib inline\n",
        "    plot_data(learning_rates,N_neurons,train_accuracy, \"training data\")\n",
        "    plot_data(learning_rates,N_neurons,test_accuracy, \"test data\")\n",
        "    plot_data(learning_rates,N_neurons,critical_accuracy, \"critical data\")"
      ]
    },
    {
      "cell_type": "code",
      "execution_count": 53,
      "metadata": {
        "collapsed": true,
        "id": "-bPb-mQTm4XD"
      },
      "outputs": [],
      "source": [
        "%matplotlib notebook\n",
        "import matplotlib.pyplot as plt\n",
        "\n",
        "def plot_data(x,y,data, title, xlabel=\"learning rate\", ylabel=\"hidden neurons\"):\n",
        "\n",
        "    # plot results\n",
        "    fontsize=16\n",
        "\n",
        "\n",
        "    fig = plt.figure()\n",
        "    ax = fig.add_subplot(111)\n",
        "    cax = ax.matshow(data, interpolation='nearest', vmin=0, vmax=1)\n",
        "    fig.colorbar(cax)\n",
        "\n",
        "    # put text on matrix elements\n",
        "    for i, x_val in enumerate(np.arange(len(x))):\n",
        "        for j, y_val in enumerate(np.arange(len(y))):\n",
        "            c = \"${0:.1f}\\\\%$\".format( 100*data[j,i])  \n",
        "            ax.text(x_val, y_val, c, va='center', ha='center')\n",
        "\n",
        "    # convert axis vaues to to string labels\n",
        "    x=[str(i) for i in x]\n",
        "    y=[str(i) for i in y]\n",
        "\n",
        "\n",
        "    ax.set_xticklabels(['']+x)\n",
        "    ax.set_yticklabels(['']+y)\n",
        "\n",
        "    ax.set_xlabel(xlabel,fontsize=fontsize)\n",
        "    ax.set_ylabel(ylabel,fontsize=fontsize)\n",
        "    \n",
        "    ax.set_title(title,fontsize=fontsize)\n",
        "\n",
        "    plt.tight_layout()\n",
        "\n",
        "    plt.show()"
      ]
    },
    {
      "cell_type": "code",
      "execution_count": 43,
      "metadata": {
        "collapsed": true,
        "scrolled": false,
        "id": "rX92FmY8m4XE",
        "colab": {
          "base_uri": "https://localhost:8080/",
          "height": 1000
        },
        "outputId": "424872e5-206c-48da-dc5b-ac03f139cbef"
      },
      "outputs": [
        {
          "output_type": "stream",
          "name": "stdout",
          "text": [
            "training DNN with  100 neurons and SGD lr=0.000001.\n",
            "train loss/accuracy: 0.8068097 0.48653846153846153\n",
            "test loss/accuracy: 0.8171215 0.47259615384615383\n",
            "crtitical loss/accuracy: 0.8069082 0.49166666666666664\n",
            "training DNN with  100 neurons and SGD lr=0.000010.\n",
            "train loss/accuracy: 1.0744662 0.4724358974358974\n",
            "test loss/accuracy: 1.0308329 0.4894230769230769\n",
            "crtitical loss/accuracy: 1.2416611 0.38\n",
            "training DNN with  100 neurons and SGD lr=0.000100.\n",
            "train loss/accuracy: 0.7920142 0.5423076923076923\n",
            "test loss/accuracy: 0.8259287 0.5293269230769231\n",
            "crtitical loss/accuracy: 0.7335093 0.5758333333333333\n",
            "training DNN with  100 neurons and SGD lr=0.001000.\n",
            "train loss/accuracy: 0.67793673 0.5996794871794872\n",
            "test loss/accuracy: 0.68844926 0.5903846153846154\n",
            "crtitical loss/accuracy: 0.691902 0.6066666666666667\n",
            "training DNN with  100 neurons and SGD lr=0.010000.\n",
            "train loss/accuracy: 0.21410865 0.9743589743589743\n",
            "test loss/accuracy: 0.26140115 0.94375\n",
            "crtitical loss/accuracy: 0.47856334 0.7833333333333333\n",
            "training DNN with  100 neurons and SGD lr=0.100000.\n",
            "train loss/accuracy: 0.006938204 1.0\n",
            "test loss/accuracy: 0.028684458 0.9951923076923077\n",
            "crtitical loss/accuracy: 0.4362738 0.8333333333333334\n",
            "training DNN with  200 neurons and SGD lr=0.000001.\n",
            "train loss/accuracy: 0.8564868 0.4701923076923077\n",
            "test loss/accuracy: 0.8536663 0.47115384615384615\n",
            "crtitical loss/accuracy: 0.8543658 0.4666666666666667\n",
            "training DNN with  200 neurons and SGD lr=0.000010.\n",
            "train loss/accuracy: 0.8182533 0.5419871794871794\n",
            "test loss/accuracy: 0.83118 0.53125\n",
            "crtitical loss/accuracy: 0.72045535 0.6208333333333333\n",
            "training DNN with  200 neurons and SGD lr=0.000100.\n",
            "train loss/accuracy: 0.8098597 0.48365384615384616\n",
            "test loss/accuracy: 0.8063415 0.47115384615384615\n",
            "crtitical loss/accuracy: 0.82896 0.45666666666666667\n",
            "training DNN with  200 neurons and SGD lr=0.001000.\n",
            "train loss/accuracy: 0.65607643 0.6173076923076923\n",
            "test loss/accuracy: 0.6810407 0.5846153846153846\n",
            "crtitical loss/accuracy: 0.67608935 0.5925\n",
            "training DNN with  200 neurons and SGD lr=0.010000.\n",
            "train loss/accuracy: 0.18398148 0.9833333333333333\n",
            "test loss/accuracy: 0.22295262 0.9567307692307693\n",
            "crtitical loss/accuracy: 0.45928964 0.8016666666666666\n",
            "training DNN with  200 neurons and SGD lr=0.100000.\n",
            "train loss/accuracy: 0.005672062 1.0\n",
            "test loss/accuracy: 0.018858721 0.9980769230769231\n",
            "crtitical loss/accuracy: 0.37556985 0.8575\n",
            "training DNN with  300 neurons and SGD lr=0.000001.\n",
            "train loss/accuracy: 0.97691566 0.4689102564102564\n",
            "test loss/accuracy: 0.93503433 0.4894230769230769\n",
            "crtitical loss/accuracy: 1.1461512 0.36833333333333335\n",
            "training DNN with  300 neurons and SGD lr=0.000010.\n",
            "train loss/accuracy: 0.756791 0.510576923076923\n",
            "test loss/accuracy: 0.77148306 0.49615384615384617\n",
            "crtitical loss/accuracy: 0.80030113 0.47\n",
            "training DNN with  300 neurons and SGD lr=0.000100.\n",
            "train loss/accuracy: 0.9191968 0.4701923076923077\n",
            "test loss/accuracy: 0.8759077 0.49567307692307694\n",
            "crtitical loss/accuracy: 1.0675303 0.38\n",
            "training DNN with  300 neurons and SGD lr=0.001000.\n",
            "train loss/accuracy: 0.63634646 0.6445512820512821\n",
            "test loss/accuracy: 0.6638357 0.6173076923076923\n",
            "crtitical loss/accuracy: 0.70276445 0.5833333333333334\n",
            "training DNN with  300 neurons and SGD lr=0.010000.\n",
            "train loss/accuracy: 0.18452768 0.9891025641025641\n",
            "test loss/accuracy: 0.22086668 0.9653846153846154\n",
            "crtitical loss/accuracy: 0.45746553 0.8025\n",
            "training DNN with  300 neurons and SGD lr=0.100000.\n",
            "train loss/accuracy: 0.005240286 1.0\n",
            "test loss/accuracy: 0.013134091 0.9995192307692308\n",
            "crtitical loss/accuracy: 0.3992036 0.8275\n",
            "training DNN with  400 neurons and SGD lr=0.000001.\n",
            "train loss/accuracy: 0.771082 0.496474358974359\n",
            "test loss/accuracy: 0.7401924 0.5269230769230769\n",
            "crtitical loss/accuracy: 0.8461442 0.41833333333333333\n",
            "training DNN with  400 neurons and SGD lr=0.000010.\n",
            "train loss/accuracy: 0.7755188 0.517948717948718\n",
            "test loss/accuracy: 0.80182546 0.5153846153846153\n",
            "crtitical loss/accuracy: 0.72169006 0.5841666666666666\n",
            "training DNN with  400 neurons and SGD lr=0.000100.\n",
            "train loss/accuracy: 0.72228146 0.5602564102564103\n",
            "test loss/accuracy: 0.7234228 0.5615384615384615\n",
            "crtitical loss/accuracy: 0.7386584 0.5433333333333333\n",
            "training DNN with  400 neurons and SGD lr=0.001000.\n",
            "train loss/accuracy: 0.61974555 0.6692307692307692\n",
            "test loss/accuracy: 0.61341095 0.676923076923077\n",
            "crtitical loss/accuracy: 0.6653004 0.6008333333333333\n",
            "training DNN with  400 neurons and SGD lr=0.010000.\n",
            "train loss/accuracy: 0.15475202 0.9907051282051282\n",
            "test loss/accuracy: 0.19640805 0.9701923076923077\n",
            "crtitical loss/accuracy: 0.43548542 0.81\n",
            "training DNN with  400 neurons and SGD lr=0.100000.\n",
            "train loss/accuracy: 0.0050528767 0.9996794871794872\n",
            "test loss/accuracy: 0.012764838 0.9990384615384615\n",
            "crtitical loss/accuracy: 0.38644826 0.825\n",
            "training DNN with  500 neurons and SGD lr=0.000001.\n",
            "train loss/accuracy: 0.8068716 0.5647435897435897\n",
            "test loss/accuracy: 0.81486434 0.5408653846153846\n",
            "crtitical loss/accuracy: 0.6961082 0.645\n",
            "training DNN with  500 neurons and SGD lr=0.000010.\n",
            "train loss/accuracy: 0.83280236 0.46602564102564104\n",
            "test loss/accuracy: 0.81050354 0.49615384615384617\n",
            "crtitical loss/accuracy: 0.9085673 0.41083333333333333\n",
            "training DNN with  500 neurons and SGD lr=0.000100.\n",
            "train loss/accuracy: 0.72206646 0.5564102564102564\n",
            "test loss/accuracy: 0.740951 0.53125\n",
            "crtitical loss/accuracy: 0.7323652 0.5508333333333333\n",
            "training DNN with  500 neurons and SGD lr=0.001000.\n",
            "train loss/accuracy: 0.6185884 0.6708333333333333\n",
            "test loss/accuracy: 0.6493276 0.6379807692307692\n",
            "crtitical loss/accuracy: 0.65240264 0.6366666666666667\n",
            "training DNN with  500 neurons and SGD lr=0.010000.\n",
            "train loss/accuracy: 0.1472428 0.9958333333333333\n",
            "test loss/accuracy: 0.19298832 0.9730769230769231\n",
            "crtitical loss/accuracy: 0.45262614 0.8041666666666667\n",
            "training DNN with  500 neurons and SGD lr=0.100000.\n",
            "train loss/accuracy: 0.0048249927 1.0\n",
            "test loss/accuracy: 0.0119369645 1.0\n",
            "crtitical loss/accuracy: 0.3757006 0.84\n"
          ]
        },
        {
          "output_type": "display_data",
          "data": {
            "text/plain": [
              "<Figure size 432x288 with 2 Axes>"
            ],
            "image/png": "[encoded data removed]"
          },
          "metadata": {
            "needs_background": "light"
          }
        },
        {
          "output_type": "display_data",
          "data": {
            "text/plain": [
              "<Figure size 432x288 with 2 Axes>"
            ],
            "image/png": "[encoded data removed]"
          },
          "metadata": {
            "needs_background": "light"
          }
        },
        {
          "output_type": "display_data",
          "data": {
            "text/plain": [
              "<Figure size 432x288 with 2 Axes>"
            ],
            "image/png": "[encoded data removed]"
          },
          "metadata": {
            "needs_background": "light"
          }
        }
      ],
      "source": [
        "grid_search()"
      ]
    },
    {
      "cell_type": "markdown",
      "metadata": {
        "id": "BNRrHV9Km4XE"
      },
      "source": [
        "<span style=\"color:blue\"> <i> 1. Do the grid search over 5 different types of activation functions (https://www.tensorflow.org/api_guides/python/nn#Activation_Functions). Evaluate the performance for each case and determine which gives the best accuracy. You can assume an arbitrary DNN. Show results for training, test, and critical data. </i></span> <br>"
      ]
    },
    {
      "cell_type": "code",
      "source": [
        "# add acitvation fcn as input arg\n",
        "\n",
        "def create_DNN(\n",
        "    n_hidden1=100, n_hidden2=100, learning_rate=1e-6, activation=tf.nn.relu,\n",
        "):\n",
        "    with tf.name_scope('data'):\n",
        "        X=tf.placeholder(tf.float32, shape=(None,n_feats))\n",
        "        Y=tf.placeholder(tf.float32, shape=(None,n_categories))\n",
        "        dropout_keepprob=tf.placeholder(tf.float32)\n",
        "\n",
        "    with tf.name_scope(\"dnn\"):\n",
        "        hidden1 = tf.layers.dense(X, n_hidden1, activation=activation)\n",
        "        hidden2 = tf.layers.dense(hidden1, n_hidden2, activation=activation)\n",
        "        logits = tf.layers.dense(hidden2, n_outputs)\n",
        "        \n",
        "    with tf.name_scope('loss'):\n",
        "        xentropy = tf.nn.softmax_cross_entropy_with_logits(labels = Y, logits = logits)\n",
        "        loss = tf.reduce_mean(xentropy)\n",
        "        \n",
        "    with tf.name_scope('optimiser'):\n",
        "        optimizer = tf.train.GradientDescentOptimizer(learning_rate).minimize(loss) \n",
        "\n",
        "    with tf.name_scope('accuracy'):\n",
        "        correct_prediction = tf.equal(tf.argmax(Y, 1), tf.argmax(logits, 1))\n",
        "        correct_prediction = tf.cast(correct_prediction, tf.float64) # change data type\n",
        "    #     correct_prediction = tf.nn.in_top_k(logits, Y, 1)\n",
        "        accuracy = tf.reduce_mean(correct_prediction)\n",
        "        \n",
        "    return X, Y, dropout_keepprob, loss, optimizer, accuracy\n",
        "\n",
        "# add activation, epochs, and batch size as input\n",
        "\n",
        "def evaluate_model(neurons, lr, activation, batch_size=100, training_epochs=100):\n",
        "\n",
        "    X, Y, dropout_keepprob, loss, optimizer, accuracy = create_DNN(\n",
        "        n_hidden1=neurons, n_hidden2=neurons, learning_rate=lr, activation=activation\n",
        "    )\n",
        "    with tf.Session() as sess:\n",
        "\n",
        "        # initialize the necessary variables, in this case, w and b\n",
        "        sess.run(tf.global_variables_initializer())\n",
        "\n",
        "        # train the DNN\n",
        "        for epoch in range(training_epochs): \n",
        "\n",
        "            batch_X, batch_Y = Dataset.train.next_batch(batch_size)\n",
        "\n",
        "            sess.run(optimizer, feed_dict={X: batch_X,Y: batch_Y,dropout_keepprob: 0.5})\n",
        "\n",
        "\n",
        "        # test DNN performance on entire train test and critical data sets\n",
        "        train_loss, train_accuracy = sess.run([loss, accuracy], \n",
        "                                                    feed_dict={X: Dataset.train.data_X, \n",
        "                                                               Y: Dataset.train.data_Y,\n",
        "                                                               dropout_keepprob: 0.5}\n",
        "                                                                )\n",
        "        print(\"train loss/accuracy:\", train_loss, train_accuracy)\n",
        "\n",
        "        test_loss, test_accuracy = sess.run([loss, accuracy], \n",
        "                                                    feed_dict={X: Dataset.test.data_X,\n",
        "                                                               Y: Dataset.test.data_Y,\n",
        "                                                               dropout_keepprob: 1.0}\n",
        "                                                               )\n",
        "\n",
        "        print(\"test loss/accuracy:\", test_loss, test_accuracy)\n",
        "\n",
        "        critical_loss, critical_accuracy = sess.run([loss, accuracy], \n",
        "                                                    feed_dict={X: Dataset.critical.data_X,\n",
        "                                                               Y: Dataset.critical.data_Y,\n",
        "                                                               dropout_keepprob: 1.0}\n",
        "                                                               )\n",
        "        print(\"crtitical loss/accuracy:\", critical_loss, critical_accuracy)\n",
        "\n",
        "    return train_loss,train_accuracy,test_loss,test_accuracy,critical_loss,critical_accuracy"
      ],
      "metadata": {
        "id": "5tL8bkwqVeX5"
      },
      "execution_count": 46,
      "outputs": []
    },
    {
      "cell_type": "code",
      "execution_count": 47,
      "metadata": {
        "collapsed": true,
        "id": "I-j5Rn0Fm4XE"
      },
      "outputs": [],
      "source": [
        "def grid_search_activation():\n",
        "    \"\"\"This function performs a grid search over a set of different\n",
        "    activation functions.\"\"\"\n",
        "\n",
        "    # perform grid search over activation functions\n",
        "    activation = [tf.nn.relu, tf.nn.tanh, tf.nn.softplus, tf.nn.selu, tf.nn.sigmoid]\n",
        "    names = [\"relu\", \"tanh\", \"softplus\", \"selu\", \"sigmoid\"]\n",
        "\n",
        "    # pre-alocate variables to store accuracy and loss data\n",
        "    train_loss=np.zeros((len(activation)),dtype=np.float64)\n",
        "    train_accuracy=np.zeros_like(train_loss)\n",
        "    test_loss=np.zeros_like(train_loss)\n",
        "    test_accuracy=np.zeros_like(train_loss)\n",
        "    critical_loss=np.zeros_like(train_loss)\n",
        "    critical_accuracy=np.zeros_like(train_loss)\n",
        "\n",
        "    # do grid search\n",
        "    for i, af in enumerate(activation):\n",
        "          print(\"training DNN with Activation Function %s.\" %(af) )\n",
        "          (train_loss[i], train_accuracy[i], test_loss[i], test_accuracy[i],\n",
        "           critical_loss[i], critical_accuracy[i]) = evaluate_model(300, 0.1, af)\n",
        "\n",
        "    %matplotlib inline\n",
        "    plt.figure()\n",
        "    plt.scatter(names, train_accuracy, label=\"training data\")\n",
        "    plt.scatter(names, test_accuracy, label=\"test data\")\n",
        "    plt.scatter(names, critical_accuracy, label=\"critical data\")\n",
        "    plt.xlabel(\"Activation Function\")\n",
        "    plt.ylabel(\"Accuracy\")\n",
        "    plt.legend()\n",
        "    plt.show()"
      ]
    },
    {
      "cell_type": "code",
      "source": [
        "grid_search_activation()"
      ],
      "metadata": {
        "colab": {
          "base_uri": "https://localhost:8080/",
          "height": 626
        },
        "id": "xlDx_n0WYl1Z",
        "outputId": "68731823-7217-49ad-c2b6-fe3fb92e446b"
      },
      "execution_count": 48,
      "outputs": [
        {
          "output_type": "stream",
          "name": "stdout",
          "text": [
            "training DNN with Activation Function <function relu at 0x7f89c3ab99d0>.\n",
            "train loss/accuracy: 0.0048068124 1.0\n",
            "test loss/accuracy: 0.014029592 0.9990384615384615\n",
            "crtitical loss/accuracy: 0.4043779 0.8241666666666667\n",
            "training DNN with Activation Function <function tanh at 0x7f89c3f4eaf0>.\n",
            "train loss/accuracy: 0.3033535 0.8958333333333334\n",
            "test loss/accuracy: 0.9199858 0.5543269230769231\n",
            "crtitical loss/accuracy: 0.8521887 0.5766666666666667\n",
            "training DNN with Activation Function <function softplus at 0x7f89c3acf9d0>.\n",
            "train loss/accuracy: 0.02427199 0.9996794871794872\n",
            "test loss/accuracy: 0.039478894 0.9975961538461539\n",
            "crtitical loss/accuracy: 0.35283408 0.8433333333333334\n",
            "training DNN with Activation Function <function selu at 0x7f89c3abe310>.\n",
            "train loss/accuracy: 0.0097032795 1.0\n",
            "test loss/accuracy: 0.10219011 0.958173076923077\n",
            "crtitical loss/accuracy: 0.27805287 0.8816666666666667\n",
            "training DNN with Activation Function <function sigmoid at 0x7f89c39f2670>.\n",
            "train loss/accuracy: 0.6921346 0.5467948717948717\n",
            "test loss/accuracy: 0.71241665 0.5259615384615385\n",
            "crtitical loss/accuracy: 0.6417609 0.6666666666666666\n"
          ]
        },
        {
          "output_type": "display_data",
          "data": {
            "text/plain": [
              "<Figure size 432x288 with 1 Axes>"
            ],
            "image/png": "[encoded data removed]"
          },
          "metadata": {
            "needs_background": "light"
          }
        }
      ]
    },
    {
      "cell_type": "markdown",
      "metadata": {
        "id": "saW-EAZZm4XE"
      },
      "source": [
        "<span style=\"color:blue\"> <i> 2. Do the grid search over 5 different numbers of epochs and batch sizes. Make a 2D heat map as shown in the example. You can assume an arbitrary DNN. Show results for training, test, and critical data.  </i></span> <br>"
      ]
    },
    {
      "cell_type": "code",
      "execution_count": 54,
      "metadata": {
        "collapsed": true,
        "id": "0rViUWcmm4XE"
      },
      "outputs": [],
      "source": [
        "def grid_search_batch_epoch():\n",
        "    \"\"\"This function performs a grid search over a set of different batch sizes\n",
        "    and epochs.\"\"\"\n",
        "\n",
        "    N_epochs=[10, 50, 100, 150, 200]\n",
        "    batch_size=[16, 32, 64, 128, 256]\n",
        "\n",
        "    # pre-alocate variables to store accuracy and loss data\n",
        "    train_loss=np.zeros((len(N_epochs),len(batch_size)),dtype=np.float64)\n",
        "    train_accuracy=np.zeros_like(train_loss)\n",
        "    test_loss=np.zeros_like(train_loss)\n",
        "    test_accuracy=np.zeros_like(train_loss)\n",
        "    critical_loss=np.zeros_like(train_loss)\n",
        "    critical_accuracy=np.zeros_like(train_loss)\n",
        "\n",
        "    # do grid search\n",
        "    for i, epochs in enumerate(N_epochs):\n",
        "        for j, bs in enumerate(batch_size):\n",
        "\n",
        "            print(\"training DNN with %d epochs and batch size=%d.\" %(epochs, bs) )\n",
        "\n",
        "            train_loss[i,j],train_accuracy[i,j],\\\n",
        "            test_loss[i,j],test_accuracy[i,j],\\\n",
        "            critical_loss[i,j],critical_accuracy[i,j] = evaluate_model(\n",
        "                300, 0.1, tf.nn.relu, batch_size=bs, training_epochs=epochs\n",
        "            )\n",
        "\n",
        "    %matplotlib inline\n",
        "    xl = \"batch size\"\n",
        "    yl = \"epochs\"\n",
        "    plot_data(batch_size, N_epochs,train_accuracy, \"training data\", xl, yl)\n",
        "    plot_data(batch_size, N_epochs, test_accuracy, \"test data\", xl, yl)\n",
        "    plot_data(batch_size, N_epochs, critical_accuracy, \"critical data\", xl, yl)"
      ]
    },
    {
      "cell_type": "code",
      "source": [
        "grid_search_batch_epoch()"
      ],
      "metadata": {
        "colab": {
          "base_uri": "https://localhost:8080/",
          "height": 1000
        },
        "id": "TIOfqjHdZ7LK",
        "outputId": "e0c7a30d-cf6c-495e-ba36-2cbd3ae1a2f8"
      },
      "execution_count": 55,
      "outputs": [
        {
          "output_type": "stream",
          "name": "stdout",
          "text": [
            "training DNN with 10 epochs and batch size=16.\n",
            "train loss/accuracy: 0.41656557 0.8224358974358974\n",
            "test loss/accuracy: 0.4360257 0.8139423076923077\n",
            "crtitical loss/accuracy: 0.6350829 0.665\n",
            "training DNN with 10 epochs and batch size=32.\n",
            "train loss/accuracy: 0.29431158 0.9141025641025641\n",
            "test loss/accuracy: 0.31348777 0.9129807692307692\n",
            "crtitical loss/accuracy: 0.4968153 0.7758333333333334\n",
            "training DNN with 10 epochs and batch size=64.\n",
            "train loss/accuracy: 0.2879401 0.9198717948717948\n",
            "test loss/accuracy: 0.30441368 0.9211538461538461\n",
            "crtitical loss/accuracy: 0.54779005 0.72\n",
            "training DNN with 10 epochs and batch size=128.\n",
            "train loss/accuracy: 0.19829153 0.9766025641025641\n",
            "test loss/accuracy: 0.22558996 0.9610576923076923\n",
            "crtitical loss/accuracy: 0.49782985 0.76\n",
            "training DNN with 10 epochs and batch size=256.\n",
            "train loss/accuracy: 0.21011145 0.9868589743589744\n",
            "test loss/accuracy: 0.23838192 0.9759615384615384\n",
            "crtitical loss/accuracy: 0.44000754 0.8158333333333333\n",
            "training DNN with 50 epochs and batch size=16.\n",
            "train loss/accuracy: 0.027306622 0.9990384615384615\n",
            "test loss/accuracy: 0.031735014 0.9985576923076923\n",
            "crtitical loss/accuracy: 0.34098077 0.8575\n",
            "training DNN with 50 epochs and batch size=32.\n",
            "train loss/accuracy: 0.01807287 0.9996794871794872\n",
            "test loss/accuracy: 0.028113464 0.9985576923076923\n",
            "crtitical loss/accuracy: 0.3879042 0.8283333333333334\n",
            "training DNN with 50 epochs and batch size=64.\n",
            "train loss/accuracy: 0.015142629 0.9993589743589744\n",
            "test loss/accuracy: 0.023944654 0.9995192307692308\n",
            "crtitical loss/accuracy: 0.48075643 0.7883333333333333\n",
            "training DNN with 50 epochs and batch size=128.\n",
            "train loss/accuracy: 0.01606146 0.9996794871794872\n",
            "test loss/accuracy: 0.030203847 0.9985576923076923\n",
            "crtitical loss/accuracy: 0.34807464 0.8416666666666667\n",
            "training DNN with 50 epochs and batch size=256.\n",
            "train loss/accuracy: 0.017298682 0.9996794871794872\n",
            "test loss/accuracy: 0.034955956 0.9980769230769231\n",
            "crtitical loss/accuracy: 0.38561076 0.8325\n",
            "training DNN with 100 epochs and batch size=16.\n",
            "train loss/accuracy: 0.008446175 1.0\n",
            "test loss/accuracy: 0.01151388 1.0\n",
            "crtitical loss/accuracy: 0.4094064 0.8316666666666667\n",
            "training DNN with 100 epochs and batch size=32.\n",
            "train loss/accuracy: 0.0064433925 0.9996794871794872\n",
            "test loss/accuracy: 0.010412693 0.9995192307692308\n",
            "crtitical loss/accuracy: 0.45737845 0.8\n",
            "training DNN with 100 epochs and batch size=64.\n",
            "train loss/accuracy: 0.0048273415 1.0\n",
            "test loss/accuracy: 0.011364746 1.0\n",
            "crtitical loss/accuracy: 0.3983556 0.8266666666666667\n",
            "training DNN with 100 epochs and batch size=128.\n",
            "train loss/accuracy: 0.0051367045 1.0\n",
            "test loss/accuracy: 0.014762009 0.9990384615384615\n",
            "crtitical loss/accuracy: 0.39593184 0.8291666666666667\n",
            "training DNN with 100 epochs and batch size=256.\n",
            "train loss/accuracy: 0.005415655 1.0\n",
            "test loss/accuracy: 0.015675874 0.9990384615384615\n",
            "crtitical loss/accuracy: 0.3986262 0.8208333333333333\n",
            "training DNN with 150 epochs and batch size=16.\n",
            "train loss/accuracy: 0.003115274 1.0\n",
            "test loss/accuracy: 0.007577256 0.9985576923076923\n",
            "crtitical loss/accuracy: 0.36299828 0.86\n",
            "training DNN with 150 epochs and batch size=32.\n",
            "train loss/accuracy: 0.0021419623 1.0\n",
            "test loss/accuracy: 0.007428869 0.9990384615384615\n",
            "crtitical loss/accuracy: 0.4223326 0.8216666666666667\n",
            "training DNN with 150 epochs and batch size=64.\n",
            "train loss/accuracy: 0.0025346975 1.0\n",
            "test loss/accuracy: 0.008730114 1.0\n",
            "crtitical loss/accuracy: 0.3790368 0.8433333333333334\n",
            "training DNN with 150 epochs and batch size=128.\n",
            "train loss/accuracy: 0.002811687 1.0\n",
            "test loss/accuracy: 0.011206718 0.9995192307692308\n",
            "crtitical loss/accuracy: 0.41422787 0.8141666666666667\n",
            "training DNN with 150 epochs and batch size=256.\n",
            "train loss/accuracy: 0.0029730033 1.0\n",
            "test loss/accuracy: 0.010915654 1.0\n",
            "crtitical loss/accuracy: 0.3775316 0.8341666666666666\n",
            "training DNN with 200 epochs and batch size=16.\n",
            "train loss/accuracy: 0.0023362185 0.9996794871794872\n",
            "test loss/accuracy: 0.0058697863 0.9995192307692308\n",
            "crtitical loss/accuracy: 0.3622655 0.8525\n",
            "training DNN with 200 epochs and batch size=32.\n",
            "train loss/accuracy: 0.0016376927 1.0\n",
            "test loss/accuracy: 0.006475617 0.9995192307692308\n",
            "crtitical loss/accuracy: 0.3595806 0.8458333333333333\n",
            "training DNN with 200 epochs and batch size=64.\n",
            "train loss/accuracy: 0.0017115107 1.0\n",
            "test loss/accuracy: 0.0073305857 1.0\n",
            "crtitical loss/accuracy: 0.40703782 0.835\n",
            "training DNN with 200 epochs and batch size=128.\n",
            "train loss/accuracy: 0.0020033584 1.0\n",
            "test loss/accuracy: 0.009530651 0.9980769230769231\n",
            "crtitical loss/accuracy: 0.401854 0.8333333333333334\n",
            "training DNN with 200 epochs and batch size=256.\n",
            "train loss/accuracy: 0.0019257718 1.0\n",
            "test loss/accuracy: 0.0074108415 1.0\n",
            "crtitical loss/accuracy: 0.4201527 0.8258333333333333\n"
          ]
        },
        {
          "output_type": "display_data",
          "data": {
            "text/plain": [
              "<Figure size 432x288 with 2 Axes>"
            ],
            "image/png": "[encoded data removed]"
          },
          "metadata": {
            "needs_background": "light"
          }
        },
        {
          "output_type": "display_data",
          "data": {
            "text/plain": [
              "<Figure size 432x288 with 2 Axes>"
            ],
            "image/png": "[encoded data removed]"
          },
          "metadata": {
            "needs_background": "light"
          }
        },
        {
          "output_type": "display_data",
          "data": {
            "text/plain": [
              "<Figure size 432x288 with 2 Axes>"
            ],
            "image/png": "[encoded data removed]"
          },
          "metadata": {
            "needs_background": "light"
          }
        }
      ]
    },
    {
      "cell_type": "markdown",
      "metadata": {
        "id": "fInkdsFim4XF"
      },
      "source": [
        "#### Problem 3 - SDSS galaxies\n",
        "\n",
        "The data is provided in the file <b>\"specz_data.txt\"</b>. The columns of the file (length of 13) correspond to - <br>\n",
        "spectroscopic redshift ('zspec'), RA, DEC, magnitudes in 5 bands - u, g, r, i, z (denoted as 'mu,' 'mg,' 'mr,' 'mi,' 'mz' respectively); Exponential and de Vaucouleurs model magnitude fits ('logExp' and 'logDev' http://www.sdss.org/dr12/algorithms/magnitudes/); zebra fit ('pz_zebra); Neural Network fit ('pz_NN') and its error estimate ('pz_NN_Err') <br>\n",
        "\n",
        "We will undertake 2 exercises  - \n",
        "- Regression\n",
        "    - We will use the magnitude of object in different bands ('mu, mg, mr, mi, mz') and do a regression exercise to estimate the redshift of the object. Hence our feature space is 5.\n",
        "    - The correct redshift is given by 'zspec', which is the spectroscopic redshift of the object. We will use this for training and testing purpose. \n",
        "    \n",
        "    Sidenote: Photometry vs. Spectroscopy\n",
        "    \n",
        "    <i>&nbsp; &nbsp; The amount of energy we receive from celestial objects – in the form of radiation – is called the flux, and an astro- nomical technique of measuring the flux is photometry. Flux is usually measured over broad wavelength bands, and with the estimate of the distance to an object, it can infer the object’s luminosity, temperature, size, etc. Usually light is passed through colored filters, and we measure the intensity of the filtered light. \n",
        "    \n",
        "    &nbsp; &nbsp; On the other hand, spectroscopy deals with the spectrum of the emitted light. This tells us what the object is made of, how it is moving, the pressure of the material in it, etc. Note that for faint objects making photometric observation is much easier.\n",
        "    \n",
        "    &nbsp; &nbsp; Photometric redshift (photoz) is an estimate of the distance to the object using photometry. Spectroscopic redshift observes the object’s spectral lines and measures their shifts due to the Doppler effect to infer the distance.</i>\n",
        "    \n",
        "\n",
        "- Classification\n",
        "    - We will use the same magnitudes and now also the redshift of the object  ('zspec') to classify the object as either Elleptical or Spiral. Hence our feature space is now 6.\n",
        "    - The correct class is given by compring 'logExp' and 'logDev' which are the fits for Exponential and Devocular profiles. If logExp > logDev, its a spiral and vice-versa. We will use this for training and testing purpose. Since the classes are not explicitly given, generate a column for those (Classes can be $\\pm 1$. If it is $0$, it does not belong to either of the class.)\n"
      ]
    },
    {
      "cell_type": "markdown",
      "metadata": {
        "id": "Kuzq_L1rm4XF"
      },
      "source": [
        "##### Cleaning\n",
        "\n",
        "Read in the files to create the data (X and Y) for both regression and classification. <br>\n",
        "You will have to clean the data - \n",
        "- Drop the entries that are nan or infinite\n",
        "- Drop the unrealistic numbers such as 999, -999; and magnitudes that are unrealistic. Since these are absolute magnitudes, they should be positive and high. Lets choose a magnitude limit of 15 as safe bet.\n",
        "- For classification, drop the entries that do not belong to either of the class\n"
      ]
    },
    {
      "cell_type": "code",
      "execution_count": 9,
      "metadata": {
        "collapsed": true,
        "id": "BMxTnoTHm4XF",
        "colab": {
          "base_uri": "https://localhost:8080/"
        },
        "outputId": "7621f5ff-6ef8-4497-9cdf-5fda10501d8b"
      },
      "outputs": [
        {
          "output_type": "stream",
          "name": "stdout",
          "text": [
            "dict_keys(['zspec', 'RA', 'DEC', 'mu', 'mg', 'mr', 'mi', 'mz', 'logExp', 'logDev', 'pz_zebra', 'pz_NN', 'pz_NN_Err'])\n"
          ]
        }
      ],
      "source": [
        "#Read in and create data\n",
        "\n",
        "fname = '/content/drive/My Drive/P188_288/P188_288_Project3/specz_data.txt'\n",
        "spec_dat=np.genfromtxt(fname,names=True)\n",
        "print(spec_dat.dtype.fields.keys())\n",
        "#convenience variable\n",
        "zspec = spec_dat['zspec']\n",
        "pzNN = spec_dat['pz_NN']\n",
        "#some N redshifts are not defined\n",
        "pzNN[pzNN < 0] = np.nan\n",
        "\n",
        "#For Regression\n",
        "bands = ['u', 'g', 'r','i', 'z' ]\n",
        "mlim = 15\n",
        "\n",
        "xdata = np.concatenate([[spec_dat['m%s'%i] for i in bands]]).T\n",
        "bad = (xdata[:, 0] < mlim) | (xdata[:, 1] < mlim) | (xdata[:, 2] < mlim) & (xdata[:, 3] < mlim) | (xdata[:, 4] < mlim)\n",
        "xdata = xdata[~bad]\n",
        "xdata[xdata<0] = 0\n",
        "ydata = zspec[~bad]\n",
        "\n",
        "#For classification\n",
        "classes = np.sign(spec_dat['logExp'] - spec_dat['logDev'])\n",
        "tmp = np.concatenate([[spec_dat['m%s'%i] for i in bands]]).T\n",
        "xxdata = np.concatenate([tmp, zspec.reshape(-1, 1)], axis=1)\n",
        "bad = (classes==0) | (xxdata[:, 0] < mlim) | (xxdata[:, 1] < mlim) | (xxdata[:, 2] < mlim) & (xxdata[:, 3] < mlim) | (xxdata[:, 4] < mlim)\n",
        "xxdata = xxdata[~bad]\n",
        "classes = classes[~bad]"
      ]
    },
    {
      "cell_type": "markdown",
      "metadata": {
        "id": "KYBljWXdm4XF"
      },
      "source": [
        "For regression, X and Y data (called \"xdata\" and \"ydata,\" respectively) is cleaned magnitudes (5 feature space) and spectroscopic redshifts respectively.\n",
        "For classification, X and Y data (called \"xxdata\" and \"classes\" respectively) is cleaned magnitudes+spectroscopic redshifts respectively (6 feature space) and classees respectively."
      ]
    },
    {
      "cell_type": "code",
      "execution_count": 10,
      "metadata": {
        "collapsed": true,
        "id": "FTxif4KZm4XG",
        "colab": {
          "base_uri": "https://localhost:8080/"
        },
        "outputId": "71df93b4-66e3-4d2e-fcf6-7dd29997bac9"
      },
      "outputs": [
        {
          "output_type": "stream",
          "name": "stdout",
          "text": [
            "For Regression:\n",
            "Before: Size of datasets is  5338\n",
            "After: Size of datasets is  4535\n",
            "\n",
            "For Classification:\n",
            "Before: Size of datasets is  5338\n",
            "After: Size of datasets is  4147\n"
          ]
        }
      ],
      "source": [
        "print('For Regression:')\n",
        "print('Before: Size of datasets is ', zspec.shape[0])\n",
        "print('After: Size of datasets is ', xdata.shape[0])\n",
        "print('')\n",
        "print('For Classification:')\n",
        "print('Before: Size of datasets is ', zspec.shape[0])\n",
        "print('After: Size of datasets is ', xxdata.shape[0])"
      ]
    },
    {
      "cell_type": "markdown",
      "metadata": {
        "id": "nYI4zd5Em4XG"
      },
      "source": [
        "##### Visualization\n",
        "\n",
        "The next step should be to visualize the data. <br>\n",
        "For regression\n",
        "- Make a histogram for the distribution of the data (spectroscopic redshift). \n",
        "- Make 5 2D histograms of the distribution of the magnitude as function of redshift (Hint: https://matplotlib.org/devdocs/api/_as_gen/matplotlib.axes.Axes.hist2d.html)\n",
        "\n",
        "For classification <br>\n",
        "- Make 6 1-d histogram for the distribution of the data (6 features - zspec and 5 magnitudes) for both class 1 and -1 separately \n",
        "\n",
        "<span style=\"color:blue\"> <i> 1. Make histograms for both regression and classification. </i></span> <br>"
      ]
    },
    {
      "cell_type": "code",
      "execution_count": 11,
      "metadata": {
        "collapsed": true,
        "id": "ns-M6WGLm4XG",
        "colab": {
          "base_uri": "https://localhost:8080/",
          "height": 728
        },
        "outputId": "4eb6627f-1df3-4bf6-f888-44693632528a"
      },
      "outputs": [
        {
          "output_type": "display_data",
          "data": {
            "text/plain": [
              "<Figure size 720x720 with 11 Axes>"
            ],
            "image/png": "[encoded data removed]"
          },
          "metadata": {
            "needs_background": "light"
          }
        }
      ],
      "source": [
        "# regression\n",
        "bins = 30\n",
        "fig, axs = plt.subplots(figsize=(10, 10), nrows=3, ncols=2, sharex=True)\n",
        "for i, ax in enumerate(axs.ravel()):\n",
        "  if i == 0:\n",
        "    ax.hist(ydata, bins=bins)\n",
        "    ax.set_ylabel(\"Counts\")\n",
        "  else:\n",
        "    _, _, _, im = ax.hist2d(ydata, xdata[:, i-1], bins=bins)\n",
        "    ax.set_ylabel(f\"Magnitude ({bands[i-1]})\")\n",
        "    plt.colorbar(im, ax=ax)\n",
        "plt.setp(axs[-1], xlabel=\"redshift\")\n",
        "plt.tight_layout()\n",
        "plt.show()"
      ]
    },
    {
      "cell_type": "code",
      "source": [
        "# classification\n",
        "fig, axs = plt.subplots(figsize=(10, 10), ncols=2, nrows=6, sharex=\"row\", sharey=\"row\")\n",
        "for i in range(len(axs)):\n",
        "  ax = axs[i, 0]\n",
        "  ax.hist(xxdata[classes==-1][:, i], bins=bins)\n",
        "  if i == len(axs)-1:\n",
        "    ax.set_xlabel(\"Redshift\")\n",
        "  else:\n",
        "    ax.set_xlabel(f\"Magnitude band {bands[i]}\")\n",
        "\n",
        "  ax = axs[i, 1]\n",
        "  ax.hist(xxdata[classes==1][:, i], bins=bins)\n",
        "  if i == len(axs)-1:\n",
        "    ax.set_xlabel(\"Redshift\")\n",
        "  else:\n",
        "    ax.set_xlabel(f\"Magnitude band {bands[i]}\")\n",
        "    \n",
        "axs[0, 0].set_title(\"Class: -1\")\n",
        "axs[0, 1].set_title(\"Class: 1\")\n",
        "plt.tight_layout()\n",
        "plt.show()"
      ],
      "metadata": {
        "colab": {
          "base_uri": "https://localhost:8080/",
          "height": 729
        },
        "id": "oqqX6_usk_Af",
        "outputId": "f7c30e55-d0a0-4359-8329-0a502c095d2e"
      },
      "execution_count": 12,
      "outputs": [
        {
          "output_type": "display_data",
          "data": {
            "text/plain": [
              "<Figure size 720x720 with 12 Axes>"
            ],
            "image/png": "[encoded data removed]"
          },
          "metadata": {
            "needs_background": "light"
          }
        }
      ]
    },
    {
      "cell_type": "markdown",
      "metadata": {
        "id": "wEb119mam4XG"
      },
      "source": [
        "<span style=\"color:blue\"> <i> 2. Do the following preprocessing: </i></span> <br>\n",
        "\n",
        "#####  Preprocessing:\n",
        "\n",
        "- Next, split the sample into training data and the testing data. We will be using the training data to train different algorithms and then compare the performance over the testing data. In this project, keep 80% data as training data and uses the remaining 20% data for testing.  <br>\n",
        "- Often, the data can be ordered in a specific manner, hence shuffle the data prior to splitting it into training and testing samples. <br>\n",
        "- Many algorithms are also not scale invariant, and hence scale the data (different features to a uniform scale). All this comes under preprocessing the data.\n",
        "http://scikit-learn.org/stable/modules/preprocessing.html#preprocessing <br>\n",
        "Use StandardScaler from sklearn (or write your own routine) to center the data to 0 mean and 1 variance. Note that you only center the training data and then use its mean and variance to scale the testing data before using it. <br><br>\n",
        "\n",
        "Hint: How to get a scaled training data: <br>\n",
        "\n",
        "1. Let the training data be: train = (\"training X data\", \"training Y data\")<br>\n",
        "2. You can first define a StandardScaler: <br>\n",
        "scale_xdata, scale_ydata = preprocessing.StandardScaler(), preprocessing.StandardScaler()<br>\n",
        "3. Then, do the fit: <br>\n",
        "for regression: scale_xdata.fit(train_regression[0]), scale_ydata.fit(train_regression[1].reshape(-1, 1))<br>\n",
        "for classication: scale_xdata.fit(train_classification[0])<br>\n",
        "  Here, no need to fit for y data for classification (it's either +1 or -1. Already scaled)<br>\n",
        "4. Next, transform: <br>\n",
        " for regression: scaled_train_data = (scale_xdata.fit_transform(train_regression[0]), scale_ydata.fit_transform(train_regression[1].reshape(-1, 1)))<br>\n",
        " for classication: scaled_train_data = (scale_xdata.fit_transform(train_classification[0]), train_classification[1])<br>\n",
        " Again, y data is already scaled for classification.  <br>\n",
        "\n",
        "\n",
        "Do this for test data as well.\n"
      ]
    },
    {
      "cell_type": "code",
      "execution_count": 13,
      "metadata": {
        "collapsed": true,
        "id": "X6s5AORTm4XI"
      },
      "outputs": [],
      "source": [
        "from sklearn import preprocessing"
      ]
    },
    {
      "cell_type": "code",
      "execution_count": 14,
      "metadata": {
        "collapsed": true,
        "id": "OpUL2JeUm4XI"
      },
      "outputs": [],
      "source": [
        "scale_xdata, scale_ydata = preprocessing.StandardScaler(), preprocessing.StandardScaler()\n",
        "\n",
        "# regression\n",
        "X_train, X_test, y_train, y_test = train_test_split(\n",
        "    xdata, ydata, test_size=.2, shuffle=True, random_state=42,\n",
        ")\n",
        "reg_train = (\n",
        "  scale_xdata.fit_transform(X_train),\n",
        "  scale_ydata.fit_transform(y_train.reshape(-1, 1)),\n",
        ")\n",
        "reg_test = (\n",
        "  scale_xdata.transform(X_test),\n",
        "  scale_ydata.transform(y_test.reshape(-1, 1)),\n",
        ")\n",
        "\n",
        "# classification\n",
        "X_train, X_test, y_train, y_test = train_test_split(\n",
        "    xxdata, classes, test_size=.2, shuffle=True, random_state=42,\n",
        ")\n",
        "class_train = (\n",
        "  scale_xdata.fit_transform(X_train),\n",
        "  y_train.reshape(-1, 1),\n",
        ")\n",
        "class_test = (\n",
        "  scale_xdata.transform(X_test),\n",
        "  y_test.reshape(-1, 1),\n",
        ")"
      ]
    },
    {
      "cell_type": "markdown",
      "metadata": {
        "id": "vqlnBRjPm4XI"
      },
      "source": [
        "##### Metrics\n",
        "\n",
        "The last remaining preperatory step is to write metric for gauging the performance of the algorithm. Write a function to calculate the 'RMS' error given (y_predict, y_truth) to gauge regression and another function to evaluate accuracy of classification. <br>\n",
        "In addition, for classification, we will also use confusion matrix.\n",
        "\n",
        "Below is an example you can use. Feel free to write you own."
      ]
    },
    {
      "cell_type": "code",
      "execution_count": 15,
      "metadata": {
        "collapsed": true,
        "id": "WzTqj2qrm4XJ"
      },
      "outputs": [],
      "source": [
        "from sklearn.metrics import confusion_matrix\n",
        "\n",
        "def rms(x, y, scale1=None, scale2=None):\n",
        "    '''Calculate the rms error given the truth and the prediction\n",
        "    '''\n",
        "    mask = np.isfinite(x[:]) & np.isfinite(y[:])\n",
        "    if scale1 is not None:\n",
        "        x= scale1.inverse_transform(x)\n",
        "    if scale2 is not None:\n",
        "        y = scale2.inverse_transform(y)\n",
        "    return  np.sqrt(np.mean((x[mask] - y[mask]) ** 2))\n",
        "\n",
        "def acc(x, y):\n",
        "    '''Calculate the accuracy given the truth and the prediction\n",
        "    '''\n",
        "    mask = np.isfinite(x[:]) & np.isfinite(y[:])\n",
        "    return  (x == y).sum()/x.size\n"
      ]
    },
    {
      "cell_type": "markdown",
      "metadata": {
        "id": "hhI3CUAvm4XJ"
      },
      "source": [
        "#### Hyperparameter method\n",
        "\n",
        "Now, we will be varying hyperparameters to get the best model and build some intuition. There are various ways to do this and we will use Grid Search methodology (as you did in Problem 1 and 2) which simply tries all the combinations along with some cross-validation scheme. For most part, we will use 4-fold cross validation. <br>\n",
        "Sklearn provides GridSearchCV functionality for this purpose. <br>\n",
        "\n",
        "Its recommended to spend some time to go through output format of GridSearchCV and write some utility functions to make the recurring plots for every parameter. <br>\n",
        "Grid Search returns a dictionary with self explanatory keys for the most part. Mostly, the keys correspond to (masked) numpy arrays of size = #(all possible combination of parameters). The value of individual parameter in every combination is given in arrays with keys starting from 'param_\\*' and this should help you to match the combination with the corresponding scores. <br>\n",
        "For masked arrays, you can access the data values by using \\*.data\n",
        "<br>\n",
        "<br>\n",
        "*Do not overwrite these grid search-ed variables (and not only their result) since we will compare all the models together in the end*"
      ]
    },
    {
      "cell_type": "code",
      "execution_count": 16,
      "metadata": {
        "collapsed": true,
        "id": "8RAUj3bWm4XJ"
      },
      "outputs": [],
      "source": [
        "from sklearn.model_selection import GridSearchCV, RandomizedSearchCV\n",
        "# http://scikit-learn.org/stable/modules/generated/sklearn.model_selection.GridSearchCV.html\n",
        "# http://scikit-learn.org/stable/modules/generated/sklearn.model_selection.RandomizedSearchCV.html"
      ]
    },
    {
      "cell_type": "markdown",
      "metadata": {
        "id": "7opQZ8Kom4XJ"
      },
      "source": [
        "<span style=\"color:red\"><i> You can choose to do only one of the two classifiers: kNN or Random Forests.</i></span> <br>\n",
        "<span style=\"color:red\"><i> If you choose to do Method 2 (Random Forests), take a look at hints from Method 1 (kNN). </i></span> <br>"
      ]
    },
    {
      "cell_type": "markdown",
      "metadata": {
        "id": "ryNBBA5Im4XJ"
      },
      "source": [
        "### <span style=\"color:red\"> Option (1) </span>\n",
        "### Method 1. k Nearest Neighbors\n",
        "\n",
        "For regression, let us play with grid search using knn to tune hyperparmeters. (https://scikit-learn.org/stable/modules/generated/sklearn.neighbors.KNeighborsRegressor.html) Consider the following 3 hyperparameters - \n",
        "- Number of neighbors ([2, 3, 5, 10, 15, 20, 25, 50, 100])\n",
        "- Weights of leaves (Uniform or Inverse Distance weighing)\n",
        "- Distance metric (Eucledian or Manhattan distance - parameter 'p')\n",
        "\n",
        "<span style=\"color:blue\"> <i> 1. Do a grid search on these parameters. List the combination of hyperparameters you tried and evaluate the accuracy (mean test score) and its standard deviation. Which gives the highest accuracy value? </i></span> <br>"
      ]
    },
    {
      "cell_type": "code",
      "execution_count": 17,
      "metadata": {
        "collapsed": true,
        "id": "0rpHmTLXm4XJ"
      },
      "outputs": [],
      "source": [
        "from sklearn.neighbors import KNeighborsRegressor"
      ]
    },
    {
      "cell_type": "markdown",
      "metadata": {
        "id": "JWkjP4uYm4XJ"
      },
      "source": [
        "Hint: (Read the documentations carefully for more detail.)\n",
        "\n",
        "First, define the hyperparameters: parameters = {'n_neighbors':[2, 3, 5, 10, 15, 20, 25, 50, 100], 'weights':['uniform', 'distance'], 'p':[1, 2]}\n",
        "\n",
        "Specify the algorithm you want to use: e.g. knnr = KNeighborsRegressor() \n",
        "\n",
        "Then, Do a grid search on these parameters using 4 fold cross validation: gcknn = GridSearchCV(knnr, parameters, cv=4)\n",
        "\n",
        "Do the fit: gcknn.fit(*scaled_training_data) \n",
        "\n",
        "(Let \"scaled_training_data\" be the training data where \"scaled_training_data = (\"train X data\", \"train Y data\")\"\n",
        "\n",
        "Get results: $results = gcknn.cv_results_$\n",
        "\n",
        "$cv_results_$ has the following dictionaries: \"rank_test_score,\" \"mean_test_score,\" \"std_test_score,\" and \"params\" (See http://scikit-learn.org/stable/modules/generated/sklearn.model_selection.GridSearchCV.html) \n",
        "\n",
        "Then, you can evaluate the models based on \"rank_test_score\" and print out their \"params,\" along with their \"mean_test_score\" and \"std_test_score\"."
      ]
    },
    {
      "cell_type": "code",
      "execution_count": 33,
      "metadata": {
        "collapsed": true,
        "id": "t5QUmF_Um4XJ",
        "colab": {
          "base_uri": "https://localhost:8080/"
        },
        "outputId": "a4ee64e9-5c5f-4b74-d346-27b385c279d9"
      },
      "outputs": [
        {
          "output_type": "stream",
          "name": "stdout",
          "text": [
            "Parameters: {'n_neighbors': 15, 'p': 2, 'weights': 'distance'}, Score: 0.570 +- 0.009\n",
            "-------------------\n",
            "Parameters: {'n_neighbors': 10, 'p': 2, 'weights': 'distance'}, Score: 0.569 +- 0.004\n",
            "-------------------\n",
            "Parameters: {'n_neighbors': 20, 'p': 2, 'weights': 'distance'}, Score: 0.569 +- 0.009\n",
            "-------------------\n",
            "Parameters: {'n_neighbors': 20, 'p': 1, 'weights': 'distance'}, Score: 0.568 +- 0.011\n",
            "-------------------\n",
            "Parameters: {'n_neighbors': 15, 'p': 1, 'weights': 'distance'}, Score: 0.568 +- 0.011\n",
            "-------------------\n",
            "Parameters: {'n_neighbors': 25, 'p': 1, 'weights': 'distance'}, Score: 0.567 +- 0.012\n",
            "-------------------\n",
            "Parameters: {'n_neighbors': 25, 'p': 2, 'weights': 'distance'}, Score: 0.566 +- 0.011\n",
            "-------------------\n",
            "Parameters: {'n_neighbors': 10, 'p': 1, 'weights': 'distance'}, Score: 0.561 +- 0.006\n",
            "-------------------\n",
            "Parameters: {'n_neighbors': 50, 'p': 1, 'weights': 'distance'}, Score: 0.556 +- 0.012\n",
            "-------------------\n",
            "Parameters: {'n_neighbors': 50, 'p': 2, 'weights': 'distance'}, Score: 0.553 +- 0.011\n",
            "-------------------\n",
            "Parameters: {'n_neighbors': 10, 'p': 2, 'weights': 'uniform'}, Score: 0.542 +- 0.006\n",
            "-------------------\n",
            "Parameters: {'n_neighbors': 100, 'p': 1, 'weights': 'distance'}, Score: 0.536 +- 0.013\n",
            "-------------------\n",
            "Parameters: {'n_neighbors': 5, 'p': 2, 'weights': 'distance'}, Score: 0.536 +- 0.007\n",
            "-------------------\n",
            "Parameters: {'n_neighbors': 15, 'p': 2, 'weights': 'uniform'}, Score: 0.536 +- 0.007\n",
            "-------------------\n",
            "Parameters: {'n_neighbors': 15, 'p': 1, 'weights': 'uniform'}, Score: 0.532 +- 0.010\n",
            "-------------------\n",
            "Parameters: {'n_neighbors': 100, 'p': 2, 'weights': 'distance'}, Score: 0.530 +- 0.014\n",
            "-------------------\n",
            "Parameters: {'n_neighbors': 10, 'p': 1, 'weights': 'uniform'}, Score: 0.530 +- 0.004\n",
            "-------------------\n",
            "Parameters: {'n_neighbors': 5, 'p': 1, 'weights': 'distance'}, Score: 0.530 +- 0.009\n",
            "-------------------\n",
            "Parameters: {'n_neighbors': 20, 'p': 2, 'weights': 'uniform'}, Score: 0.529 +- 0.007\n",
            "-------------------\n",
            "Parameters: {'n_neighbors': 20, 'p': 1, 'weights': 'uniform'}, Score: 0.528 +- 0.009\n",
            "-------------------\n",
            "Parameters: {'n_neighbors': 25, 'p': 1, 'weights': 'uniform'}, Score: 0.524 +- 0.009\n",
            "-------------------\n",
            "Parameters: {'n_neighbors': 25, 'p': 2, 'weights': 'uniform'}, Score: 0.522 +- 0.008\n",
            "-------------------\n",
            "Parameters: {'n_neighbors': 5, 'p': 2, 'weights': 'uniform'}, Score: 0.518 +- 0.004\n",
            "-------------------\n",
            "Parameters: {'n_neighbors': 5, 'p': 1, 'weights': 'uniform'}, Score: 0.511 +- 0.007\n",
            "-------------------\n",
            "Parameters: {'n_neighbors': 3, 'p': 2, 'weights': 'distance'}, Score: 0.502 +- 0.007\n",
            "-------------------\n",
            "Parameters: {'n_neighbors': 50, 'p': 1, 'weights': 'uniform'}, Score: 0.501 +- 0.010\n",
            "-------------------\n",
            "Parameters: {'n_neighbors': 50, 'p': 2, 'weights': 'uniform'}, Score: 0.497 +- 0.007\n",
            "-------------------\n",
            "Parameters: {'n_neighbors': 3, 'p': 2, 'weights': 'uniform'}, Score: 0.492 +- 0.003\n",
            "-------------------\n",
            "Parameters: {'n_neighbors': 3, 'p': 1, 'weights': 'distance'}, Score: 0.488 +- 0.006\n",
            "-------------------\n",
            "Parameters: {'n_neighbors': 3, 'p': 1, 'weights': 'uniform'}, Score: 0.475 +- 0.004\n",
            "-------------------\n",
            "Parameters: {'n_neighbors': 100, 'p': 1, 'weights': 'uniform'}, Score: 0.471 +- 0.010\n",
            "-------------------\n",
            "Parameters: {'n_neighbors': 100, 'p': 2, 'weights': 'uniform'}, Score: 0.464 +- 0.009\n",
            "-------------------\n",
            "Parameters: {'n_neighbors': 2, 'p': 2, 'weights': 'distance'}, Score: 0.437 +- 0.019\n",
            "-------------------\n",
            "Parameters: {'n_neighbors': 2, 'p': 1, 'weights': 'distance'}, Score: 0.435 +- 0.016\n",
            "-------------------\n",
            "Parameters: {'n_neighbors': 2, 'p': 2, 'weights': 'uniform'}, Score: 0.429 +- 0.018\n",
            "-------------------\n",
            "Parameters: {'n_neighbors': 2, 'p': 1, 'weights': 'uniform'}, Score: 0.426 +- 0.015\n",
            "-------------------\n"
          ]
        }
      ],
      "source": [
        "# regression\n",
        "\n",
        "parameters = {'n_neighbors':[2, 3, 5, 10, 15, 20, 25, 50, 100], 'weights':['uniform', 'distance'], 'p':[1, 2]}\n",
        "knnr = KNeighborsRegressor()\n",
        "gcknn = GridSearchCV(knnr, parameters, cv=4)\n",
        "gcknn.fit(*reg_train)\n",
        "results = gcknn.cv_results_\n",
        "\n",
        "sorted_ix = np.argsort(results[\"mean_test_score\"])[::-1]\n",
        "\n",
        "for i in sorted_ix:\n",
        "  p = results[\"params\"][i]\n",
        "  m = results[\"mean_test_score\"][i]\n",
        "  std = results[\"std_test_score\"][i]\n",
        "  print(f\"Parameters: {p}, Score: {m:.3f} +- {std:.3f}\")\n",
        "  print(\"-------------------\")"
      ]
    },
    {
      "cell_type": "markdown",
      "metadata": {
        "id": "ltYDEakJm4XJ"
      },
      "source": [
        "<span style=\"color:blue\"> <i> 2. Also print out fitting and scoring times for all hyperparameter combinations. </i></span> <br>\n",
        "\n",
        "*Plot timings for fitting and scoring*\n",
        "\n",
        "Hint: Assume that you got results from: $results = gcknn.cv_results_$\n",
        "\n",
        "Then, get the scoring time: results['mean_score_time']\n",
        "\n",
        "and the fitting time: results['mean_fit_time']"
      ]
    },
    {
      "cell_type": "code",
      "execution_count": 37,
      "metadata": {
        "collapsed": true,
        "id": "lGmZJ3RGm4XJ",
        "colab": {
          "base_uri": "https://localhost:8080/"
        },
        "outputId": "8d38272a-80b6-4ff7-fa6d-0e288127c6a4"
      },
      "outputs": [
        {
          "output_type": "stream",
          "name": "stdout",
          "text": [
            "Parameters: {'n_neighbors': 2, 'p': 1, 'weights': 'uniform'}, Scoring Time: 0.015 s, Fitting Time: 0.0031 s\n",
            "-------------------\n",
            "Parameters: {'n_neighbors': 2, 'p': 1, 'weights': 'uniform'}, Scoring Time: 0.014 s, Fitting Time: 0.0034 s\n",
            "-------------------\n",
            "Parameters: {'n_neighbors': 2, 'p': 1, 'weights': 'uniform'}, Scoring Time: 0.02 s, Fitting Time: 0.0032 s\n",
            "-------------------\n",
            "Parameters: {'n_neighbors': 2, 'p': 1, 'weights': 'uniform'}, Scoring Time: 0.024 s, Fitting Time: 0.0033 s\n",
            "-------------------\n",
            "Parameters: {'n_neighbors': 2, 'p': 1, 'weights': 'uniform'}, Scoring Time: 0.026 s, Fitting Time: 0.0031 s\n",
            "-------------------\n",
            "Parameters: {'n_neighbors': 2, 'p': 1, 'weights': 'uniform'}, Scoring Time: 0.034 s, Fitting Time: 0.0032 s\n",
            "-------------------\n",
            "Parameters: {'n_neighbors': 2, 'p': 1, 'weights': 'uniform'}, Scoring Time: 0.019 s, Fitting Time: 0.0032 s\n",
            "-------------------\n",
            "Parameters: {'n_neighbors': 2, 'p': 1, 'weights': 'uniform'}, Scoring Time: 0.02 s, Fitting Time: 0.0032 s\n",
            "-------------------\n",
            "Parameters: {'n_neighbors': 2, 'p': 1, 'weights': 'uniform'}, Scoring Time: 0.053 s, Fitting Time: 0.003 s\n",
            "-------------------\n",
            "Parameters: {'n_neighbors': 2, 'p': 1, 'weights': 'uniform'}, Scoring Time: 0.082 s, Fitting Time: 0.0057 s\n",
            "-------------------\n",
            "Parameters: {'n_neighbors': 2, 'p': 1, 'weights': 'uniform'}, Scoring Time: 0.014 s, Fitting Time: 0.0034 s\n",
            "-------------------\n",
            "Parameters: {'n_neighbors': 2, 'p': 1, 'weights': 'uniform'}, Scoring Time: 0.031 s, Fitting Time: 0.0021 s\n",
            "-------------------\n",
            "Parameters: {'n_neighbors': 2, 'p': 1, 'weights': 'uniform'}, Scoring Time: 0.011 s, Fitting Time: 0.0031 s\n",
            "-------------------\n",
            "Parameters: {'n_neighbors': 2, 'p': 1, 'weights': 'uniform'}, Scoring Time: 0.017 s, Fitting Time: 0.0035 s\n",
            "-------------------\n",
            "Parameters: {'n_neighbors': 2, 'p': 1, 'weights': 'uniform'}, Scoring Time: 0.022 s, Fitting Time: 0.0031 s\n",
            "-------------------\n",
            "Parameters: {'n_neighbors': 2, 'p': 1, 'weights': 'uniform'}, Scoring Time: 0.026 s, Fitting Time: 0.0022 s\n",
            "-------------------\n",
            "Parameters: {'n_neighbors': 2, 'p': 1, 'weights': 'uniform'}, Scoring Time: 0.019 s, Fitting Time: 0.0031 s\n",
            "-------------------\n",
            "Parameters: {'n_neighbors': 2, 'p': 1, 'weights': 'uniform'}, Scoring Time: 0.016 s, Fitting Time: 0.0032 s\n",
            "-------------------\n",
            "Parameters: {'n_neighbors': 2, 'p': 1, 'weights': 'uniform'}, Scoring Time: 0.016 s, Fitting Time: 0.0031 s\n",
            "-------------------\n",
            "Parameters: {'n_neighbors': 2, 'p': 1, 'weights': 'uniform'}, Scoring Time: 0.024 s, Fitting Time: 0.0031 s\n",
            "-------------------\n",
            "Parameters: {'n_neighbors': 2, 'p': 1, 'weights': 'uniform'}, Scoring Time: 0.033 s, Fitting Time: 0.0033 s\n",
            "-------------------\n",
            "Parameters: {'n_neighbors': 2, 'p': 1, 'weights': 'uniform'}, Scoring Time: 0.021 s, Fitting Time: 0.0054 s\n",
            "-------------------\n",
            "Parameters: {'n_neighbors': 2, 'p': 1, 'weights': 'uniform'}, Scoring Time: 0.014 s, Fitting Time: 0.0032 s\n",
            "-------------------\n",
            "Parameters: {'n_neighbors': 2, 'p': 1, 'weights': 'uniform'}, Scoring Time: 0.026 s, Fitting Time: 0.0031 s\n",
            "-------------------\n",
            "Parameters: {'n_neighbors': 2, 'p': 1, 'weights': 'uniform'}, Scoring Time: 0.01 s, Fitting Time: 0.0032 s\n",
            "-------------------\n",
            "Parameters: {'n_neighbors': 2, 'p': 1, 'weights': 'uniform'}, Scoring Time: 0.037 s, Fitting Time: 0.0033 s\n",
            "-------------------\n",
            "Parameters: {'n_neighbors': 2, 'p': 1, 'weights': 'uniform'}, Scoring Time: 0.082 s, Fitting Time: 0.012 s\n",
            "-------------------\n",
            "Parameters: {'n_neighbors': 2, 'p': 1, 'weights': 'uniform'}, Scoring Time: 0.015 s, Fitting Time: 0.0032 s\n",
            "-------------------\n",
            "Parameters: {'n_neighbors': 2, 'p': 1, 'weights': 'uniform'}, Scoring Time: 0.014 s, Fitting Time: 0.0031 s\n",
            "-------------------\n",
            "Parameters: {'n_neighbors': 2, 'p': 1, 'weights': 'uniform'}, Scoring Time: 0.018 s, Fitting Time: 0.0044 s\n",
            "-------------------\n",
            "Parameters: {'n_neighbors': 2, 'p': 1, 'weights': 'uniform'}, Scoring Time: 0.031 s, Fitting Time: 0.0036 s\n",
            "-------------------\n",
            "Parameters: {'n_neighbors': 2, 'p': 1, 'weights': 'uniform'}, Scoring Time: 0.025 s, Fitting Time: 0.0022 s\n",
            "-------------------\n",
            "Parameters: {'n_neighbors': 2, 'p': 1, 'weights': 'uniform'}, Scoring Time: 0.012 s, Fitting Time: 0.0039 s\n",
            "-------------------\n",
            "Parameters: {'n_neighbors': 2, 'p': 1, 'weights': 'uniform'}, Scoring Time: 0.013 s, Fitting Time: 0.0031 s\n",
            "-------------------\n",
            "Parameters: {'n_neighbors': 2, 'p': 1, 'weights': 'uniform'}, Scoring Time: 0.012 s, Fitting Time: 0.0037 s\n",
            "-------------------\n",
            "Parameters: {'n_neighbors': 2, 'p': 1, 'weights': 'uniform'}, Scoring Time: 0.011 s, Fitting Time: 0.0025 s\n",
            "-------------------\n"
          ]
        }
      ],
      "source": [
        "scoring_time = results['mean_score_time']\n",
        "fitting_time = results['mean_fit_time']\n",
        "\n",
        "for i in sorted_ix:\n",
        "  st = scoring_time[i]\n",
        "  ft = fitting_time[i]\n",
        "  print(f\"Parameters: {p}, Scoring Time: {st:.2g} s, Fitting Time: {ft:.2g} s\")\n",
        "  print(\"-------------------\")"
      ]
    },
    {
      "cell_type": "markdown",
      "metadata": {
        "id": "d7x32emEm4XJ"
      },
      "source": [
        "<span style=\"color:blue\"> <i> 3. Based on the results you obtained in Part 1 and 2, answer the following questions </i></span> <br>\n",
        "\n",
        "- Is it always better to use more neighbors?\n",
        "- Is it better to weigh the leaves, if yes, which distnace metric performs better?\n",
        "- GridCV returns fitting and scoring time for every combination. You will find that scoring time is higher than training time. Why do you think is that the case?"
      ]
    },
    {
      "cell_type": "markdown",
      "metadata": {
        "id": "GqTxrHqym4XJ"
      },
      "source": [
        "##### Answer:\n",
        "- No, there seems to be no obvious correlation between number of neighbors and mean score.\n",
        "\n",
        "- Yes, distance weighning is consistently better than no weights (uniform).\n",
        "\n",
        "- "
      ]
    },
    {
      "cell_type": "markdown",
      "metadata": {
        "id": "tVZfSsoDm4XJ"
      },
      "source": [
        "<span style=\"color:blue\"> <i> 4. Which parameters seem to affect the performance most? To better answer this question, make plots of the mean test score for each hyperparameter. </i></span> <br>\n",
        "\n",
        "Hint:\n",
        "Suppose you have two types of hyperparameters: A and B.\n",
        "Let A = [1, 2] and B = [1, 2, 4, 7, 10].\n",
        "\n",
        "Then, you have 20 different combination of hyperparameters.\n",
        "\n",
        "Let A = 1. Then, you can try (A,B) = (1,1), (1,2), (1,4), (1,7), (1,10)\n",
        "Suppose that the mean score you got for the above combination is [0.7, 0.72, 0.75, 0.77, 0.8].\n",
        "Similarly, for A = 2, you tried (A,B) = (2,1), (2,2), (2,4), (2,7), (2,10) and obtaind the mean score of [0.8, 0.82, 0.85, 0.87, 0.9].\n",
        "\n",
        "To better see how changing the value of paramter A affects the performance, you can make the following plot:"
      ]
    },
    {
      "cell_type": "code",
      "execution_count": 38,
      "metadata": {
        "collapsed": true,
        "id": "0sPNsVssm4XK",
        "colab": {
          "base_uri": "https://localhost:8080/",
          "height": 265
        },
        "outputId": "499afdcd-d556-4f69-a76e-c6435d0ac910"
      },
      "outputs": [
        {
          "output_type": "display_data",
          "data": {
            "text/plain": [
              "<Figure size 432x288 with 1 Axes>"
            ],
            "image/png": "[encoded data removed]"
          },
          "metadata": {
            "needs_background": "light"
          }
        }
      ],
      "source": [
        "A_1 = [0.7, 0.72, 0.75, 0.77, 0.8]\n",
        "A_2 = [0.8, 0.82, 0.85, 0.87, 0.9]\n",
        "\n",
        "plt.plot(A_1, label = \"A=1\")\n",
        "plt.plot(A_2, label = \"A=2\")\n",
        "plt.ylabel(\"mean test score\")\n",
        "plt.legend()\n",
        "plt.show()"
      ]
    },
    {
      "cell_type": "markdown",
      "metadata": {
        "id": "4IA07_WIm4XK"
      },
      "source": [
        "This is the plot of the mean test score for A marginalizing over B.\n",
        "\n",
        "Similarly, make a plot of the mean test score for each kNN hyperparameter."
      ]
    },
    {
      "cell_type": "code",
      "execution_count": null,
      "metadata": {
        "collapsed": true,
        "id": "N8Y59slPm4XK"
      },
      "outputs": [],
      "source": [
        "..."
      ]
    },
    {
      "cell_type": "markdown",
      "metadata": {
        "id": "U9sAJ2A9m4XK"
      },
      "source": [
        "<span style=\"color:blue\"> <i> 5. You have determined the best combination of hyperparameters and CV schemes. Predict the test y data using the GridSearchCV method. Use the \"rms\" metric function we defined earlier and calculate the rms error on the test data.  </i></span> <br>\n",
        "\n",
        "Hint: To determine the rms error, you need:\n",
        "\n",
        "Truth: given from data (test_data[1]) <br>\n",
        "Prediction: gridsearch.predict(test_data[0])\n",
        "(https://scikit-learn.org/stable/modules/generated/sklearn.model_selection.GridSearchCV.html)\n"
      ]
    },
    {
      "cell_type": "code",
      "execution_count": null,
      "metadata": {
        "collapsed": true,
        "id": "0M6SBfFAm4XK"
      },
      "outputs": [],
      "source": [
        "..."
      ]
    },
    {
      "cell_type": "markdown",
      "metadata": {
        "id": "Y1A05D2sm4XK"
      },
      "source": [
        "#### Classification"
      ]
    },
    {
      "cell_type": "code",
      "execution_count": null,
      "metadata": {
        "collapsed": true,
        "id": "ihuRo60cm4XL"
      },
      "outputs": [],
      "source": [
        "from sklearn.neighbors import KNeighborsClassifier\n",
        "# http://scikit-learn.org/stable/modules/generated/sklearn.neighbors.KNeighborsClassifier.html"
      ]
    },
    {
      "cell_type": "markdown",
      "metadata": {
        "id": "TurBhgyNm4XM"
      },
      "source": [
        "Here we will look at 4 different type of cross-validation schemes - \n",
        "- Kfold\n",
        "- Stratified Kfold\n",
        "- Shuffle Split\n",
        "- Stratified Shuffle Split\n",
        "\n",
        "<span style=\"color:blue\"> <i> 6. Assuming the list of hyperparameters from Part 1, do 4 different grid searches. From Part 1, take top 5 combination of hyperparameters which gives you the highest accuracy value. Rank the performance of CV schemes for each combination.  </i></span> <br>"
      ]
    },
    {
      "cell_type": "code",
      "execution_count": null,
      "metadata": {
        "collapsed": true,
        "id": "z9PPC4Ltm4XM"
      },
      "outputs": [],
      "source": [
        "from sklearn.model_selection import KFold, StratifiedKFold, ShuffleSplit, StratifiedShuffleSplit"
      ]
    },
    {
      "cell_type": "code",
      "execution_count": null,
      "metadata": {
        "collapsed": true,
        "id": "hSWjdI-Cm4XM"
      },
      "outputs": [],
      "source": [
        "parameters = {'n_neighbors':[2, 3, 5, 10, 15, 20, 25, 50, 100], 'weights':['uniform', 'distance'], 'p':[1, 2]}\n",
        "knnc = KNeighborsClassifier()\n",
        "\n",
        "#Grid Search\n",
        "gc = GridSearchCV(knnc, parameters, cv=KFold(4, random_state=100))\n",
        "#Do the fit\n",
        "...\n",
        "\n",
        "gc2 = GridSearchCV(knnc, parameters, cv=StratifiedKFold(4, random_state = 100))\n",
        "#Do the fit\n",
        "...\n",
        "\n",
        "gc3 = GridSearchCV(knnc, parameters, cv=ShuffleSplit(4, 0.1, random_state = 100))\n",
        "#Do the fit\n",
        "...\n",
        "\n",
        "gc4 = GridSearchCV(knnc, parameters, cv=StratifiedShuffleSplit(4, 0.1, random_state = 100))\n",
        "#Do the fit\n",
        "..."
      ]
    },
    {
      "cell_type": "markdown",
      "metadata": {
        "id": "1YQrX5fym4XM"
      },
      "source": [
        "<span style=\"color:blue\"> <i> 7. Answer the following questions: </i></span> <br>\n",
        "\n",
        "- Are the conclusions different for any parameter from the regression case?\n",
        "- Does the mean accuracy change for different CV scheme?\n",
        "- Does the standard deviation in mean accuracy change?"
      ]
    },
    {
      "cell_type": "code",
      "execution_count": null,
      "metadata": {
        "collapsed": true,
        "id": "3IlGDvRtm4XM"
      },
      "outputs": [],
      "source": [
        "..."
      ]
    },
    {
      "cell_type": "markdown",
      "metadata": {
        "id": "bz3JaY7Tm4XM"
      },
      "source": [
        "##### Answer:\n"
      ]
    },
    {
      "cell_type": "markdown",
      "metadata": {
        "id": "CJcD9Ghcm4XN"
      },
      "source": [
        "<span style=\"color:blue\"> <i> 8. Using the best combination of hyperparameters and CV schemes you have found, compute the confusion matrix (https://scikit-learn.org/stable/modules/generated/sklearn.metrics.confusion_matrix.html) and evaluate the accuracy.  </i></span> <br>\n",
        "\n",
        "Hint: To get a confusion matrix, you need both truth (available from data) and prediction (can be computed using .predict function from GridSearchCV (https://scikit-learn.org/stable/modules/generated/sklearn.model_selection.GridSearchCV.html)."
      ]
    },
    {
      "cell_type": "code",
      "execution_count": null,
      "metadata": {
        "collapsed": true,
        "id": "BWEpMaQ0m4XN"
      },
      "outputs": [],
      "source": [
        "..."
      ]
    },
    {
      "cell_type": "markdown",
      "metadata": {
        "id": "pyiSGHZLm4XN"
      },
      "source": [
        "### <span style=\"color:red\"> Option (2) </span>\n",
        "### Method 2. Random Forests\n",
        "\n",
        "The most important feature of the random forest is the number of trees in the ensemble. We will also play with the maximum depth of the trees.\n",
        "\n",
        "Try:<br>\n",
        "n_estimators = [10, 50, 150, 200, 300]<br>\n",
        "max_depth = [10, 50, 100]<br>"
      ]
    },
    {
      "cell_type": "code",
      "execution_count": null,
      "metadata": {
        "collapsed": true,
        "id": "ej1ggelOm4XN"
      },
      "outputs": [],
      "source": [
        "from sklearn.ensemble import RandomForestRegressor\n",
        "# http://scikit-learn.org/stable/modules/generated/sklearn.ensemble.RandomForestRegressor.html"
      ]
    },
    {
      "cell_type": "markdown",
      "metadata": {
        "id": "wuGZ6gm9m4XN"
      },
      "source": [
        "<span style=\"color:blue\"> <i> 1. Do the grid search over n_estimators and max_depth. List the combination of hyperparameters you tried and evaluate the accuracy (mean test score) and its standard deviation. Which gives the highest accuracy value?  </i></span> <br>\n"
      ]
    },
    {
      "cell_type": "code",
      "execution_count": null,
      "metadata": {
        "collapsed": true,
        "id": "fewmaHS_m4XO"
      },
      "outputs": [],
      "source": [
        "rf = RandomForestRegressor()\n",
        "parameters = ...\n",
        "\n",
        "gcrf = GridSearchCV(rf, parameters, cv=5)\n",
        "\n",
        "..."
      ]
    },
    {
      "cell_type": "markdown",
      "metadata": {
        "id": "ec-4U71Mm4XO"
      },
      "source": [
        "<span style=\"color:blue\"> <i> 2. Which parameters seem to affect the performance most? To better answer this question, make plots of the mean test score for each hyperparameter. (plot the mean test score of n_estimators marginalizing over max_depth, etc) </i></span> <br>"
      ]
    },
    {
      "cell_type": "code",
      "execution_count": null,
      "metadata": {
        "collapsed": true,
        "id": "Jdc1OoDNm4XO"
      },
      "outputs": [],
      "source": [
        "..."
      ]
    },
    {
      "cell_type": "markdown",
      "metadata": {
        "id": "DR58mn9Vm4XO"
      },
      "source": [
        "<span style=\"color:blue\"> <i> 3. Based on the results you obtained in Part 1, answer the following questions: </i></span> <br>\n",
        "\n",
        "- Are the scores of these models statistically different? Based on this, which architecture will you choose for your model?\n",
        "- For every parameter, make the plot for fitting time. Based on this and the previous question, how many trees do you recommend keeping in the ensemble?"
      ]
    },
    {
      "cell_type": "code",
      "execution_count": null,
      "metadata": {
        "collapsed": true,
        "id": "ep-6h0bym4XO"
      },
      "outputs": [],
      "source": [
        "..."
      ]
    },
    {
      "cell_type": "markdown",
      "metadata": {
        "id": "vRG_hN3pm4XP"
      },
      "source": [
        "##### Answer:\n"
      ]
    },
    {
      "cell_type": "markdown",
      "metadata": {
        "id": "39lYzyaDm4XP"
      },
      "source": [
        "<span style=\"color:blue\"> <i> 4. You have determined the best combination of hyperparameters. Predict the test y data using the GridSearchCV method. Use the \"rms\" metric function we defined earlier and calculate the rms error on the test data.  </i></span> <br>"
      ]
    },
    {
      "cell_type": "code",
      "execution_count": null,
      "metadata": {
        "collapsed": true,
        "id": "Iqw8SOVkm4XP"
      },
      "outputs": [],
      "source": [
        "..."
      ]
    },
    {
      "cell_type": "markdown",
      "metadata": {
        "id": "R334req1m4XP"
      },
      "source": [
        "#### Classification\n",
        "\n"
      ]
    },
    {
      "cell_type": "code",
      "execution_count": null,
      "metadata": {
        "collapsed": true,
        "id": "-_8Sslvpm4XP"
      },
      "outputs": [],
      "source": [
        "from sklearn.ensemble import RandomForestClassifier\n",
        "# http://scikit-learn.org/stable/modules/generated/sklearn.ensemble.RandomForestClassifier.html"
      ]
    },
    {
      "cell_type": "code",
      "execution_count": null,
      "metadata": {
        "collapsed": true,
        "id": "IA4EFS9em4XP"
      },
      "outputs": [],
      "source": [
        "#Grid search (This will take few minutes)\n",
        "\n",
        "rfc = RandomForestClassifier()\n",
        "parameters = ...\n",
        "\n",
        "gcrfc = GridSearchCV(rfc, parameters, cv=StratifiedShuffleSplit(4, 0.1, random_state = 100))\n",
        "\n",
        "..."
      ]
    },
    {
      "cell_type": "markdown",
      "metadata": {
        "id": "0bXjsRYwm4XP"
      },
      "source": [
        "<span style=\"color:blue\"> <i> 5. Assuming the list of hyperparameters from Part 1, do the grid search using StratifiedShuffleSplit CV scheme. List the combination of hyperparameters you tried and evaluate the accuracy (mean test score) and its standard deviation. Which gives the highest accuracy value?  </i></span> <br>"
      ]
    },
    {
      "cell_type": "code",
      "execution_count": null,
      "metadata": {
        "collapsed": true,
        "id": "I2os_Ebkm4XP"
      },
      "outputs": [],
      "source": [
        "..."
      ]
    },
    {
      "cell_type": "markdown",
      "metadata": {
        "id": "UXLA8LT6m4XQ"
      },
      "source": [
        "<span style=\"color:blue\"> <i> 6. Using the best combination of hyperparameters, compute the confusion matrix (https://scikit-learn.org/stable/modules/generated/sklearn.metrics.confusion_matrix.html) and evaluate the accuracy.  </i></span> <br>"
      ]
    },
    {
      "cell_type": "code",
      "execution_count": null,
      "metadata": {
        "collapsed": true,
        "id": "-XQ5kPLAm4XQ"
      },
      "outputs": [],
      "source": [
        "..."
      ]
    },
    {
      "cell_type": "markdown",
      "metadata": {
        "id": "F6Q1Y1FEm4XQ"
      },
      "source": [
        "***"
      ]
    },
    {
      "cell_type": "code",
      "execution_count": null,
      "metadata": {
        "collapsed": true,
        "id": "Mp3eo-DJm4XQ"
      },
      "outputs": [],
      "source": [
        "!if [ -d SIG_GIS ]; then rm -Rf SIG_GIS; fi\n",
        "!git clone https://github.com/biweidai/SIG_GIS.git"
      ]
    },
    {
      "cell_type": "code",
      "execution_count": null,
      "metadata": {
        "collapsed": true,
        "id": "JK3qxAfj0Bsf"
      },
      "outputs": [],
      "source": [
        "import torch\n",
        "import numpy as np\n",
        "import matplotlib.pyplot as plt\n",
        "import sys\n",
        "sys.path.append('./SIG_GIS/')\n",
        "from GIS import GIS"
      ]
    },
    {
      "cell_type": "markdown",
      "metadata": {
        "id": "Z4Rrt2ZUH4ov"
      },
      "source": [
        "#### Problem 4 - Generative model\n",
        "\n",
        "In the 3 problems above we worked on classification and regression. For those tasks we are given the labels and features of some data, and we try to predict the labels or features of the new data. This is supervised learning. Unsupervised learning is another important field in Machine Learning. In contrast to supervised learning that usually makes use of human-labeled data, unsupervised learning works with datasets with no pre-existing labels and with minimum human supervision (https://en.wikipedia.org/wiki/Unsupervised_learning). In HW 2 we have used UMAP to reduce the dimensionality of MNIST dataset, and then used HDBSCAN to do cluster analysis on the low dimension representation of MNIST. In HW 3 we used Principle Component Analysis (PCA) to model the Quasar spectrum and MNIST. In HW 4 we used Independent Component Analysis (ICA) to identify independent sources in mixed signals. These are all examples of unsupervised learning.\n",
        "\n",
        "#### Normalizing Flow\n",
        "\n",
        "In this problem we will train some generative models. Generative model is an important topic in unsupervised learning. It tries to learn the underlying probability density of the given data (either explicitly or implicitly) so as to generate new data. Some popular models include autoregressive models, Normalizing Flows (NF), Variational Auto-Encoders (VAE), and Generative Adverserial Networks (GAN). In HW 7 we have used a pretrained VAE to reconstruct MNIST images from incomplete and noisy data. In this problem we will focus on NFs. This exercise is based on https://arxiv.org/abs/2007.00674 .\n",
        "\n",
        "A NF maps the data $x$ to latent variables $z$ through a sequence of invertible transformations $f = f_1 \\circ f_2 \\circ ... \\circ f_n$, such that $z = f(x)$ and $z$ is mapped to a base distribution $\\pi(z)$, which is normally chosen to be a standard Gaussian distribution. The probability density of data $x$ can be evaluated using the change of variables formula:\n",
        "\n",
        "$$p(x) = \\pi(f(x)) |\\det \\left(\\frac{\\partial f(x)}{\\partial x}\\right)| = \\pi(f(x)) \\prod_{l=1}^n |\\det \\left(\\frac{\\partial f_l(x)}{\\partial x}\\right)| .$$\n",
        "\n",
        "In order to efficiently evaluate the density, the determinant of the Jacobian of each transformation $\\det (\\frac{\\partial f_l(x)}{\\partial x})$ must be easy to compute. \n",
        "\n",
        "#### Pytorch\n",
        "\n",
        "In HW 7 and this project we have used the Tensorflow and Keras framework. PyTorch is another machine learning framework that becomes very popular in recent years. Compared to Tensorflow, PyTorch is very similar to numpy and very pythonic, and therefore is easy to learn if you are already familiar with Python. While Tensorflow is currently the platform of choice in industry, PyTorch is more popular in the research community. In this problem we will use PyTorch to help you become familiar with this platform. Here is a great tutorial on PyTorch basics: https://pytorch.org/tutorials/beginner/deep_learning_60min_blitz.html . We encourage you to read at least the first topic of the tutorial (What is PyTorch?). We will also give you some examples on PyTorch in the following questions."
      ]
    },
    {
      "cell_type": "markdown",
      "metadata": {
        "id": "vUrvfMq-gB2O"
      },
      "source": [
        "We first look at a simple 1D example. Note that in 1D one has many different ways to estimate the data density, e.g., Kernel Density Estimation (KDE), Gaussian Mixture Model (GMM), histogram, etc.(https://scikit-learn.org/stable/modules/density.html). One does not have to use NF. We give you this 1D example just to show you how NF works. High dimensional problem is where NFs really outperform those methods, and we will look at high dimensional problems later. \n",
        "\n",
        "<span style=\"color:blue\"> <i> 1. Firstly, load in the data and make a histogram plot of the pdf of data. Set the number of bins to 50. Make sure your histogram plot is normalized.</i></span>"
      ]
    },
    {
      "cell_type": "code",
      "execution_count": null,
      "metadata": {
        "collapsed": true,
        "id": "16FrSFCAH16P"
      },
      "outputs": [],
      "source": [
        "data = np.load('/content/drive/My Drive/P188_288/P188_288_Project3/data_ThreeGaussian.npy')"
      ]
    },
    {
      "cell_type": "code",
      "execution_count": null,
      "metadata": {
        "collapsed": true,
        "id": "xvdXp00lm4XQ"
      },
      "outputs": [],
      "source": [
        "..."
      ]
    },
    {
      "cell_type": "markdown",
      "metadata": {
        "id": "EBBXwN_cvCrL"
      },
      "source": [
        "Now let's use NF to model the data pdf. Assuming that the true data distribution is $p(x)$, our goal is to find an invertible transformation $f$ to map the data $x$ to some latent variables $z=f(x)$ such that $z$ follows a standard Gaussian distribution. For 1D, the solution $f(x)$ is easy to find:\n",
        "$$f(x)=G^{-1}(F(x)) ,$$\n",
        "where $F$ is the Cumulative Distribution Function (CDF) of data distribution, and $G$ is the CDF of standard Gaussian. Then the pdf of data $p(x)$ is given by the change of variable formula\n",
        "$$p(x)=N(f(x))|\\frac{df(x)}{dx}| ,$$\n",
        "where $N$ is the pdf of standard Gaussian. \n",
        "\n",
        "In this problem we will approximate $f(x)$ using piecewise rational quadratic spline functions, which are monotonic, differentiable and analytically invertible. Here we provide you an example of using piecewise rational quadratic spline functions to approximate a simple function $y=x^3$, and then calculate the function derivative and invert the function."
      ]
    },
    {
      "cell_type": "code",
      "execution_count": null,
      "metadata": {
        "collapsed": true,
        "id": "-QoRJjtS4Soc"
      },
      "outputs": [],
      "source": [
        "from RQspline import RQspline\n",
        "\n",
        "def RQspline_interp(x, y):\n",
        "\n",
        "    #x and y are torch 1d tensors and they must be strictly monotonic\n",
        "\n",
        "    assert x.ndim == 1 and y.ndim == 1\n",
        "    assert len(x) == len(y)\n",
        "\n",
        "    ndim = 1\n",
        "    nknot = len(x)\n",
        "    spline = RQspline(ndim, nknot).requires_grad_(False)\n",
        "\n",
        "    dy = y[1:] - y[:-1]\n",
        "    dx = x[1:] - x[:-1]\n",
        "    assert (dx>0).all() and (dy>0).all()\n",
        "\n",
        "    h = dx\n",
        "    s = dy / dx\n",
        "    deriv = torch.zeros_like(x)\n",
        "    deriv[1:-1] = (s[:-1]*h[1:] + s[1:]*h[:-1]) / (h[1:] + h[:-1])\n",
        "    deriv[0] = dy[0] / dx[0]\n",
        "    deriv[-1] = dy[-1] / dx[-1]\n",
        "\n",
        "    spline.set_param(x.reshape(1,-1), y.reshape(1,-1), deriv.reshape(1,-1))\n",
        "    return spline"
      ]
    },
    {
      "cell_type": "code",
      "execution_count": null,
      "metadata": {
        "collapsed": true,
        "id": "lzSmQ4dxvtZM"
      },
      "outputs": [],
      "source": [
        "# create an array of x and y\n",
        "x = np.linspace(-3, 3, 10, endpoint=True)\n",
        "y = x**3\n",
        "\n",
        "# transform x and y to PyTorch tensors\n",
        "x = torch.tensor(x)\n",
        "y = torch.tensor(y)\n",
        "\n",
        "# define piecewise ratianal quadratic spline functions\n",
        "spline = RQspline_interp(x, y)"
      ]
    },
    {
      "cell_type": "code",
      "execution_count": null,
      "metadata": {
        "colab": {
          "base_uri": "https://localhost:8080/",
          "height": 265
        },
        "id": "hDK6A8296bug",
        "outputId": "60205cff-2986-4321-c315-5eae1d184277"
      },
      "outputs": [
        {
          "data": {
            "image/png": "[encoded data removed]",
            "text/plain": [
              "<Figure size 432x288 with 1 Axes>"
            ]
          },
          "metadata": {
            "needs_background": "light",
            "tags": []
          },
          "output_type": "display_data"
        }
      ],
      "source": [
        "#plot original function\n",
        "x_plot = np.linspace(-3, 3, 100, endpoint=True)\n",
        "y_plot = x_plot**3\n",
        "plt.plot(x_plot, y_plot, label='$y=x^3$')\n",
        "\n",
        "#Create PyTorch tensor x. The data type must be float (not double), and the shape must be (n, 1)\n",
        "x_plot_tensor = torch.tensor(x_plot).float().reshape(-1,1)\n",
        "\n",
        "#Call the spline function. It returns y and log(dy/dx)\n",
        "y_plot_tensor, log_deriv = spline(x_plot_tensor)\n",
        "plt.plot(x_plot_tensor.numpy(), y_plot_tensor.numpy(), label='interpolation')\n",
        "plt.legend()\n",
        "plt.show()"
      ]
    },
    {
      "cell_type": "markdown",
      "metadata": {
        "id": "iNSwIuqd_L7u"
      },
      "source": [
        "The derivative from interpolation"
      ]
    },
    {
      "cell_type": "code",
      "execution_count": null,
      "metadata": {
        "colab": {
          "base_uri": "https://localhost:8080/",
          "height": 265
        },
        "id": "5YBnJYCb88Rg",
        "outputId": "bd991b02-ba40-4cda-cfc0-0db36e3cedc9"
      },
      "outputs": [
        {
          "data": {
            "image/png": "[encoded data removed]",
            "text/plain": [
              "<Figure size 432x288 with 1 Axes>"
            ]
          },
          "metadata": {
            "needs_background": "light",
            "tags": []
          },
          "output_type": "display_data"
        }
      ],
      "source": [
        "#plot dy/dx\n",
        "deriv = 3*x_plot**2\n",
        "plt.plot(x_plot, deriv, label='derivative of $y=x^3$')\n",
        "\n",
        "#plot dy/dx of interpolation\n",
        "plt.plot(x_plot_tensor.numpy(), torch.exp(log_deriv).numpy(), label='derivative of interpolation')\n",
        "plt.legend()\n",
        "plt.show()"
      ]
    },
    {
      "cell_type": "markdown",
      "metadata": {
        "id": "-QkozxMj-iRL"
      },
      "source": [
        "The derivatives are not accurate around the boundaries due to boundary effect."
      ]
    },
    {
      "cell_type": "markdown",
      "metadata": {
        "id": "E4ojVIF9_srH"
      },
      "source": [
        "Invert the function"
      ]
    },
    {
      "cell_type": "code",
      "execution_count": null,
      "metadata": {
        "colab": {
          "base_uri": "https://localhost:8080/",
          "height": 300
        },
        "id": "xErqoleJ91dd",
        "outputId": "ade63500-e761-409b-d6c0-77fb612f1801"
      },
      "outputs": [
        {
          "name": "stderr",
          "output_type": "stream",
          "text": [
            "/usr/local/lib/python3.6/dist-packages/ipykernel_launcher.py:2: RuntimeWarning: invalid value encountered in power\n",
            "  \n"
          ]
        },
        {
          "data": {
            "image/png": "[encoded data removed]",
            "text/plain": [
              "<Figure size 432x288 with 1 Axes>"
            ]
          },
          "metadata": {
            "needs_background": "light",
            "tags": []
          },
          "output_type": "display_data"
        }
      ],
      "source": [
        "# invert the original function\n",
        "y_plot = x_plot**(1/3)\n",
        "plt.plot(x_plot, y_plot, label='$y=x^{1/3}$')\n",
        "\n",
        "#Invert the spline function. \n",
        "y_plot_tensor = spline.inverse(x_plot_tensor)[0]\n",
        "plt.plot(x_plot_tensor.numpy(), y_plot_tensor.numpy(), label='inversion of spline functions')\n",
        "plt.legend()\n",
        "plt.show()"
      ]
    },
    {
      "cell_type": "markdown",
      "metadata": {
        "id": "kXukGJeWy1Hk"
      },
      "source": [
        "<span style=\"color:blue\"> <i> 2. Estimate the transformation $f(x)$ that transforms the data to a standard Gaussian distribution. Follow the above example, use RQspline_interp function to approximate $f(x)$. Plot $f(x)$, $\\frac{df(x)}{dx}$, and $f^{-1}(x)$. Set your x to be within (-5, 5) when making the plot. </i></span>"
      ]
    },
    {
      "cell_type": "code",
      "execution_count": null,
      "metadata": {
        "collapsed": true,
        "id": "hOq2LuYXDtAy"
      },
      "outputs": [],
      "source": [
        "..."
      ]
    },
    {
      "cell_type": "markdown",
      "metadata": {
        "id": "JASbinKCDtwC"
      },
      "source": [
        "<span style=\"color:blue\"> <i> 3. Calculate latent variable $z=f(x)$. Make a histogram of pdf of $z$. Does it follow a Gaussian distribution? </i></span>"
      ]
    },
    {
      "cell_type": "code",
      "execution_count": null,
      "metadata": {
        "collapsed": true,
        "id": "ma73Md3Mm4XT"
      },
      "outputs": [],
      "source": [
        "..."
      ]
    },
    {
      "cell_type": "markdown",
      "metadata": {
        "id": "Hc1sGRJjEMRk"
      },
      "source": [
        "<span style=\"color:blue\"> <i> 4. Now let's estimate the pdf of the data using the \n",
        "change of variable formula $p(x)=N(f(x))|\\frac{df(x)}{dx}|$. Make a plot of $p(x)$. How does it compare with the histogram in Q1?</i></span>"
      ]
    },
    {
      "cell_type": "code",
      "execution_count": null,
      "metadata": {
        "collapsed": true,
        "id": "yKsEl-eRm4XT"
      },
      "outputs": [],
      "source": [
        "..."
      ]
    },
    {
      "cell_type": "markdown",
      "metadata": {
        "id": "qSfM3o3EajS6"
      },
      "source": [
        "The pdf is noisy. One could apply regularization when modeling to get a smoother pdf."
      ]
    },
    {
      "cell_type": "markdown",
      "metadata": {
        "id": "8S30mrHSE5xr"
      },
      "source": [
        "NFs allow us to sample from $p(x)$ to create new data. The idea is to firstly sample latent variable $z$ from $N(0,I)$ using torch.randn(nsample, ndim), and then transform $z$ to $x$ with inverse transform $f^{-1}$."
      ]
    },
    {
      "cell_type": "markdown",
      "metadata": {
        "id": "vlhBjy7AEy21"
      },
      "source": [
        "<span style=\"color:blue\"> <i> 5. Sample from $p(x)$ using $x=f^{-1}(z)$. Get 10000 samples. Make a histogram of the pdf of samples. Does it agree with Q1 and Q4? </i></span>"
      ]
    },
    {
      "cell_type": "code",
      "execution_count": null,
      "metadata": {
        "collapsed": true,
        "id": "zZxfSI-am4XU"
      },
      "outputs": [],
      "source": [
        "..."
      ]
    },
    {
      "cell_type": "markdown",
      "metadata": {
        "id": "Xu-2odG0GYYE"
      },
      "source": [
        "We have built a NF model in 1D. Now let's look at multidimensional problems. Similar to 1D, our goal is to construct an invertile transformation $f$ that transforms data $x$ to latent variables $z$ that follow standard Gaussian distribution. There are multiple ways to build such transformations. For example, lots of NF models parametrize $f$ with neural networks, and the parameters are trained with maximum likelihood. Here we use a different approach and solve this problem iteratively. In each iteration, we view the N-dimensional problem as N 1-dimensional problem, and use the transformation we developed in 1D to transform these N 1-dimensional variables to standard Gaussian. For example, say your dataset is 2-dimensional $x=\\{x_1, x_2\\}$. We apply transformations $z_1=f_1(x_1)$ and $z_2=f_2(x_2)$ such that $z_1$ and $z_2$ follow Gaussian distribution separately. However, $z_1$ and $z_2$ combined are not Gaussian, so in the next iteration, we apply a rotation to $\\{z_1,z_2\\}$, and then redo the 1D Gaussianization on all of the variables. We keep iterating until the pdf of variables converge to Gaussian. The rotation matrix in each iteration will be determined by ICA (see HW 4) to maximizes the independence (non-Gaussianity) of different axes. This model is called GIS (Gaussianizing Iterative Slicing). \n",
        "\n"
      ]
    },
    {
      "cell_type": "markdown",
      "metadata": {
        "id": "QwR8iWytkEep"
      },
      "source": [
        "<span style=\"color:blue\"> <i> 6. Follow the instructions below and use GIS to model the 2D dataset. Transform the training and test data to latent space, and make scatter plots. Do they follow Gaussian distribution? Print the mean logp of training, validation and test data. Plot the logp field using imshow. </i></span>\n",
        "\n",
        "1.   Divide the data into training (80%), validation (10%) and test (10%) set. Transform them into Pytorch tensors. \n",
        "2.   Apply the GIS model to the data: model=GIS(data_train, data_validate)\n",
        "3.   Transform the data to latent space: latent = model.forward(data)[0]. Make scatter plots of the latent training data and latent test data.\n",
        "4.   Evaluate the logp of training, validation and test data using logp = model.evaluate_density(data). Print the mean logp of each set.\n",
        "5.   Create 2-dimensional grid points x. Evaluate the logp on the grid points. Plot the logp field using plt.imshow."
      ]
    },
    {
      "cell_type": "code",
      "execution_count": null,
      "metadata": {
        "collapsed": true,
        "id": "Vu5KW4gxdbPA"
      },
      "outputs": [],
      "source": [
        "data = np.load('/content/drive/My Drive/P188_288/P188_288_Project3/data_TwoSpiral.npy')"
      ]
    },
    {
      "cell_type": "code",
      "execution_count": null,
      "metadata": {
        "colab": {
          "base_uri": "https://localhost:8080/",
          "height": 265
        },
        "id": "7mX2oD-nTxnR",
        "outputId": "3af85c9b-6cb3-4e98-a99b-92ba5e70c904",
        "scrolled": true
      },
      "outputs": [
        {
          "data": {
            "image/png": "[encoded data removed]",
            "text/plain": [
              "<Figure size 432x288 with 1 Axes>"
            ]
          },
          "metadata": {
            "needs_background": "light",
            "tags": []
          },
          "output_type": "display_data"
        }
      ],
      "source": [
        "plt.scatter(data[:,0], data[:,1], s=5)\n",
        "plt.show()"
      ]
    },
    {
      "cell_type": "code",
      "execution_count": null,
      "metadata": {
        "collapsed": true,
        "id": "P2bTGCp7m4XV"
      },
      "outputs": [],
      "source": [
        "..."
      ]
    },
    {
      "cell_type": "code",
      "execution_count": null,
      "metadata": {
        "collapsed": true,
        "id": "Byi5CZzfm4XV"
      },
      "outputs": [],
      "source": [
        "print('Mean logp for training data:', ...)\n",
        "print('Mean logp for validation data:', ...)\n",
        "print('Mean logp for test data:', ...)"
      ]
    },
    {
      "cell_type": "code",
      "execution_count": null,
      "metadata": {
        "collapsed": true,
        "id": "rNr8Qbxgm4XV"
      },
      "outputs": [],
      "source": [
        "..."
      ]
    },
    {
      "cell_type": "markdown",
      "metadata": {
        "id": "tfFYPaxoF-nb"
      },
      "source": [
        "<span style=\"color:blue\"> <i> 7. Create samples by firstly sample latent variables from standard Gaussian using torch.randn(nsample, ndim), and then transform the latent variables to data space using sample = model.inverse(latent)[0]. Make a scatter plot of the samples. Do they look similar to the data? </i></span>"
      ]
    },
    {
      "cell_type": "code",
      "execution_count": null,
      "metadata": {
        "collapsed": true,
        "id": "JGO4zX29m4XW"
      },
      "outputs": [],
      "source": [
        "..."
      ]
    },
    {
      "cell_type": "markdown",
      "metadata": {
        "id": "iStdOnYp8QDU"
      },
      "source": [
        "We have applied GIS to 1D and 2D toy exampels. Now let's look at a real-world dataset. The HEPMASS dataset (https://archive.ics.uci.edu/ml/datasets/HEPMASS) is one of the standard dataset for testing the performance of density estimation models. This dataset comes from particle collisions in high-energy physics experiments, with data dimensionality 21. Run the below cell to load in HEPMASS dataset. The data has already been preprocessed. The original dataset has 315123 training data. In this question we only use 10000 of them. The validation and test set are kept the same as the original dataset. "
      ]
    },
    {
      "cell_type": "code",
      "execution_count": null,
      "metadata": {
        "collapsed": true,
        "id": "ONjv5oef-g1l"
      },
      "outputs": [],
      "source": [
        "data_train = np.load('/content/drive/My Drive/P188_288/P188_288_Project3/HEPMASS_train.npy')\n",
        "data_validate = np.load('/content/drive/My Drive/P188_288/P188_288_Project3/HEPMASS_validate.npy')\n",
        "data_test = np.load('/content/drive/My Drive/P188_288/P188_288_Project3/HEPMASS_test.npy')"
      ]
    },
    {
      "cell_type": "markdown",
      "metadata": {
        "id": "3oaAUZWyGw0p"
      },
      "source": [
        "<span style=\"color:blue\"> <i> 8. Apply GIS to the HEPMASS dataset, and print the mean logp of training, validation and test data. Model the same dataset with Kernel Density Estimation (KDE) using sklearn.neighbors.KernelDensity. Find the optimal bandwidth of KDE kernels that maximizes the mean logp of validation set. Print the mean logp of training, validation and test data from KDE. Which method gives you better results? \n",
        "\n",
        "You could use a GPU in this question by going to Edit -> Notebook Settings -> Hardware accelerator -> GPU -> SAVE. If GPU is enabled, the model returned by GIS function will be on GPU. Before calculating mean logp, you should either move the model to CPU by doing model = model.cpu(), or move the data to GPU by doing data = data.cuda(). </i></span>"
      ]
    },
    {
      "cell_type": "code",
      "execution_count": null,
      "metadata": {
        "collapsed": true,
        "id": "h0DAzbSICLyu"
      },
      "outputs": [],
      "source": [
        "..."
      ]
    },
    {
      "cell_type": "code",
      "execution_count": null,
      "metadata": {
        "collapsed": true,
        "id": "jkko2NEUm4XW"
      },
      "outputs": [],
      "source": [
        "print('GIS:')\n",
        "print('Mean logp for training data:', ...)\n",
        "print('Mean logp for validation data:', ...)\n",
        "print('Mean logp for test data:', ...)"
      ]
    },
    {
      "cell_type": "code",
      "execution_count": null,
      "metadata": {
        "collapsed": true,
        "id": "XY9-tgWQm4XW"
      },
      "outputs": [],
      "source": [
        "..."
      ]
    },
    {
      "cell_type": "code",
      "execution_count": null,
      "metadata": {
        "collapsed": true,
        "id": "O6kdUy8-m4XW"
      },
      "outputs": [],
      "source": [
        "print('KDE with optimal bandwidth:')\n",
        "print('Mean logp for training data:', ...)\n",
        "print('Mean logp for validation data:', ...)\n",
        "print('Mean logp for test data:', ...)"
      ]
    },
    {
      "cell_type": "markdown",
      "metadata": {
        "id": "WHt0DlKtHoCN"
      },
      "source": [
        "GIS iteratively maps the data to latent variables $z$ which follow Gaussian distribution. The mapping is invertible, so another way to build the NF is to start from latent Gaussian variables $z$, and then iteratively maps them to data. This model learns the mapping in the opposite direction of GIS, so we name it SIG (Sliced Iterative Generator). While GIS is good at density estimation, SIG normally gives samples with better quanlity in high dimensions. In the next question you will train SIG on MNIST dataset and then generate some samples of hand written digits."
      ]
    },
    {
      "cell_type": "markdown",
      "metadata": {
        "id": "81LIgTEnrrzK"
      },
      "source": [
        "\n",
        "<span style=\"color:blue\"> <i> 9. Follow the instructions below and use SIG to model the MNIST dataset. Plot any 5 of your test samples. Then use the same latent variable and plot the corresponding sample for 0, 10, 20, 50 and 100 iterations. Make sure that you use a GPU in this question by going to Edit -> Notebook Settings -> Hardware accelerator -> GPU -> SAVE. </i></span>\n",
        "\n",
        "1.   Load in data: data_train, data_test = load_data_mnist()\n",
        "2.   Data preprocessing: data = preprocess(data)\n",
        "3.   Define the model: model = SIT(ndim=784).requires_grad_(False)\n",
        "4.   Create 60k Gaussian samples for training: sample = torch.randn(nsample, ndim). Create 100 Gaussian samples for test (sample_test).\n",
        "5.   Apply 100 iterations. To add one iteration, do \n",
        "\n",
        "     model, sample, sample_test = add_one_layer_inverse(model, data_train, sample, n_component, nsample_wT, nsample, sample_test=sample_test, batchsize=batchsize).\n",
        "\n",
        "     Set hyperparameters n_component=56, nsample_wT=60000, nsample=60000.\n",
        "\n",
        "     Set batchsize=10000 to prevent out of memory issue.\n",
        "6.   Plot any 5 of your test samples. You could transform the sample_test to images using: sample_test_image = toimage(sample_test, shape=[28,28]). \n",
        "7.   Generate a random latent variable using torch.randn(nsample, ndim). Plot the corresponding sample for 0, 10, 20, 50 and 100 iterations. For example, to apply 20 iterations on the latent variable, do sample_20iter = model.inverse(latent, end=-20)[0]. Note that you should use the same latent variable for generating these 5 samples."
      ]
    },
    {
      "cell_type": "code",
      "execution_count": null,
      "metadata": {
        "collapsed": true,
        "id": "psluw_pb7NaW"
      },
      "outputs": [],
      "source": [
        "from load_data import load_data_mnist\n",
        "from SIT import SIT\n",
        "from SIG import add_one_layer_inverse, preprocess, toimage"
      ]
    },
    {
      "cell_type": "code",
      "execution_count": null,
      "metadata": {
        "collapsed": true,
        "id": "Qt0eJho_m4XW"
      },
      "outputs": [],
      "source": [
        "..."
      ]
    },
    {
      "cell_type": "markdown",
      "metadata": {
        "id": "Br45WTiHH-1L"
      },
      "source": [
        "The samples should be pretty noisy, but you should be able tell which digits they are. To get better samples, you need to use patch-based modeling, which takes advantage of the fact that neighboring pixels in images have stronger correlations than pixels that are far away. For more details on patch-based modeling, see https://arxiv.org/abs/2007.00674 ."
      ]
    },
    {
      "cell_type": "markdown",
      "metadata": {
        "id": "th2MfpoCLF3H"
      },
      "source": [
        "<span style=\"color:blue\"> <i> 10. Follow the instruction below and add 100 more patch-based iterations to SIG (this takes about 1.5 h). Plot the same 5 test samples as Q9 part 6. Do they look better now? </i></span>\n",
        "\n",
        "To add one patch-based iteration, do \n",
        "\n",
        "model, sample, sample_test = add_one_layer_inverse(model, data_train, sample, n_component, nsample_wT, nsample, sample_test=sample_test, batchsize=batchsize, layer_type='patch', shape=[28,28,1], kernel=kernel, shift=shift).\n",
        "\n",
        "For the first 50 iterations, set n_component=28, kernel=[14,14,1], shift=torch.randint(14, (2,)).tolist() (random shift for each iteration)\n",
        "\n",
        "For the next 30 iterations, set  n_component=14, kernel=[7,7,1], shift=torch.randint(7, (2,)).tolist() (random shift for each iteration)\n",
        "\n",
        "For the last 30 iterations, set  n_component=8, kernel=[4,4,1], shift=torch.randint(4, (2,)).tolist() (random shift for each iteration)\n",
        "\n",
        "The other hyperparameters are the same as Q9."
      ]
    },
    {
      "cell_type": "code",
      "execution_count": null,
      "metadata": {
        "collapsed": true,
        "id": "V1keJzosm4XX"
      },
      "outputs": [],
      "source": [
        "..."
      ]
    },
    {
      "cell_type": "code",
      "execution_count": null,
      "metadata": {
        "collapsed": true,
        "id": "9zDQf0TtJSmt"
      },
      "outputs": [],
      "source": [
        "#save the model for future use\n",
        "torch.save(model, '/content/drive/My Drive/P188_288/P188_288_Project3/SIG')\n",
        "\n",
        "#load the model\n",
        "#model = torch.load('/content/drive/My Drive/P188_288/P188_288_Project3/SIG')"
      ]
    },
    {
      "cell_type": "code",
      "execution_count": null,
      "metadata": {
        "collapsed": true,
        "id": "TNlJK2Q2m4XX"
      },
      "outputs": [],
      "source": [
        "..."
      ]
    },
    {
      "cell_type": "code",
      "execution_count": null,
      "metadata": {
        "collapsed": true,
        "id": "Xp50CHAQqw2L"
      },
      "outputs": [],
      "source": []
    },
    {
      "cell_type": "markdown",
      "metadata": {
        "id": "0aGfxfLJm4XX"
      },
      "source": [
        "***"
      ]
    }
  ],
  "metadata": {
    "kernelspec": {
      "display_name": "Python 3",
      "language": "python",
      "name": "python3"
    },
    "language_info": {
      "codemirror_mode": {
        "name": "ipython",
        "version": 3
      },
      "file_extension": ".py",
      "mimetype": "text/x-python",
      "name": "python",
      "nbconvert_exporter": "python",
      "pygments_lexer": "ipython3",
      "version": "3.6.8"
    },
    "colab": {
      "provenance": [],
      "collapsed_sections": [
        "oV4gTtRSm4W_",
        "pyiSGHZLm4XN",
        "R334req1m4XP",
        "Z4Rrt2ZUH4ov"
      ],
      "include_colab_link": true
    }
  },
  "nbformat": 4,
  "nbformat_minor": 0
}